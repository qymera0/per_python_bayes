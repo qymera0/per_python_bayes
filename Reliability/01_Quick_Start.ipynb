{
 "cells": [
  {
   "cell_type": "markdown",
   "id": "ed56911c-087c-4fd6-bc80-1e9799252771",
   "metadata": {},
   "source": [
    "# Quickstart for reliability"
   ]
  },
  {
   "cell_type": "markdown",
   "id": "aa3491cb-003e-4f38-9972-a8bcf5076576",
   "metadata": {},
   "source": [
    "## Load libraries"
   ]
  },
  {
   "cell_type": "code",
   "execution_count": 1,
   "id": "62d71263-130b-496f-8c3d-adcdbc4b845c",
   "metadata": {},
   "outputs": [],
   "source": [
    "import matplotlib.pyplot as plt\n",
    "\n",
    "from reliability.Distributions import Weibull_Distribution\n",
    "from reliability.Fitters import Fit_Weibull_2P\n",
    "from reliability.Probability_plotting import plot_points"
   ]
  },
  {
   "cell_type": "code",
   "execution_count": 2,
   "id": "eab9b615-cd4f-4c7b-9f61-86065a681552",
   "metadata": {},
   "outputs": [],
   "source": [
    "dist = Weibull_Distribution(alpha = 30, beta = 2)"
   ]
  },
  {
   "cell_type": "code",
   "execution_count": null,
   "id": "e5c35038-2a3b-4f10-8921-12406e974f49",
   "metadata": {},
   "outputs": [],
   "source": []
  }
 ],
 "metadata": {
  "kernelspec": {
   "display_name": "Python 3 (ipykernel)",
   "language": "python",
   "name": "python3"
  },
  "language_info": {
   "codemirror_mode": {
    "name": "ipython",
    "version": 3
   },
   "file_extension": ".py",
   "mimetype": "text/x-python",
   "name": "python",
   "nbconvert_exporter": "python",
   "pygments_lexer": "ipython3",
   "version": "3.11.6"
  }
 },
 "nbformat": 4,
 "nbformat_minor": 5
}
