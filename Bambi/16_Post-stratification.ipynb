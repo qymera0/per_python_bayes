{
 "cells": [
  {
   "cell_type": "markdown",
   "id": "3eac4364-9e24-4994-bfaf-0ca54cde7e8d",
   "metadata": {},
   "source": [
    "# Multilevel Regression and Post-stratification"
   ]
  },
  {
   "cell_type": "markdown",
   "id": "ae913ebf-a979-49fb-ba52-6d475069101c",
   "metadata": {},
   "source": [
    "## Load libraries"
   ]
  },
  {
   "cell_type": "code",
   "execution_count": 25,
   "id": "637aaf66-6e52-4b22-bf95-2fa86c4165c9",
   "metadata": {
    "tags": []
   },
   "outputs": [],
   "source": [
    "import warnings\n",
    "\n",
    "import arviz as az\n",
    "import bambi as bmb\n",
    "import matplotlib.pyplot as plt\n",
    "import numpy as np\n",
    "import pandas as pd\n",
    "import pymc as pm\n",
    "\n",
    "warnings.simplefilter(action=\"ignore\", category=FutureWarning)"
   ]
  },
  {
   "cell_type": "markdown",
   "id": "144dbaf7-9201-4bed-a675-81de46ac3e5a",
   "metadata": {},
   "source": [
    "## Load data"
   ]
  },
  {
   "cell_type": "code",
   "execution_count": 2,
   "id": "05c9785e-c930-48dd-9284-d3319234f6f0",
   "metadata": {
    "tags": []
   },
   "outputs": [
    {
     "data": {
      "text/html": [
       "<div>\n",
       "<style scoped>\n",
       "    .dataframe tbody tr th:only-of-type {\n",
       "        vertical-align: middle;\n",
       "    }\n",
       "\n",
       "    .dataframe tbody tr th {\n",
       "        vertical-align: top;\n",
       "    }\n",
       "\n",
       "    .dataframe thead th {\n",
       "        text-align: right;\n",
       "    }\n",
       "</style>\n",
       "<table border=\"1\" class=\"dataframe\">\n",
       "  <thead>\n",
       "    <tr style=\"text-align: right;\">\n",
       "      <th></th>\n",
       "      <th>name</th>\n",
       "      <th>Risk_Strata</th>\n",
       "      <th>Treatment</th>\n",
       "      <th>Outcome</th>\n",
       "      <th>Treatment_x_Risk_Strata</th>\n",
       "    </tr>\n",
       "  </thead>\n",
       "  <tbody>\n",
       "    <tr>\n",
       "      <th>0</th>\n",
       "      <td>Rheia</td>\n",
       "      <td>0</td>\n",
       "      <td>0</td>\n",
       "      <td>0</td>\n",
       "      <td>0</td>\n",
       "    </tr>\n",
       "    <tr>\n",
       "      <th>1</th>\n",
       "      <td>Kronos</td>\n",
       "      <td>0</td>\n",
       "      <td>0</td>\n",
       "      <td>1</td>\n",
       "      <td>0</td>\n",
       "    </tr>\n",
       "    <tr>\n",
       "      <th>2</th>\n",
       "      <td>Demeter</td>\n",
       "      <td>0</td>\n",
       "      <td>0</td>\n",
       "      <td>0</td>\n",
       "      <td>0</td>\n",
       "    </tr>\n",
       "    <tr>\n",
       "      <th>3</th>\n",
       "      <td>Hades</td>\n",
       "      <td>0</td>\n",
       "      <td>0</td>\n",
       "      <td>0</td>\n",
       "      <td>0</td>\n",
       "    </tr>\n",
       "    <tr>\n",
       "      <th>4</th>\n",
       "      <td>Hestia</td>\n",
       "      <td>0</td>\n",
       "      <td>1</td>\n",
       "      <td>0</td>\n",
       "      <td>0</td>\n",
       "    </tr>\n",
       "    <tr>\n",
       "      <th>5</th>\n",
       "      <td>Poseidon</td>\n",
       "      <td>0</td>\n",
       "      <td>1</td>\n",
       "      <td>0</td>\n",
       "      <td>0</td>\n",
       "    </tr>\n",
       "    <tr>\n",
       "      <th>6</th>\n",
       "      <td>Hera</td>\n",
       "      <td>0</td>\n",
       "      <td>1</td>\n",
       "      <td>0</td>\n",
       "      <td>0</td>\n",
       "    </tr>\n",
       "    <tr>\n",
       "      <th>7</th>\n",
       "      <td>Zeus</td>\n",
       "      <td>0</td>\n",
       "      <td>1</td>\n",
       "      <td>1</td>\n",
       "      <td>0</td>\n",
       "    </tr>\n",
       "    <tr>\n",
       "      <th>8</th>\n",
       "      <td>Artemis</td>\n",
       "      <td>1</td>\n",
       "      <td>0</td>\n",
       "      <td>1</td>\n",
       "      <td>0</td>\n",
       "    </tr>\n",
       "    <tr>\n",
       "      <th>9</th>\n",
       "      <td>Apollo</td>\n",
       "      <td>1</td>\n",
       "      <td>0</td>\n",
       "      <td>1</td>\n",
       "      <td>0</td>\n",
       "    </tr>\n",
       "    <tr>\n",
       "      <th>10</th>\n",
       "      <td>Leto</td>\n",
       "      <td>1</td>\n",
       "      <td>0</td>\n",
       "      <td>0</td>\n",
       "      <td>0</td>\n",
       "    </tr>\n",
       "    <tr>\n",
       "      <th>11</th>\n",
       "      <td>Ares</td>\n",
       "      <td>1</td>\n",
       "      <td>1</td>\n",
       "      <td>1</td>\n",
       "      <td>1</td>\n",
       "    </tr>\n",
       "    <tr>\n",
       "      <th>12</th>\n",
       "      <td>Athena</td>\n",
       "      <td>1</td>\n",
       "      <td>1</td>\n",
       "      <td>1</td>\n",
       "      <td>1</td>\n",
       "    </tr>\n",
       "    <tr>\n",
       "      <th>13</th>\n",
       "      <td>Hephaestus</td>\n",
       "      <td>1</td>\n",
       "      <td>1</td>\n",
       "      <td>1</td>\n",
       "      <td>1</td>\n",
       "    </tr>\n",
       "    <tr>\n",
       "      <th>14</th>\n",
       "      <td>Aphrodite</td>\n",
       "      <td>1</td>\n",
       "      <td>1</td>\n",
       "      <td>1</td>\n",
       "      <td>1</td>\n",
       "    </tr>\n",
       "    <tr>\n",
       "      <th>15</th>\n",
       "      <td>Cyclope</td>\n",
       "      <td>1</td>\n",
       "      <td>1</td>\n",
       "      <td>1</td>\n",
       "      <td>1</td>\n",
       "    </tr>\n",
       "    <tr>\n",
       "      <th>16</th>\n",
       "      <td>Persephone</td>\n",
       "      <td>1</td>\n",
       "      <td>1</td>\n",
       "      <td>1</td>\n",
       "      <td>1</td>\n",
       "    </tr>\n",
       "    <tr>\n",
       "      <th>17</th>\n",
       "      <td>Hermes</td>\n",
       "      <td>1</td>\n",
       "      <td>1</td>\n",
       "      <td>0</td>\n",
       "      <td>1</td>\n",
       "    </tr>\n",
       "    <tr>\n",
       "      <th>18</th>\n",
       "      <td>Hebe</td>\n",
       "      <td>1</td>\n",
       "      <td>1</td>\n",
       "      <td>0</td>\n",
       "      <td>1</td>\n",
       "    </tr>\n",
       "    <tr>\n",
       "      <th>19</th>\n",
       "      <td>Dionysus</td>\n",
       "      <td>1</td>\n",
       "      <td>1</td>\n",
       "      <td>0</td>\n",
       "      <td>1</td>\n",
       "    </tr>\n",
       "  </tbody>\n",
       "</table>\n",
       "</div>"
      ],
      "text/plain": [
       "          name  Risk_Strata  Treatment  Outcome  Treatment_x_Risk_Strata\n",
       "0        Rheia            0          0        0                        0\n",
       "1       Kronos            0          0        1                        0\n",
       "2      Demeter            0          0        0                        0\n",
       "3        Hades            0          0        0                        0\n",
       "4       Hestia            0          1        0                        0\n",
       "5     Poseidon            0          1        0                        0\n",
       "6         Hera            0          1        0                        0\n",
       "7         Zeus            0          1        1                        0\n",
       "8      Artemis            1          0        1                        0\n",
       "9       Apollo            1          0        1                        0\n",
       "10        Leto            1          0        0                        0\n",
       "11        Ares            1          1        1                        1\n",
       "12      Athena            1          1        1                        1\n",
       "13  Hephaestus            1          1        1                        1\n",
       "14   Aphrodite            1          1        1                        1\n",
       "15     Cyclope            1          1        1                        1\n",
       "16  Persephone            1          1        1                        1\n",
       "17      Hermes            1          1        0                        1\n",
       "18        Hebe            1          1        0                        1\n",
       "19    Dionysus            1          1        0                        1"
      ]
     },
     "execution_count": 2,
     "metadata": {},
     "output_type": "execute_result"
    }
   ],
   "source": [
    "df = pd.DataFrame(\n",
    "    {\n",
    "        \"name\": [\n",
    "            \"Rheia\",\n",
    "            \"Kronos\",\n",
    "            \"Demeter\",\n",
    "            \"Hades\",\n",
    "            \"Hestia\",\n",
    "            \"Poseidon\",\n",
    "            \"Hera\",\n",
    "            \"Zeus\",\n",
    "            \"Artemis\",\n",
    "            \"Apollo\",\n",
    "            \"Leto\",\n",
    "            \"Ares\",\n",
    "            \"Athena\",\n",
    "            \"Hephaestus\",\n",
    "            \"Aphrodite\",\n",
    "            \"Cyclope\",\n",
    "            \"Persephone\",\n",
    "            \"Hermes\",\n",
    "            \"Hebe\",\n",
    "            \"Dionysus\",\n",
    "        ],\n",
    "        \"Risk_Strata\": [0, 0, 0, 0, 0, 0, 0, 0, 1, 1, 1, 1, 1, 1, 1, 1, 1, 1, 1, 1],\n",
    "        \"Treatment\": [0, 0, 0, 0, 1, 1, 1, 1, 0, 0, 0, 1, 1, 1, 1, 1, 1, 1, 1, 1],\n",
    "        \"Outcome\": [0, 1, 0, 0, 0, 0, 0, 1, 1, 1, 0, 1, 1, 1, 1, 1, 1, 0, 0, 0],\n",
    "    }\n",
    ")\n",
    "\n",
    "df[\"Treatment_x_Risk_Strata\"] = df.Treatment * df.Risk_Strata\n",
    "\n",
    "df"
   ]
  },
  {
   "cell_type": "code",
   "execution_count": 3,
   "id": "366d1c12-c985-4fea-92a2-5eaf447be30c",
   "metadata": {
    "tags": []
   },
   "outputs": [
    {
     "data": {
      "text/html": [
       "<div>\n",
       "<style scoped>\n",
       "    .dataframe tbody tr th:only-of-type {\n",
       "        vertical-align: middle;\n",
       "    }\n",
       "\n",
       "    .dataframe tbody tr th {\n",
       "        vertical-align: top;\n",
       "    }\n",
       "\n",
       "    .dataframe thead th {\n",
       "        text-align: right;\n",
       "    }\n",
       "</style>\n",
       "<table border=\"1\" class=\"dataframe\">\n",
       "  <thead>\n",
       "    <tr style=\"text-align: right;\">\n",
       "      <th></th>\n",
       "      <th>Share</th>\n",
       "    </tr>\n",
       "    <tr>\n",
       "      <th>Treatment</th>\n",
       "      <th></th>\n",
       "    </tr>\n",
       "  </thead>\n",
       "  <tbody>\n",
       "    <tr>\n",
       "      <th>0</th>\n",
       "      <td>0.428571</td>\n",
       "    </tr>\n",
       "    <tr>\n",
       "      <th>1</th>\n",
       "      <td>0.538462</td>\n",
       "    </tr>\n",
       "  </tbody>\n",
       "</table>\n",
       "</div>"
      ],
      "text/plain": [
       "              Share\n",
       "Treatment          \n",
       "0          0.428571\n",
       "1          0.538462"
      ]
     },
     "execution_count": 3,
     "metadata": {},
     "output_type": "execute_result"
    }
   ],
   "source": [
    "simple_average = df.groupby(\"Treatment\")[[\"Outcome\"]].mean().rename({\"Outcome\": \"Share\"}, axis=1)\n",
    "simple_average"
   ]
  },
  {
   "cell_type": "code",
   "execution_count": 4,
   "id": "2a181b10-1c70-412f-92f7-3ba65e842962",
   "metadata": {
    "tags": []
   },
   "outputs": [
    {
     "name": "stdout",
     "output_type": "stream",
     "text": [
      "Causal Risk Ratio: 1.2564102564102564\n"
     ]
    }
   ],
   "source": [
    "causal_risk_ratio = simple_average.iloc[1][\"Share\"] / simple_average.iloc[0][\"Share\"]\n",
    "print(\"Causal Risk Ratio:\", causal_risk_ratio)"
   ]
  },
  {
   "cell_type": "code",
   "execution_count": 5,
   "id": "72e6c2ab-5199-43d0-8538-6b340602c612",
   "metadata": {
    "tags": []
   },
   "outputs": [
    {
     "data": {
      "text/html": [
       "<div>\n",
       "<style scoped>\n",
       "    .dataframe tbody tr th:only-of-type {\n",
       "        vertical-align: middle;\n",
       "    }\n",
       "\n",
       "    .dataframe tbody tr th {\n",
       "        vertical-align: top;\n",
       "    }\n",
       "\n",
       "    .dataframe thead th {\n",
       "        text-align: right;\n",
       "    }\n",
       "</style>\n",
       "<table border=\"1\" class=\"dataframe\">\n",
       "  <thead>\n",
       "    <tr style=\"text-align: right;\">\n",
       "      <th></th>\n",
       "      <th>Treatment</th>\n",
       "      <th>proportion</th>\n",
       "    </tr>\n",
       "    <tr>\n",
       "      <th>Risk_Strata</th>\n",
       "      <th></th>\n",
       "      <th></th>\n",
       "    </tr>\n",
       "  </thead>\n",
       "  <tbody>\n",
       "    <tr>\n",
       "      <th>0</th>\n",
       "      <td>8</td>\n",
       "      <td>0.4</td>\n",
       "    </tr>\n",
       "    <tr>\n",
       "      <th>1</th>\n",
       "      <td>12</td>\n",
       "      <td>0.6</td>\n",
       "    </tr>\n",
       "  </tbody>\n",
       "</table>\n",
       "</div>"
      ],
      "text/plain": [
       "             Treatment  proportion\n",
       "Risk_Strata                       \n",
       "0                    8         0.4\n",
       "1                   12         0.6"
      ]
     },
     "execution_count": 5,
     "metadata": {},
     "output_type": "execute_result"
    }
   ],
   "source": [
    "df.groupby(\"Risk_Strata\")[[\"Treatment\"]].count().assign(\n",
    "    proportion=lambda x: x[\"Treatment\"] / len(df)\n",
    ")"
   ]
  },
  {
   "cell_type": "code",
   "execution_count": 6,
   "id": "bff231ac-9ac8-435f-90f9-b9f089f31b8c",
   "metadata": {
    "tags": []
   },
   "outputs": [
    {
     "data": {
      "text/html": [
       "<div>\n",
       "<style scoped>\n",
       "    .dataframe tbody tr th:only-of-type {\n",
       "        vertical-align: middle;\n",
       "    }\n",
       "\n",
       "    .dataframe tbody tr th {\n",
       "        vertical-align: top;\n",
       "    }\n",
       "\n",
       "    .dataframe thead th {\n",
       "        text-align: right;\n",
       "    }\n",
       "</style>\n",
       "<table border=\"1\" class=\"dataframe\">\n",
       "  <thead>\n",
       "    <tr style=\"text-align: right;\">\n",
       "      <th>Risk_Strata</th>\n",
       "      <th>0</th>\n",
       "      <th>1</th>\n",
       "    </tr>\n",
       "    <tr>\n",
       "      <th>Treatment</th>\n",
       "      <th></th>\n",
       "      <th></th>\n",
       "    </tr>\n",
       "  </thead>\n",
       "  <tbody>\n",
       "    <tr>\n",
       "      <th>0</th>\n",
       "      <td>0.25</td>\n",
       "      <td>0.666667</td>\n",
       "    </tr>\n",
       "    <tr>\n",
       "      <th>1</th>\n",
       "      <td>0.25</td>\n",
       "      <td>0.666667</td>\n",
       "    </tr>\n",
       "  </tbody>\n",
       "</table>\n",
       "</div>"
      ],
      "text/plain": [
       "Risk_Strata     0         1\n",
       "Treatment                  \n",
       "0            0.25  0.666667\n",
       "1            0.25  0.666667"
      ]
     },
     "execution_count": 6,
     "metadata": {},
     "output_type": "execute_result"
    }
   ],
   "source": [
    "# Correct by the unbalance on data\n",
    "\n",
    "outcomes_controlled = (\n",
    "    df.groupby([\"Risk_Strata\", \"Treatment\"])[[\"Outcome\"]]\n",
    "    .mean()\n",
    "    .reset_index()\n",
    "    .pivot(index=\"Treatment\", columns=[\"Risk_Strata\"], values=\"Outcome\")\n",
    ")\n",
    "\n",
    "outcomes_controlled"
   ]
  },
  {
   "cell_type": "code",
   "execution_count": 7,
   "id": "9542f30f-7a5f-41bd-9718-458c96e647ac",
   "metadata": {
    "tags": []
   },
   "outputs": [
    {
     "data": {
      "text/html": [
       "<div>\n",
       "<style scoped>\n",
       "    .dataframe tbody tr th:only-of-type {\n",
       "        vertical-align: middle;\n",
       "    }\n",
       "\n",
       "    .dataframe tbody tr th {\n",
       "        vertical-align: top;\n",
       "    }\n",
       "\n",
       "    .dataframe thead th {\n",
       "        text-align: right;\n",
       "    }\n",
       "</style>\n",
       "<table border=\"1\" class=\"dataframe\">\n",
       "  <thead>\n",
       "    <tr style=\"text-align: right;\">\n",
       "      <th>Risk_Strata</th>\n",
       "      <th>0</th>\n",
       "      <th>1</th>\n",
       "      <th>formula</th>\n",
       "      <th>weighted_average</th>\n",
       "    </tr>\n",
       "    <tr>\n",
       "      <th>Treatment</th>\n",
       "      <th></th>\n",
       "      <th></th>\n",
       "      <th></th>\n",
       "      <th></th>\n",
       "    </tr>\n",
       "  </thead>\n",
       "  <tbody>\n",
       "    <tr>\n",
       "      <th>0</th>\n",
       "      <td>0.25</td>\n",
       "      <td>0.666667</td>\n",
       "      <td>0.4*0.25 + 0.6*0.66</td>\n",
       "      <td>0.5</td>\n",
       "    </tr>\n",
       "    <tr>\n",
       "      <th>1</th>\n",
       "      <td>0.25</td>\n",
       "      <td>0.666667</td>\n",
       "      <td>0.4*0.25 + 0.6*0.66</td>\n",
       "      <td>0.5</td>\n",
       "    </tr>\n",
       "  </tbody>\n",
       "</table>\n",
       "</div>"
      ],
      "text/plain": [
       "Risk_Strata     0         1              formula  weighted_average\n",
       "Treatment                                                         \n",
       "0            0.25  0.666667  0.4*0.25 + 0.6*0.66               0.5\n",
       "1            0.25  0.666667  0.4*0.25 + 0.6*0.66               0.5"
      ]
     },
     "execution_count": 7,
     "metadata": {},
     "output_type": "execute_result"
    }
   ],
   "source": [
    "weighted_avg = outcomes_controlled.assign(formula=\"0.4*0.25 + 0.6*0.66\").assign(\n",
    "    weighted_average=lambda x: x[0] * (df[df[\"Risk_Strata\"] == 0].shape[0] / len(df))\n",
    "    + x[1] * (df[df[\"Risk_Strata\"] == 1].shape[0] / len(df))\n",
    ")\n",
    "\n",
    "weighted_avg"
   ]
  },
  {
   "cell_type": "code",
   "execution_count": 8,
   "id": "c5a46505-af7d-4cb2-9a2b-121b36f6c06a",
   "metadata": {
    "tags": []
   },
   "outputs": [
    {
     "name": "stdout",
     "output_type": "stream",
     "text": [
      "Causal Risk Ratio: 1.0\n"
     ]
    }
   ],
   "source": [
    "causal_risk_ratio = (\n",
    "    weighted_avg.iloc[1][\"weighted_average\"] / weighted_avg.iloc[0][\"weighted_average\"]\n",
    ")\n",
    "\n",
    "print(\"Causal Risk Ratio:\", causal_risk_ratio)"
   ]
  },
  {
   "cell_type": "markdown",
   "id": "6066f915-677f-4e9a-9d1c-86dfa0e4d863",
   "metadata": {},
   "source": [
    "## Regression stratification"
   ]
  },
  {
   "cell_type": "code",
   "execution_count": 9,
   "id": "004023c6-03fc-4429-8900-3f6c3903f65d",
   "metadata": {
    "tags": []
   },
   "outputs": [],
   "source": [
    "reg = bmb.Model(\n",
    "                    'Outcome ~ 1 + Treatment',\n",
    "                    df\n",
    ")"
   ]
  },
  {
   "cell_type": "code",
   "execution_count": 10,
   "id": "90698106-6401-47e2-bd62-bc99012c75df",
   "metadata": {
    "tags": []
   },
   "outputs": [
    {
     "name": "stderr",
     "output_type": "stream",
     "text": [
      "Auto-assigning NUTS sampler...\n",
      "Initializing NUTS using jitter+adapt_diag...\n",
      "Multiprocess sampling (4 chains in 4 jobs)\n",
      "NUTS: [Outcome_sigma, Intercept, Treatment]\n"
     ]
    },
    {
     "data": {
      "text/html": [
       "\n",
       "    <div>\n",
       "        <style>\n",
       "            /* Turns off some styling */\n",
       "            progress {\n",
       "                /* gets rid of default border in Firefox and Opera. */\n",
       "                border: none;\n",
       "                /* Needs to be in here for Safari polyfill so background images work as expected. */\n",
       "                background-size: auto;\n",
       "            }\n",
       "            .progress-bar-interrupted, .progress-bar-interrupted::-webkit-progress-bar {\n",
       "                background: #F44336;\n",
       "            }\n",
       "        </style>\n",
       "      <progress value='8000' class='' max='8000' style='width:300px; height:20px; vertical-align: middle;'></progress>\n",
       "      100.00% [8000/8000 00:03<00:00 Sampling 4 chains, 0 divergences]\n",
       "    </div>\n",
       "    "
      ],
      "text/plain": [
       "<IPython.core.display.HTML object>"
      ]
     },
     "metadata": {},
     "output_type": "display_data"
    },
    {
     "name": "stderr",
     "output_type": "stream",
     "text": [
      "Sampling 4 chains for 1_000 tune and 1_000 draw iterations (4_000 + 4_000 draws total) took 25 seconds.\n"
     ]
    }
   ],
   "source": [
    "results = reg.fit()"
   ]
  },
  {
   "cell_type": "code",
   "execution_count": 11,
   "id": "3af85eef-2fbe-4d8a-812d-e5095a1708a7",
   "metadata": {
    "tags": []
   },
   "outputs": [],
   "source": [
    "reg_strata = bmb.Model(\n",
    "                        \"Outcome ~ 1 + Treatment + Risk_Strata + Treatment_x_Risk_Strata\", \n",
    "                        df\n",
    ")"
   ]
  },
  {
   "cell_type": "code",
   "execution_count": 12,
   "id": "7670c06b-570a-4f25-8b81-c2a7d4cca35e",
   "metadata": {
    "tags": []
   },
   "outputs": [
    {
     "name": "stderr",
     "output_type": "stream",
     "text": [
      "Auto-assigning NUTS sampler...\n",
      "Initializing NUTS using jitter+adapt_diag...\n",
      "Multiprocess sampling (4 chains in 4 jobs)\n",
      "NUTS: [Outcome_sigma, Intercept, Treatment, Risk_Strata, Treatment_x_Risk_Strata]\n"
     ]
    },
    {
     "data": {
      "text/html": [
       "\n",
       "    <div>\n",
       "        <style>\n",
       "            /* Turns off some styling */\n",
       "            progress {\n",
       "                /* gets rid of default border in Firefox and Opera. */\n",
       "                border: none;\n",
       "                /* Needs to be in here for Safari polyfill so background images work as expected. */\n",
       "                background-size: auto;\n",
       "            }\n",
       "            .progress-bar-interrupted, .progress-bar-interrupted::-webkit-progress-bar {\n",
       "                background: #F44336;\n",
       "            }\n",
       "        </style>\n",
       "      <progress value='8000' class='' max='8000' style='width:300px; height:20px; vertical-align: middle;'></progress>\n",
       "      100.00% [8000/8000 00:04<00:00 Sampling 4 chains, 0 divergences]\n",
       "    </div>\n",
       "    "
      ],
      "text/plain": [
       "<IPython.core.display.HTML object>"
      ]
     },
     "metadata": {},
     "output_type": "display_data"
    },
    {
     "name": "stderr",
     "output_type": "stream",
     "text": [
      "Sampling 4 chains for 1_000 tune and 1_000 draw iterations (4_000 + 4_000 draws total) took 26 seconds.\n"
     ]
    }
   ],
   "source": [
    "results_strata = reg_strata.fit()"
   ]
  },
  {
   "cell_type": "code",
   "execution_count": 13,
   "id": "a0182d78-54c5-4891-8808-b542f53f865d",
   "metadata": {
    "tags": []
   },
   "outputs": [
    {
     "data": {
      "text/html": [
       "<div>\n",
       "<style scoped>\n",
       "    .dataframe tbody tr th:only-of-type {\n",
       "        vertical-align: middle;\n",
       "    }\n",
       "\n",
       "    .dataframe tbody tr th {\n",
       "        vertical-align: top;\n",
       "    }\n",
       "\n",
       "    .dataframe thead th {\n",
       "        text-align: right;\n",
       "    }\n",
       "</style>\n",
       "<table border=\"1\" class=\"dataframe\">\n",
       "  <thead>\n",
       "    <tr style=\"text-align: right;\">\n",
       "      <th></th>\n",
       "      <th>mean</th>\n",
       "      <th>sd</th>\n",
       "      <th>hdi_3%</th>\n",
       "      <th>hdi_97%</th>\n",
       "      <th>mcse_mean</th>\n",
       "      <th>mcse_sd</th>\n",
       "      <th>ess_bulk</th>\n",
       "      <th>ess_tail</th>\n",
       "      <th>r_hat</th>\n",
       "    </tr>\n",
       "  </thead>\n",
       "  <tbody>\n",
       "    <tr>\n",
       "      <th>Intercept</th>\n",
       "      <td>0.427</td>\n",
       "      <td>0.205</td>\n",
       "      <td>0.031</td>\n",
       "      <td>0.802</td>\n",
       "      <td>0.003</td>\n",
       "      <td>0.002</td>\n",
       "      <td>4426.0</td>\n",
       "      <td>3029.0</td>\n",
       "      <td>1.0</td>\n",
       "    </tr>\n",
       "    <tr>\n",
       "      <th>Treatment</th>\n",
       "      <td>0.112</td>\n",
       "      <td>0.259</td>\n",
       "      <td>-0.364</td>\n",
       "      <td>0.613</td>\n",
       "      <td>0.004</td>\n",
       "      <td>0.004</td>\n",
       "      <td>4902.0</td>\n",
       "      <td>2766.0</td>\n",
       "      <td>1.0</td>\n",
       "    </tr>\n",
       "    <tr>\n",
       "      <th>Outcome_sigma</th>\n",
       "      <td>0.544</td>\n",
       "      <td>0.092</td>\n",
       "      <td>0.387</td>\n",
       "      <td>0.716</td>\n",
       "      <td>0.002</td>\n",
       "      <td>0.001</td>\n",
       "      <td>3878.0</td>\n",
       "      <td>2644.0</td>\n",
       "      <td>1.0</td>\n",
       "    </tr>\n",
       "  </tbody>\n",
       "</table>\n",
       "</div>"
      ],
      "text/plain": [
       "                mean     sd  hdi_3%  hdi_97%  mcse_mean  mcse_sd  ess_bulk  \\\n",
       "Intercept      0.427  0.205   0.031    0.802      0.003    0.002    4426.0   \n",
       "Treatment      0.112  0.259  -0.364    0.613      0.004    0.004    4902.0   \n",
       "Outcome_sigma  0.544  0.092   0.387    0.716      0.002    0.001    3878.0   \n",
       "\n",
       "               ess_tail  r_hat  \n",
       "Intercept        3029.0    1.0  \n",
       "Treatment        2766.0    1.0  \n",
       "Outcome_sigma    2644.0    1.0  "
      ]
     },
     "execution_count": 13,
     "metadata": {},
     "output_type": "execute_result"
    }
   ],
   "source": [
    "az.summary(results)"
   ]
  },
  {
   "cell_type": "code",
   "execution_count": 14,
   "id": "19412c28-5b06-4b42-9710-f19736b79871",
   "metadata": {
    "tags": []
   },
   "outputs": [
    {
     "data": {
      "text/html": [
       "<div>\n",
       "<style scoped>\n",
       "    .dataframe tbody tr th:only-of-type {\n",
       "        vertical-align: middle;\n",
       "    }\n",
       "\n",
       "    .dataframe tbody tr th {\n",
       "        vertical-align: top;\n",
       "    }\n",
       "\n",
       "    .dataframe thead th {\n",
       "        text-align: right;\n",
       "    }\n",
       "</style>\n",
       "<table border=\"1\" class=\"dataframe\">\n",
       "  <thead>\n",
       "    <tr style=\"text-align: right;\">\n",
       "      <th></th>\n",
       "      <th>mean</th>\n",
       "      <th>sd</th>\n",
       "      <th>hdi_3%</th>\n",
       "      <th>hdi_97%</th>\n",
       "      <th>mcse_mean</th>\n",
       "      <th>mcse_sd</th>\n",
       "      <th>ess_bulk</th>\n",
       "      <th>ess_tail</th>\n",
       "      <th>r_hat</th>\n",
       "    </tr>\n",
       "  </thead>\n",
       "  <tbody>\n",
       "    <tr>\n",
       "      <th>Intercept</th>\n",
       "      <td>0.255</td>\n",
       "      <td>0.266</td>\n",
       "      <td>-0.245</td>\n",
       "      <td>0.759</td>\n",
       "      <td>0.005</td>\n",
       "      <td>0.004</td>\n",
       "      <td>2501.0</td>\n",
       "      <td>2813.0</td>\n",
       "      <td>1.0</td>\n",
       "    </tr>\n",
       "    <tr>\n",
       "      <th>Treatment</th>\n",
       "      <td>-0.008</td>\n",
       "      <td>0.376</td>\n",
       "      <td>-0.761</td>\n",
       "      <td>0.635</td>\n",
       "      <td>0.008</td>\n",
       "      <td>0.006</td>\n",
       "      <td>2145.0</td>\n",
       "      <td>2400.0</td>\n",
       "      <td>1.0</td>\n",
       "    </tr>\n",
       "    <tr>\n",
       "      <th>Risk_Strata</th>\n",
       "      <td>0.405</td>\n",
       "      <td>0.400</td>\n",
       "      <td>-0.359</td>\n",
       "      <td>1.153</td>\n",
       "      <td>0.008</td>\n",
       "      <td>0.006</td>\n",
       "      <td>2277.0</td>\n",
       "      <td>2607.0</td>\n",
       "      <td>1.0</td>\n",
       "    </tr>\n",
       "    <tr>\n",
       "      <th>Treatment_x_Risk_Strata</th>\n",
       "      <td>0.011</td>\n",
       "      <td>0.508</td>\n",
       "      <td>-0.893</td>\n",
       "      <td>1.021</td>\n",
       "      <td>0.012</td>\n",
       "      <td>0.008</td>\n",
       "      <td>1895.0</td>\n",
       "      <td>2211.0</td>\n",
       "      <td>1.0</td>\n",
       "    </tr>\n",
       "    <tr>\n",
       "      <th>Outcome_sigma</th>\n",
       "      <td>0.532</td>\n",
       "      <td>0.096</td>\n",
       "      <td>0.363</td>\n",
       "      <td>0.704</td>\n",
       "      <td>0.002</td>\n",
       "      <td>0.001</td>\n",
       "      <td>2311.0</td>\n",
       "      <td>2094.0</td>\n",
       "      <td>1.0</td>\n",
       "    </tr>\n",
       "  </tbody>\n",
       "</table>\n",
       "</div>"
      ],
      "text/plain": [
       "                          mean     sd  hdi_3%  hdi_97%  mcse_mean  mcse_sd  \\\n",
       "Intercept                0.255  0.266  -0.245    0.759      0.005    0.004   \n",
       "Treatment               -0.008  0.376  -0.761    0.635      0.008    0.006   \n",
       "Risk_Strata              0.405  0.400  -0.359    1.153      0.008    0.006   \n",
       "Treatment_x_Risk_Strata  0.011  0.508  -0.893    1.021      0.012    0.008   \n",
       "Outcome_sigma            0.532  0.096   0.363    0.704      0.002    0.001   \n",
       "\n",
       "                         ess_bulk  ess_tail  r_hat  \n",
       "Intercept                  2501.0    2813.0    1.0  \n",
       "Treatment                  2145.0    2400.0    1.0  \n",
       "Risk_Strata                2277.0    2607.0    1.0  \n",
       "Treatment_x_Risk_Strata    1895.0    2211.0    1.0  \n",
       "Outcome_sigma              2311.0    2094.0    1.0  "
      ]
     },
     "execution_count": 14,
     "metadata": {},
     "output_type": "execute_result"
    }
   ],
   "source": [
    "az.summary(results_strata)"
   ]
  },
  {
   "cell_type": "code",
   "execution_count": 15,
   "id": "b7b908f2-f77f-43d6-9ade-9eebb4fca763",
   "metadata": {
    "tags": []
   },
   "outputs": [
    {
     "data": {
      "image/png": "[encoded data removed]",
      "text/plain": [
       "<Figure size 1000x600 with 1 Axes>"
      ]
     },
     "metadata": {},
     "output_type": "display_data"
    }
   ],
   "source": [
    "ax = az.plot_forest(\n",
    "    [results, results_strata],\n",
    "    model_names=[\"naive_model\", \"stratified_model\"],\n",
    "    var_names=[\"Treatment\"],\n",
    "    kind=\"ridgeplot\",\n",
    "    ridgeplot_alpha=0.4,\n",
    "    combined=True,\n",
    "    figsize=(10, 6),\n",
    ")\n",
    "ax[0].axvline(0, color=\"black\", linestyle=\"--\")\n",
    "ax[0].set_title(\"Treatment Effects under Stratification/Non-stratification\");"
   ]
  },
  {
   "cell_type": "code",
   "execution_count": 16,
   "id": "76575d93-5365-453d-a451-e52c76c1ecdc",
   "metadata": {
    "tags": []
   },
   "outputs": [
    {
     "name": "stdout",
     "output_type": "stream",
     "text": [
      "Expected Outcome in the Treated\n"
     ]
    },
    {
     "data": {
      "text/plain": [
       "0.501834886234507"
      ]
     },
     "execution_count": 16,
     "metadata": {},
     "output_type": "execute_result"
    }
   ],
   "source": [
    "new_df = df[[\"Risk_Strata\"]].assign(Treatment=1).assign(Treatment_x_Risk_Strata=1)\n",
    "new_preds = reg_strata.predict(results_strata, kind=\"pps\", data=new_df, inplace=False)\n",
    "print(\"Expected Outcome in the Treated\")\n",
    "new_preds[\"posterior_predictive\"][\"Outcome\"].mean().item()"
   ]
  },
  {
   "cell_type": "code",
   "execution_count": 18,
   "id": "afd5ecde-c426-4f4d-bb24-8d5685fed5c4",
   "metadata": {
    "tags": []
   },
   "outputs": [
    {
     "name": "stdout",
     "output_type": "stream",
     "text": [
      "Expected Outcome in the Untreated\n"
     ]
    },
    {
     "data": {
      "text/plain": [
       "0.5009743095119211"
      ]
     },
     "execution_count": 18,
     "metadata": {},
     "output_type": "execute_result"
    }
   ],
   "source": [
    "new_df = df[[\"Risk_Strata\"]].assign(Treatment=0).assign(Treatment_x_Risk_Strata=0)\n",
    "new_preds = reg_strata.predict(results_strata, kind=\"pps\", data=new_df, inplace=False)\n",
    "print(\"Expected Outcome in the Untreated\")\n",
    "\n",
    "new_preds[\"posterior_predictive\"][\"Outcome\"].mean().item()"
   ]
  },
  {
   "cell_type": "markdown",
   "id": "0d258e08-5d9a-469f-92dc-a5756547804e",
   "metadata": {},
   "source": [
    "## Bambi model interpretation"
   ]
  },
  {
   "cell_type": "code",
   "execution_count": 26,
   "id": "ad18f64e-5e98-4822-88e5-9ae2367df13d",
   "metadata": {
    "tags": []
   },
   "outputs": [
    {
     "ename": "AttributeError",
     "evalue": "module 'bambi' has no attribute 'interpret'",
     "output_type": "error",
     "traceback": [
      "\u001b[1;31m---------------------------------------------------------------------------\u001b[0m",
      "\u001b[1;31mAttributeError\u001b[0m                            Traceback (most recent call last)",
      "Cell \u001b[1;32mIn[26], line 3\u001b[0m\n\u001b[0;32m      1\u001b[0m fig, axs \u001b[38;5;241m=\u001b[39m plt\u001b[38;5;241m.\u001b[39msubplots(\u001b[38;5;241m1\u001b[39m, \u001b[38;5;241m2\u001b[39m, figsize\u001b[38;5;241m=\u001b[39m(\u001b[38;5;241m20\u001b[39m, \u001b[38;5;241m6\u001b[39m))\n\u001b[0;32m      2\u001b[0m axs \u001b[38;5;241m=\u001b[39m axs\u001b[38;5;241m.\u001b[39mflatten()\n\u001b[1;32m----> 3\u001b[0m bmb\u001b[38;5;241m.\u001b[39minterpret\u001b[38;5;241m.\u001b[39mplot_predictions(reg, results, covariates\u001b[38;5;241m=\u001b[39m[\u001b[38;5;124m\"\u001b[39m\u001b[38;5;124mTreatment\u001b[39m\u001b[38;5;124m\"\u001b[39m], ax\u001b[38;5;241m=\u001b[39maxs[\u001b[38;5;241m0\u001b[39m])\n\u001b[0;32m      4\u001b[0m bmb\u001b[38;5;241m.\u001b[39minterpret\u001b[38;5;241m.\u001b[39mplot_predictions(reg_strata, results_strata, covariates\u001b[38;5;241m=\u001b[39m[\u001b[38;5;124m\"\u001b[39m\u001b[38;5;124mTreatment\u001b[39m\u001b[38;5;124m\"\u001b[39m], ax\u001b[38;5;241m=\u001b[39maxs[\u001b[38;5;241m1\u001b[39m])\n\u001b[0;32m      5\u001b[0m axs[\u001b[38;5;241m0\u001b[39m]\u001b[38;5;241m.\u001b[39mset_title(\u001b[38;5;124m\"\u001b[39m\u001b[38;5;124mNon Stratified Regression \u001b[39m\u001b[38;5;130;01m\\n\u001b[39;00m\u001b[38;5;124m Model Predictions\u001b[39m\u001b[38;5;124m\"\u001b[39m)\n",
      "\u001b[1;31mAttributeError\u001b[0m: module 'bambi' has no attribute 'interpret'"
     ]
    },
    {
     "data": {
      "image/png": "[encoded data removed]",
      "text/plain": [
       "<Figure size 2000x600 with 2 Axes>"
      ]
     },
     "metadata": {},
     "output_type": "display_data"
    }
   ],
   "source": [
    "fig, axs = plt.subplots(1, 2, figsize=(20, 6))\n",
    "axs = axs.flatten()\n",
    "bmb.interpret.plot_predictions(reg, results, covariates=[\"Treatment\"], ax=axs[0])\n",
    "bmb.interpret.plot_predictions(reg_strata, results_strata, covariates=[\"Treatment\"], ax=axs[1])\n",
    "axs[0].set_title(\"Non Stratified Regression \\n Model Predictions\")\n",
    "axs[1].set_title(\"Stratified Regression \\n Model Predictions\");"
   ]
  },
  {
   "cell_type": "code",
   "execution_count": null,
   "id": "7ae896b4-09f0-4b13-978c-a8882a04d0c8",
   "metadata": {},
   "outputs": [],
   "source": []
  },
  {
   "cell_type": "code",
   "execution_count": null,
   "id": "1968b2ad-044b-4cbd-a9f2-773514149b2d",
   "metadata": {},
   "outputs": [],
   "source": []
  }
 ],
 "metadata": {
  "kernelspec": {
   "display_name": "Python 3 (ipykernel)",
   "language": "python",
   "name": "python3"
  },
  "language_info": {
   "codemirror_mode": {
    "name": "ipython",
    "version": 3
   },
   "file_extension": ".py",
   "mimetype": "text/x-python",
   "name": "python",
   "nbconvert_exporter": "python",
   "pygments_lexer": "ipython3",
   "version": "3.11.4"
  }
 },
 "nbformat": 4,
 "nbformat_minor": 5
}
