{
 "cells": [
  {
   "cell_type": "markdown",
   "id": "32c33699-2922-4373-a22e-0804555c004d",
   "metadata": {},
   "source": [
    "# ZERO INFLATED MODELS"
   ]
  },
  {
   "cell_type": "markdown",
   "id": "825e202f-813a-48a2-926a-ad7cd2ff2176",
   "metadata": {},
   "source": [
    "## Load libraries"
   ]
  },
  {
   "cell_type": "code",
   "execution_count": 1,
   "id": "a1835126-5f6b-4254-ab03-7aaad09fa273",
   "metadata": {
    "tags": []
   },
   "outputs": [],
   "source": [
    "import arviz as az\n",
    "import matplotlib.pyplot as plt\n",
    "from matplotlib.lines import Line2D\n",
    "import numpy as np\n",
    "import pandas as pd\n",
    "import scipy.stats as stats\n",
    "import seaborn as sns\n",
    "import warnings\n",
    "\n",
    "import bambi as bmb\n",
    "\n",
    "warnings.simplefilter(action='ignore', category=FutureWarning)"
   ]
  },
  {
   "cell_type": "markdown",
   "id": "3669904f-90a8-4154-8d3a-db00e370fc6e",
   "metadata": {},
   "source": [
    "## Simulate ZIP data"
   ]
  },
  {
   "cell_type": "code",
   "execution_count": 4,
   "id": "2f31ca61-a63e-4b6e-be24-a745c4688fb3",
   "metadata": {
    "tags": []
   },
   "outputs": [],
   "source": [
    "x = np.arange(0, 22)\n",
    "psis = [0.7, 0.4]\n",
    "mus = [10, 4]"
   ]
  },
  {
   "cell_type": "code",
   "execution_count": 5,
   "id": "d4720989-38c1-4af6-998e-aacd1450001b",
   "metadata": {
    "tags": []
   },
   "outputs": [
    {
     "data": {
      "image/png": "[encoded data removed]",
      "text/plain": [
       "<Figure size 700x300 with 1 Axes>"
      ]
     },
     "metadata": {},
     "output_type": "display_data"
    }
   ],
   "source": [
    "plt.figure(figsize=(7, 3))\n",
    "for psi, mu in zip(psis, mus):\n",
    "    pmf = stats.poisson.pmf(x, mu)\n",
    "    pmf[0] = (1 - psi) + pmf[0] # 1.) generate zeros\n",
    "    pmf[1:] =  psi * pmf[1:] # 2.) generate counts\n",
    "    pmf /= pmf.sum() # normalize to get probabilities\n",
    "    plt.plot(x, pmf, '-o', label='$\\\\psi$ = {}, $\\\\mu$ = {}'.format(psi, mu))\n",
    "    \n",
    "plt.title(\"Zero Inflated Poisson Process\")\n",
    "plt.xlabel('x', fontsize=12)\n",
    "plt.ylabel('f(x)', fontsize=12)\n",
    "plt.legend(loc=1)\n",
    "plt.show()"
   ]
  },
  {
   "cell_type": "markdown",
   "id": "dccc7273-037c-4480-afd4-5de9f20fd406",
   "metadata": {},
   "source": [
    "## Load data"
   ]
  },
  {
   "cell_type": "code",
   "execution_count": 6,
   "id": "c4a5bee2-4775-46e0-9d5b-18e5d5af9c2d",
   "metadata": {
    "tags": []
   },
   "outputs": [
    {
     "data": {
      "text/html": [
       "<div>\n",
       "<style scoped>\n",
       "    .dataframe tbody tr th:only-of-type {\n",
       "        vertical-align: middle;\n",
       "    }\n",
       "\n",
       "    .dataframe tbody tr th {\n",
       "        vertical-align: top;\n",
       "    }\n",
       "\n",
       "    .dataframe thead th {\n",
       "        text-align: right;\n",
       "    }\n",
       "</style>\n",
       "<table border=\"1\" class=\"dataframe\">\n",
       "  <thead>\n",
       "    <tr style=\"text-align: right;\">\n",
       "      <th></th>\n",
       "      <th>nofish</th>\n",
       "      <th>livebait</th>\n",
       "      <th>camper</th>\n",
       "      <th>persons</th>\n",
       "      <th>child</th>\n",
       "      <th>xb</th>\n",
       "      <th>zg</th>\n",
       "      <th>count</th>\n",
       "    </tr>\n",
       "  </thead>\n",
       "  <tbody>\n",
       "    <tr>\n",
       "      <th>0</th>\n",
       "      <td>1.0</td>\n",
       "      <td>0.0</td>\n",
       "      <td>0.0</td>\n",
       "      <td>1.0</td>\n",
       "      <td>0.0</td>\n",
       "      <td>-0.896315</td>\n",
       "      <td>3.050405</td>\n",
       "      <td>0.0</td>\n",
       "    </tr>\n",
       "    <tr>\n",
       "      <th>1</th>\n",
       "      <td>0.0</td>\n",
       "      <td>1.0</td>\n",
       "      <td>1.0</td>\n",
       "      <td>1.0</td>\n",
       "      <td>0.0</td>\n",
       "      <td>-0.558345</td>\n",
       "      <td>1.746149</td>\n",
       "      <td>0.0</td>\n",
       "    </tr>\n",
       "    <tr>\n",
       "      <th>2</th>\n",
       "      <td>0.0</td>\n",
       "      <td>1.0</td>\n",
       "      <td>0.0</td>\n",
       "      <td>1.0</td>\n",
       "      <td>0.0</td>\n",
       "      <td>-0.401731</td>\n",
       "      <td>0.279939</td>\n",
       "      <td>0.0</td>\n",
       "    </tr>\n",
       "    <tr>\n",
       "      <th>3</th>\n",
       "      <td>0.0</td>\n",
       "      <td>1.0</td>\n",
       "      <td>1.0</td>\n",
       "      <td>2.0</td>\n",
       "      <td>1.0</td>\n",
       "      <td>-0.956298</td>\n",
       "      <td>-0.601526</td>\n",
       "      <td>0.0</td>\n",
       "    </tr>\n",
       "    <tr>\n",
       "      <th>4</th>\n",
       "      <td>0.0</td>\n",
       "      <td>1.0</td>\n",
       "      <td>0.0</td>\n",
       "      <td>1.0</td>\n",
       "      <td>0.0</td>\n",
       "      <td>0.436891</td>\n",
       "      <td>0.527709</td>\n",
       "      <td>1.0</td>\n",
       "    </tr>\n",
       "  </tbody>\n",
       "</table>\n",
       "</div>"
      ],
      "text/plain": [
       "   nofish  livebait  camper  persons  child        xb        zg  count\n",
       "0     1.0       0.0     0.0      1.0    0.0 -0.896315  3.050405    0.0\n",
       "1     0.0       1.0     1.0      1.0    0.0 -0.558345  1.746149    0.0\n",
       "2     0.0       1.0     0.0      1.0    0.0 -0.401731  0.279939    0.0\n",
       "3     0.0       1.0     1.0      2.0    1.0 -0.956298 -0.601526    0.0\n",
       "4     0.0       1.0     0.0      1.0    0.0  0.436891  0.527709    1.0"
      ]
     },
     "execution_count": 6,
     "metadata": {},
     "output_type": "execute_result"
    }
   ],
   "source": [
    "fish_data = pd.read_stata(\"http://www.stata-press.com/data/r11/fish.dta\")\n",
    "\n",
    "fish_data.head()"
   ]
  },
  {
   "cell_type": "code",
   "execution_count": 13,
   "id": "83946ab2-f895-496c-baa0-fac536955256",
   "metadata": {
    "tags": []
   },
   "outputs": [
    {
     "data": {
      "text/html": [
       "<div>\n",
       "<style scoped>\n",
       "    .dataframe tbody tr th:only-of-type {\n",
       "        vertical-align: middle;\n",
       "    }\n",
       "\n",
       "    .dataframe tbody tr th {\n",
       "        vertical-align: top;\n",
       "    }\n",
       "\n",
       "    .dataframe thead th {\n",
       "        text-align: right;\n",
       "    }\n",
       "</style>\n",
       "<table border=\"1\" class=\"dataframe\">\n",
       "  <thead>\n",
       "    <tr style=\"text-align: right;\">\n",
       "      <th></th>\n",
       "      <th>count</th>\n",
       "      <th>livebait</th>\n",
       "      <th>camper</th>\n",
       "      <th>persons</th>\n",
       "      <th>child</th>\n",
       "    </tr>\n",
       "  </thead>\n",
       "  <tbody>\n",
       "    <tr>\n",
       "      <th>0</th>\n",
       "      <td>0.0</td>\n",
       "      <td>0.0</td>\n",
       "      <td>0.0</td>\n",
       "      <td>1.0</td>\n",
       "      <td>0.0</td>\n",
       "    </tr>\n",
       "    <tr>\n",
       "      <th>1</th>\n",
       "      <td>0.0</td>\n",
       "      <td>1.0</td>\n",
       "      <td>1.0</td>\n",
       "      <td>1.0</td>\n",
       "      <td>0.0</td>\n",
       "    </tr>\n",
       "    <tr>\n",
       "      <th>2</th>\n",
       "      <td>0.0</td>\n",
       "      <td>1.0</td>\n",
       "      <td>0.0</td>\n",
       "      <td>1.0</td>\n",
       "      <td>0.0</td>\n",
       "    </tr>\n",
       "    <tr>\n",
       "      <th>3</th>\n",
       "      <td>0.0</td>\n",
       "      <td>1.0</td>\n",
       "      <td>1.0</td>\n",
       "      <td>2.0</td>\n",
       "      <td>1.0</td>\n",
       "    </tr>\n",
       "    <tr>\n",
       "      <th>4</th>\n",
       "      <td>1.0</td>\n",
       "      <td>1.0</td>\n",
       "      <td>0.0</td>\n",
       "      <td>1.0</td>\n",
       "      <td>0.0</td>\n",
       "    </tr>\n",
       "  </tbody>\n",
       "</table>\n",
       "</div>"
      ],
      "text/plain": [
       "   count livebait camper  persons  child\n",
       "0    0.0      0.0    0.0      1.0    0.0\n",
       "1    0.0      1.0    1.0      1.0    0.0\n",
       "2    0.0      1.0    0.0      1.0    0.0\n",
       "3    0.0      1.0    1.0      2.0    1.0\n",
       "4    1.0      1.0    0.0      1.0    0.0"
      ]
     },
     "execution_count": 13,
     "metadata": {},
     "output_type": "execute_result"
    }
   ],
   "source": [
    "fish_data = (fish_data\n",
    "             .filter([\"count\", \"livebait\", \"camper\", \"persons\", \"child\"])\n",
    "             .assign(\n",
    "                     livebait = lambda x: pd.Categorical(x['livebait']),\n",
    "                     camper = lambda x: pd.Categorical(x['camper'])\n",
    "             )\n",
    "             .query('count < 60')\n",
    "\n",
    ")\n",
    "\n",
    "fish_data.head()"
   ]
  },
  {
   "cell_type": "code",
   "execution_count": 14,
   "id": "0d305604-bd31-48b3-bac5-61053a2ff390",
   "metadata": {
    "tags": []
   },
   "outputs": [
    {
     "data": {
      "image/png": "[encoded data removed]",
      "text/plain": [
       "<Figure size 700x300 with 1 Axes>"
      ]
     },
     "metadata": {},
     "output_type": "display_data"
    }
   ],
   "source": [
    "# Excess zeros, and skewed count\n",
    "plt.figure(figsize=(7, 3))\n",
    "sns.histplot(fish_data[\"count\"], discrete=True)\n",
    "plt.xlabel(\"Number of Fish Caught\");"
   ]
  },
  {
   "cell_type": "markdown",
   "id": "1af9efc8-be1f-4d13-bfe7-fe76ed17892a",
   "metadata": {},
   "source": [
    "## ZIP Model"
   ]
  },
  {
   "cell_type": "code",
   "execution_count": 15,
   "id": "faa72613-ac23-49c3-bbb5-d745d1086c0b",
   "metadata": {
    "tags": []
   },
   "outputs": [],
   "source": [
    "zip_model = bmb.Model(\n",
    "                        \"count ~ livebait + camper + persons + child\",\n",
    "                        fish_data,\n",
    "                        family = 'zero_inflated_poisson'\n",
    ")"
   ]
  },
  {
   "cell_type": "code",
   "execution_count": 16,
   "id": "39038b1c-a9b4-49c8-8906-1bae03ec3d26",
   "metadata": {
    "tags": []
   },
   "outputs": [
    {
     "name": "stderr",
     "output_type": "stream",
     "text": [
      "Auto-assigning NUTS sampler...\n",
      "Initializing NUTS using jitter+adapt_diag...\n",
      "Multiprocess sampling (4 chains in 4 jobs)\n",
      "NUTS: [count_psi, Intercept, livebait, camper, persons, child]\n"
     ]
    },
    {
     "data": {
      "text/html": [
       "\n",
       "    <div>\n",
       "        <style>\n",
       "            /* Turns off some styling */\n",
       "            progress {\n",
       "                /* gets rid of default border in Firefox and Opera. */\n",
       "                border: none;\n",
       "                /* Needs to be in here for Safari polyfill so background images work as expected. */\n",
       "                background-size: auto;\n",
       "            }\n",
       "            .progress-bar-interrupted, .progress-bar-interrupted::-webkit-progress-bar {\n",
       "                background: #F44336;\n",
       "            }\n",
       "        </style>\n",
       "      <progress value='8000' class='' max='8000' style='width:300px; height:20px; vertical-align: middle;'></progress>\n",
       "      100.00% [8000/8000 00:30<00:00 Sampling 4 chains, 0 divergences]\n",
       "    </div>\n",
       "    "
      ],
      "text/plain": [
       "<IPython.core.display.HTML object>"
      ]
     },
     "metadata": {},
     "output_type": "display_data"
    },
    {
     "name": "stderr",
     "output_type": "stream",
     "text": [
      "Sampling 4 chains for 1_000 tune and 1_000 draw iterations (4_000 + 4_000 draws total) took 66 seconds.\n"
     ]
    }
   ],
   "source": [
    "zip_idata = zip_model.fit(\n",
    "                            draws=1000,\n",
    "                            target_accept=0.95, \n",
    "                            random_seed=1234, \n",
    "                            chains=4\n",
    ")"
   ]
  },
  {
   "cell_type": "code",
   "execution_count": 17,
   "id": "eafaa993-706f-4376-8a7e-05646dad73b9",
   "metadata": {
    "tags": []
   },
   "outputs": [
    {
     "data": {
      "text/plain": [
       "       Formula: count ~ livebait + camper + persons + child\n",
       "        Family: zero_inflated_poisson\n",
       "          Link: mu = log\n",
       "  Observations: 248\n",
       "        Priors: \n",
       "    target = mu\n",
       "        Common-level effects\n",
       "            Intercept ~ Normal(mu: 0.0, sigma: 9.5283)\n",
       "            livebait ~ Normal(mu: 0.0, sigma: 7.2685)\n",
       "            camper ~ Normal(mu: 0.0, sigma: 5.0733)\n",
       "            persons ~ Normal(mu: 0.0, sigma: 2.2583)\n",
       "            child ~ Normal(mu: 0.0, sigma: 2.9419)\n",
       "        \n",
       "        Auxiliary parameters\n",
       "            psi ~ Beta(alpha: 2.0, beta: 2.0)\n",
       "------\n",
       "* To see a plot of the priors call the .plot_priors() method.\n",
       "* To see a summary or plot of the posterior pass the object returned by .fit() to az.summary() or az.plot_trace()"
      ]
     },
     "execution_count": 17,
     "metadata": {},
     "output_type": "execute_result"
    }
   ],
   "source": [
    "zip_model"
   ]
  },
  {
   "cell_type": "code",
   "execution_count": 18,
   "id": "1b58820e-dc65-43c5-8a58-ca16f7d69d20",
   "metadata": {
    "tags": []
   },
   "outputs": [],
   "source": [
    "formula = bmb.Formula(\n",
    "                        \"count ~ livebait + camper + persons + child\", # parent parameter mu\n",
    "                        \"psi ~ livebait + camper + persons + child\"    # non-parent parameter psi\n",
    ")"
   ]
  },
  {
   "cell_type": "code",
   "execution_count": 19,
   "id": "fda79d82-5115-4c0f-b2cd-6c5ac359c410",
   "metadata": {
    "tags": []
   },
   "outputs": [],
   "source": [
    "zip_model = bmb.Model(\n",
    "                        formula,\n",
    "                        fish_data,\n",
    "                        family = 'zero_inflated_poisson'\n",
    ")"
   ]
  },
  {
   "cell_type": "code",
   "execution_count": 20,
   "id": "9137d8e0-f8dd-46a9-bc3e-2576e9eb51e2",
   "metadata": {
    "tags": []
   },
   "outputs": [
    {
     "name": "stderr",
     "output_type": "stream",
     "text": [
      "Auto-assigning NUTS sampler...\n",
      "Initializing NUTS using jitter+adapt_diag...\n",
      "Multiprocess sampling (4 chains in 4 jobs)\n",
      "NUTS: [Intercept, livebait, camper, persons, child, psi_Intercept, psi_livebait, psi_camper, psi_persons, psi_child]\n"
     ]
    },
    {
     "data": {
      "text/html": [
       "\n",
       "    <div>\n",
       "        <style>\n",
       "            /* Turns off some styling */\n",
       "            progress {\n",
       "                /* gets rid of default border in Firefox and Opera. */\n",
       "                border: none;\n",
       "                /* Needs to be in here for Safari polyfill so background images work as expected. */\n",
       "                background-size: auto;\n",
       "            }\n",
       "            .progress-bar-interrupted, .progress-bar-interrupted::-webkit-progress-bar {\n",
       "                background: #F44336;\n",
       "            }\n",
       "        </style>\n",
       "      <progress value='8000' class='' max='8000' style='width:300px; height:20px; vertical-align: middle;'></progress>\n",
       "      100.00% [8000/8000 00:28<00:00 Sampling 4 chains, 0 divergences]\n",
       "    </div>\n",
       "    "
      ],
      "text/plain": [
       "<IPython.core.display.HTML object>"
      ]
     },
     "metadata": {},
     "output_type": "display_data"
    },
    {
     "name": "stderr",
     "output_type": "stream",
     "text": [
      "Sampling 4 chains for 1_000 tune and 1_000 draw iterations (4_000 + 4_000 draws total) took 53 seconds.\n"
     ]
    }
   ],
   "source": [
    "zip_idata = zip_model.fit(\n",
    "    draws=1000, \n",
    "    target_accept=0.95, \n",
    "    random_seed=1234, \n",
    "    chains=4\n",
    ")"
   ]
  },
  {
   "cell_type": "code",
   "execution_count": 21,
   "id": "6f36c09f-3f3e-4c18-8930-5e84dc7c321b",
   "metadata": {
    "tags": []
   },
   "outputs": [
    {
     "data": {
      "text/plain": [
       "       Formula: count ~ livebait + camper + persons + child\n",
       "                psi ~ livebait + camper + persons + child\n",
       "        Family: zero_inflated_poisson\n",
       "          Link: mu = log\n",
       "                psi = logit\n",
       "  Observations: 248\n",
       "        Priors: \n",
       "    target = mu\n",
       "        Common-level effects\n",
       "            Intercept ~ Normal(mu: 0.0, sigma: 9.5283)\n",
       "            livebait ~ Normal(mu: 0.0, sigma: 7.2685)\n",
       "            camper ~ Normal(mu: 0.0, sigma: 5.0733)\n",
       "            persons ~ Normal(mu: 0.0, sigma: 2.2583)\n",
       "            child ~ Normal(mu: 0.0, sigma: 2.9419)\n",
       "    target = psi\n",
       "        Common-level effects\n",
       "            psi_Intercept ~ Normal(mu: 0.0, sigma: 1.0)\n",
       "            psi_livebait ~ Normal(mu: 0.0, sigma: 1.0)\n",
       "            psi_camper ~ Normal(mu: 0.0, sigma: 1.0)\n",
       "            psi_persons ~ Normal(mu: 0.0, sigma: 1.0)\n",
       "            psi_child ~ Normal(mu: 0.0, sigma: 1.0)\n",
       "------\n",
       "* To see a plot of the priors call the .plot_priors() method.\n",
       "* To see a summary or plot of the posterior pass the object returned by .fit() to az.summary() or az.plot_trace()"
      ]
     },
     "execution_count": 21,
     "metadata": {},
     "output_type": "execute_result"
    }
   ],
   "source": [
    "zip_model"
   ]
  },
  {
   "cell_type": "code",
   "execution_count": 22,
   "id": "df38b5b2-3b4a-4283-a161-4fa9e97d3095",
   "metadata": {
    "tags": []
   },
   "outputs": [
    {
     "data": {
      "image/svg+xml": [
       "<?xml version=\"1.0\" encoding=\"UTF-8\" standalone=\"no\"?>\n",
       "<!DOCTYPE svg PUBLIC \"-//W3C//DTD SVG 1.1//EN\"\n",
       " \"http://www.w3.org/Graphics/SVG/1.1/DTD/svg11.dtd\">\n",
       "<!-- Generated by graphviz version 2.50.0 (0)\n",
       " -->\n",
       "<!-- Pages: 1 -->\n",
       "<svg width=\"935pt\" height=\"374pt\"\n",
       " viewBox=\"0.00 0.00 934.57 373.86\" xmlns=\"http://www.w3.org/2000/svg\" xmlns:xlink=\"http://www.w3.org/1999/xlink\">\n",
       "<g id=\"graph0\" class=\"graph\" transform=\"scale(1 1) rotate(0) translate(4 369.86)\">\n",
       "<polygon fill=\"white\" stroke=\"transparent\" points=\"-4,4 -4,-369.86 930.57,-369.86 930.57,4 -4,4\"/>\n",
       "<g id=\"clust3\" class=\"cluster\">\n",
       "<title>clusterpsi_livebait_dim (1)</title>\n",
       "<path fill=\"none\" stroke=\"black\" d=\"M386.57,-243.91C386.57,-243.91 492.57,-243.91 492.57,-243.91 498.57,-243.91 504.57,-249.91 504.57,-255.91 504.57,-255.91 504.57,-345.86 504.57,-345.86 504.57,-351.86 498.57,-357.86 492.57,-357.86 492.57,-357.86 386.57,-357.86 386.57,-357.86 380.57,-357.86 374.57,-351.86 374.57,-345.86 374.57,-345.86 374.57,-255.91 374.57,-255.91 374.57,-249.91 380.57,-243.91 386.57,-243.91\"/>\n",
       "<text text-anchor=\"middle\" x=\"440.57\" y=\"-251.71\" font-family=\"Times New Roman,serif\" font-size=\"14.00\">psi_livebait_dim (1)</text>\n",
       "</g>\n",
       "<g id=\"clust1\" class=\"cluster\">\n",
       "<title>clusterlivebait_dim (1)</title>\n",
       "<path fill=\"none\" stroke=\"black\" d=\"M712.57,-121.95C712.57,-121.95 793.57,-121.95 793.57,-121.95 799.57,-121.95 805.57,-127.95 805.57,-133.95 805.57,-133.95 805.57,-223.91 805.57,-223.91 805.57,-229.91 799.57,-235.91 793.57,-235.91 793.57,-235.91 712.57,-235.91 712.57,-235.91 706.57,-235.91 700.57,-229.91 700.57,-223.91 700.57,-223.91 700.57,-133.95 700.57,-133.95 700.57,-127.95 706.57,-121.95 712.57,-121.95\"/>\n",
       "<text text-anchor=\"middle\" x=\"753.07\" y=\"-129.75\" font-family=\"Times New Roman,serif\" font-size=\"14.00\">livebait_dim (1)</text>\n",
       "</g>\n",
       "<g id=\"clust2\" class=\"cluster\">\n",
       "<title>clustercamper_dim (1)</title>\n",
       "<path fill=\"none\" stroke=\"black\" d=\"M825.57,-121.95C825.57,-121.95 906.57,-121.95 906.57,-121.95 912.57,-121.95 918.57,-127.95 918.57,-133.95 918.57,-133.95 918.57,-223.91 918.57,-223.91 918.57,-229.91 912.57,-235.91 906.57,-235.91 906.57,-235.91 825.57,-235.91 825.57,-235.91 819.57,-235.91 813.57,-229.91 813.57,-223.91 813.57,-223.91 813.57,-133.95 813.57,-133.95 813.57,-127.95 819.57,-121.95 825.57,-121.95\"/>\n",
       "<text text-anchor=\"middle\" x=\"866.07\" y=\"-129.75\" font-family=\"Times New Roman,serif\" font-size=\"14.00\">camper_dim (1)</text>\n",
       "</g>\n",
       "<g id=\"clust4\" class=\"cluster\">\n",
       "<title>clusterpsi_camper_dim (1)</title>\n",
       "<path fill=\"none\" stroke=\"black\" d=\"M524.57,-243.91C524.57,-243.91 630.57,-243.91 630.57,-243.91 636.57,-243.91 642.57,-249.91 642.57,-255.91 642.57,-255.91 642.57,-345.86 642.57,-345.86 642.57,-351.86 636.57,-357.86 630.57,-357.86 630.57,-357.86 524.57,-357.86 524.57,-357.86 518.57,-357.86 512.57,-351.86 512.57,-345.86 512.57,-345.86 512.57,-255.91 512.57,-255.91 512.57,-249.91 518.57,-243.91 524.57,-243.91\"/>\n",
       "<text text-anchor=\"middle\" x=\"578.57\" y=\"-251.71\" font-family=\"Times New Roman,serif\" font-size=\"14.00\">psi_camper_dim (1)</text>\n",
       "</g>\n",
       "<g id=\"clust5\" class=\"cluster\">\n",
       "<title>clustercount_obs (248)</title>\n",
       "<path fill=\"none\" stroke=\"black\" d=\"M229.57,-8C229.57,-8 377.57,-8 377.57,-8 383.57,-8 389.57,-14 389.57,-20 389.57,-20 389.57,-212.93 389.57,-212.93 389.57,-218.93 383.57,-224.93 377.57,-224.93 377.57,-224.93 229.57,-224.93 229.57,-224.93 223.57,-224.93 217.57,-218.93 217.57,-212.93 217.57,-212.93 217.57,-20 217.57,-20 217.57,-14 223.57,-8 229.57,-8\"/>\n",
       "<text text-anchor=\"middle\" x=\"337.07\" y=\"-15.8\" font-family=\"Times New Roman,serif\" font-size=\"14.00\">count_obs (248)</text>\n",
       "</g>\n",
       "<!-- psi_persons -->\n",
       "<g id=\"node1\" class=\"node\">\n",
       "<title>psi_persons</title>\n",
       "<ellipse fill=\"none\" stroke=\"black\" cx=\"56.57\" cy=\"-312.38\" rx=\"56.64\" ry=\"37.45\"/>\n",
       "<text text-anchor=\"middle\" x=\"56.57\" y=\"-323.68\" font-family=\"Times New Roman,serif\" font-size=\"14.00\">psi_persons</text>\n",
       "<text text-anchor=\"middle\" x=\"56.57\" y=\"-308.68\" font-family=\"Times New Roman,serif\" font-size=\"14.00\">~</text>\n",
       "<text text-anchor=\"middle\" x=\"56.57\" y=\"-293.68\" font-family=\"Times New Roman,serif\" font-size=\"14.00\">Normal</text>\n",
       "</g>\n",
       "<!-- psi -->\n",
       "<g id=\"node12\" class=\"node\">\n",
       "<title>psi</title>\n",
       "<polygon fill=\"none\" stroke=\"black\" points=\"349.07,-216.93 258.07,-216.93 258.07,-163.93 349.07,-163.93 349.07,-216.93\"/>\n",
       "<text text-anchor=\"middle\" x=\"303.57\" y=\"-201.73\" font-family=\"Times New Roman,serif\" font-size=\"14.00\">psi</text>\n",
       "<text text-anchor=\"middle\" x=\"303.57\" y=\"-186.73\" font-family=\"Times New Roman,serif\" font-size=\"14.00\">~</text>\n",
       "<text text-anchor=\"middle\" x=\"303.57\" y=\"-171.73\" font-family=\"Times New Roman,serif\" font-size=\"14.00\">Deterministic</text>\n",
       "</g>\n",
       "<!-- psi_persons&#45;&gt;psi -->\n",
       "<g id=\"edge2\" class=\"edge\">\n",
       "<title>psi_persons&#45;&gt;psi</title>\n",
       "<path fill=\"none\" stroke=\"black\" d=\"M81.85,-278.55C92.86,-266.15 106.66,-252.89 121.57,-243.91 160.31,-220.55 209.97,-207.15 247.63,-199.74\"/>\n",
       "<polygon fill=\"black\" stroke=\"black\" points=\"248.73,-203.09 257.91,-197.8 247.44,-196.21 248.73,-203.09\"/>\n",
       "</g>\n",
       "<!-- child -->\n",
       "<g id=\"node2\" class=\"node\">\n",
       "<title>child</title>\n",
       "<ellipse fill=\"none\" stroke=\"black\" cx=\"439.57\" cy=\"-190.43\" rx=\"41.94\" ry=\"37.45\"/>\n",
       "<text text-anchor=\"middle\" x=\"439.57\" y=\"-201.73\" font-family=\"Times New Roman,serif\" font-size=\"14.00\">child</text>\n",
       "<text text-anchor=\"middle\" x=\"439.57\" y=\"-186.73\" font-family=\"Times New Roman,serif\" font-size=\"14.00\">~</text>\n",
       "<text text-anchor=\"middle\" x=\"439.57\" y=\"-171.73\" font-family=\"Times New Roman,serif\" font-size=\"14.00\">Normal</text>\n",
       "</g>\n",
       "<!-- count -->\n",
       "<g id=\"node11\" class=\"node\">\n",
       "<title>count</title>\n",
       "<ellipse fill=\"lightgrey\" stroke=\"black\" cx=\"303.57\" cy=\"-76.48\" rx=\"78.48\" ry=\"37.45\"/>\n",
       "<text text-anchor=\"middle\" x=\"303.57\" y=\"-87.78\" font-family=\"Times New Roman,serif\" font-size=\"14.00\">count</text>\n",
       "<text text-anchor=\"middle\" x=\"303.57\" y=\"-72.78\" font-family=\"Times New Roman,serif\" font-size=\"14.00\">~</text>\n",
       "<text text-anchor=\"middle\" x=\"303.57\" y=\"-57.78\" font-family=\"Times New Roman,serif\" font-size=\"14.00\">MarginalMixture</text>\n",
       "</g>\n",
       "<!-- child&#45;&gt;count -->\n",
       "<g id=\"edge8\" class=\"edge\">\n",
       "<title>child&#45;&gt;count</title>\n",
       "<path fill=\"none\" stroke=\"black\" d=\"M421.72,-156.2C414.19,-144.33 404.59,-131.54 393.57,-121.95 387.05,-116.28 379.67,-111.14 372.02,-106.53\"/>\n",
       "<polygon fill=\"black\" stroke=\"black\" points=\"373.37,-103.27 362.95,-101.37 369.91,-109.36 373.37,-103.27\"/>\n",
       "</g>\n",
       "<!-- psi_child -->\n",
       "<g id=\"node3\" class=\"node\">\n",
       "<title>psi_child</title>\n",
       "<ellipse fill=\"none\" stroke=\"black\" cx=\"177.57\" cy=\"-312.38\" rx=\"46.84\" ry=\"37.45\"/>\n",
       "<text text-anchor=\"middle\" x=\"177.57\" y=\"-323.68\" font-family=\"Times New Roman,serif\" font-size=\"14.00\">psi_child</text>\n",
       "<text text-anchor=\"middle\" x=\"177.57\" y=\"-308.68\" font-family=\"Times New Roman,serif\" font-size=\"14.00\">~</text>\n",
       "<text text-anchor=\"middle\" x=\"177.57\" y=\"-293.68\" font-family=\"Times New Roman,serif\" font-size=\"14.00\">Normal</text>\n",
       "</g>\n",
       "<!-- psi_child&#45;&gt;psi -->\n",
       "<g id=\"edge3\" class=\"edge\">\n",
       "<title>psi_child&#45;&gt;psi</title>\n",
       "<path fill=\"none\" stroke=\"black\" d=\"M200.68,-279.74C209.98,-267.92 221.19,-254.75 232.57,-243.91 240.13,-236.69 248.71,-229.6 257.22,-223.07\"/>\n",
       "<polygon fill=\"black\" stroke=\"black\" points=\"259.41,-225.8 265.32,-217 255.22,-220.19 259.41,-225.8\"/>\n",
       "</g>\n",
       "<!-- psi_Intercept -->\n",
       "<g id=\"node4\" class=\"node\">\n",
       "<title>psi_Intercept</title>\n",
       "<ellipse fill=\"none\" stroke=\"black\" cx=\"303.57\" cy=\"-312.38\" rx=\"61.54\" ry=\"37.45\"/>\n",
       "<text text-anchor=\"middle\" x=\"303.57\" y=\"-323.68\" font-family=\"Times New Roman,serif\" font-size=\"14.00\">psi_Intercept</text>\n",
       "<text text-anchor=\"middle\" x=\"303.57\" y=\"-308.68\" font-family=\"Times New Roman,serif\" font-size=\"14.00\">~</text>\n",
       "<text text-anchor=\"middle\" x=\"303.57\" y=\"-293.68\" font-family=\"Times New Roman,serif\" font-size=\"14.00\">Normal</text>\n",
       "</g>\n",
       "<!-- psi_Intercept&#45;&gt;psi -->\n",
       "<g id=\"edge4\" class=\"edge\">\n",
       "<title>psi_Intercept&#45;&gt;psi</title>\n",
       "<path fill=\"none\" stroke=\"black\" d=\"M303.57,-274.74C303.57,-259.77 303.57,-242.51 303.57,-227.59\"/>\n",
       "<polygon fill=\"black\" stroke=\"black\" points=\"307.07,-227.2 303.57,-217.2 300.07,-227.2 307.07,-227.2\"/>\n",
       "</g>\n",
       "<!-- persons -->\n",
       "<g id=\"node5\" class=\"node\">\n",
       "<title>persons</title>\n",
       "<ellipse fill=\"none\" stroke=\"black\" cx=\"540.57\" cy=\"-190.43\" rx=\"41.94\" ry=\"37.45\"/>\n",
       "<text text-anchor=\"middle\" x=\"540.57\" y=\"-201.73\" font-family=\"Times New Roman,serif\" font-size=\"14.00\">persons</text>\n",
       "<text text-anchor=\"middle\" x=\"540.57\" y=\"-186.73\" font-family=\"Times New Roman,serif\" font-size=\"14.00\">~</text>\n",
       "<text text-anchor=\"middle\" x=\"540.57\" y=\"-171.73\" font-family=\"Times New Roman,serif\" font-size=\"14.00\">Normal</text>\n",
       "</g>\n",
       "<!-- persons&#45;&gt;count -->\n",
       "<g id=\"edge11\" class=\"edge\">\n",
       "<title>persons&#45;&gt;count</title>\n",
       "<path fill=\"none\" stroke=\"black\" d=\"M522.7,-156.2C514.46,-143.74 503.59,-130.55 490.57,-121.95 461.16,-102.55 424.2,-91.58 390.93,-85.4\"/>\n",
       "<polygon fill=\"black\" stroke=\"black\" points=\"391.18,-81.89 380.73,-83.63 389.98,-88.79 391.18,-81.89\"/>\n",
       "</g>\n",
       "<!-- Intercept -->\n",
       "<g id=\"node6\" class=\"node\">\n",
       "<title>Intercept</title>\n",
       "<ellipse fill=\"none\" stroke=\"black\" cx=\"646.57\" cy=\"-190.43\" rx=\"45.92\" ry=\"37.45\"/>\n",
       "<text text-anchor=\"middle\" x=\"646.57\" y=\"-201.73\" font-family=\"Times New Roman,serif\" font-size=\"14.00\">Intercept</text>\n",
       "<text text-anchor=\"middle\" x=\"646.57\" y=\"-186.73\" font-family=\"Times New Roman,serif\" font-size=\"14.00\">~</text>\n",
       "<text text-anchor=\"middle\" x=\"646.57\" y=\"-171.73\" font-family=\"Times New Roman,serif\" font-size=\"14.00\">Normal</text>\n",
       "</g>\n",
       "<!-- Intercept&#45;&gt;count -->\n",
       "<g id=\"edge10\" class=\"edge\">\n",
       "<title>Intercept&#45;&gt;count</title>\n",
       "<path fill=\"none\" stroke=\"black\" d=\"M627.13,-156.33C617.96,-143.59 605.86,-130.14 591.57,-121.95 558.18,-102.83 462.81,-90.73 390.89,-84.06\"/>\n",
       "<polygon fill=\"black\" stroke=\"black\" points=\"391.18,-80.57 380.9,-83.15 390.55,-87.54 391.18,-80.57\"/>\n",
       "</g>\n",
       "<!-- livebait -->\n",
       "<g id=\"node7\" class=\"node\">\n",
       "<title>livebait</title>\n",
       "<ellipse fill=\"none\" stroke=\"black\" cx=\"752.57\" cy=\"-190.43\" rx=\"41.94\" ry=\"37.45\"/>\n",
       "<text text-anchor=\"middle\" x=\"752.57\" y=\"-201.73\" font-family=\"Times New Roman,serif\" font-size=\"14.00\">livebait</text>\n",
       "<text text-anchor=\"middle\" x=\"752.57\" y=\"-186.73\" font-family=\"Times New Roman,serif\" font-size=\"14.00\">~</text>\n",
       "<text text-anchor=\"middle\" x=\"752.57\" y=\"-171.73\" font-family=\"Times New Roman,serif\" font-size=\"14.00\">Normal</text>\n",
       "</g>\n",
       "<!-- livebait&#45;&gt;count -->\n",
       "<g id=\"edge6\" class=\"edge\">\n",
       "<title>livebait&#45;&gt;count</title>\n",
       "<path fill=\"none\" stroke=\"black\" d=\"M735.19,-156.07C726.79,-143.28 715.48,-129.87 701.57,-121.95 650.45,-92.86 493.06,-82.8 392.19,-79.31\"/>\n",
       "<polygon fill=\"black\" stroke=\"black\" points=\"392.12,-75.81 382.01,-78.98 391.89,-82.81 392.12,-75.81\"/>\n",
       "</g>\n",
       "<!-- camper -->\n",
       "<g id=\"node8\" class=\"node\">\n",
       "<title>camper</title>\n",
       "<ellipse fill=\"none\" stroke=\"black\" cx=\"863.57\" cy=\"-190.43\" rx=\"41.94\" ry=\"37.45\"/>\n",
       "<text text-anchor=\"middle\" x=\"863.57\" y=\"-201.73\" font-family=\"Times New Roman,serif\" font-size=\"14.00\">camper</text>\n",
       "<text text-anchor=\"middle\" x=\"863.57\" y=\"-186.73\" font-family=\"Times New Roman,serif\" font-size=\"14.00\">~</text>\n",
       "<text text-anchor=\"middle\" x=\"863.57\" y=\"-171.73\" font-family=\"Times New Roman,serif\" font-size=\"14.00\">Normal</text>\n",
       "</g>\n",
       "<!-- camper&#45;&gt;count -->\n",
       "<g id=\"edge9\" class=\"edge\">\n",
       "<title>camper&#45;&gt;count</title>\n",
       "<path fill=\"none\" stroke=\"black\" d=\"M845.35,-156.58C836.35,-143.55 824.25,-129.82 809.57,-121.95 739.63,-84.49 518.01,-77.72 392.5,-77\"/>\n",
       "<polygon fill=\"black\" stroke=\"black\" points=\"392.17,-73.5 382.15,-76.95 392.13,-80.5 392.17,-73.5\"/>\n",
       "</g>\n",
       "<!-- psi_livebait -->\n",
       "<g id=\"node9\" class=\"node\">\n",
       "<title>psi_livebait</title>\n",
       "<ellipse fill=\"none\" stroke=\"black\" cx=\"439.57\" cy=\"-312.38\" rx=\"56.64\" ry=\"37.45\"/>\n",
       "<text text-anchor=\"middle\" x=\"439.57\" y=\"-323.68\" font-family=\"Times New Roman,serif\" font-size=\"14.00\">psi_livebait</text>\n",
       "<text text-anchor=\"middle\" x=\"439.57\" y=\"-308.68\" font-family=\"Times New Roman,serif\" font-size=\"14.00\">~</text>\n",
       "<text text-anchor=\"middle\" x=\"439.57\" y=\"-293.68\" font-family=\"Times New Roman,serif\" font-size=\"14.00\">Normal</text>\n",
       "</g>\n",
       "<!-- psi_livebait&#45;&gt;psi -->\n",
       "<g id=\"edge1\" class=\"edge\">\n",
       "<title>psi_livebait&#45;&gt;psi</title>\n",
       "<path fill=\"none\" stroke=\"black\" d=\"M411.16,-279.73C400.14,-268.04 387.16,-254.96 374.57,-243.91 366.54,-236.86 357.61,-229.76 348.88,-223.15\"/>\n",
       "<polygon fill=\"black\" stroke=\"black\" points=\"350.71,-220.15 340.6,-216.99 346.53,-225.77 350.71,-220.15\"/>\n",
       "</g>\n",
       "<!-- psi_camper -->\n",
       "<g id=\"node10\" class=\"node\">\n",
       "<title>psi_camper</title>\n",
       "<ellipse fill=\"none\" stroke=\"black\" cx=\"577.57\" cy=\"-312.38\" rx=\"56.64\" ry=\"37.45\"/>\n",
       "<text text-anchor=\"middle\" x=\"577.57\" y=\"-323.68\" font-family=\"Times New Roman,serif\" font-size=\"14.00\">psi_camper</text>\n",
       "<text text-anchor=\"middle\" x=\"577.57\" y=\"-308.68\" font-family=\"Times New Roman,serif\" font-size=\"14.00\">~</text>\n",
       "<text text-anchor=\"middle\" x=\"577.57\" y=\"-293.68\" font-family=\"Times New Roman,serif\" font-size=\"14.00\">Normal</text>\n",
       "</g>\n",
       "<!-- psi_camper&#45;&gt;psi -->\n",
       "<g id=\"edge5\" class=\"edge\">\n",
       "<title>psi_camper&#45;&gt;psi</title>\n",
       "<path fill=\"none\" stroke=\"black\" d=\"M552.9,-278.62C541.05,-265.44 525.7,-251.57 508.57,-243.91 484.17,-233 414.3,-243.15 388.57,-235.91 376.55,-232.52 364.28,-227.31 352.94,-221.63\"/>\n",
       "<polygon fill=\"black\" stroke=\"black\" points=\"354.55,-218.52 344.07,-216.99 351.31,-224.72 354.55,-218.52\"/>\n",
       "</g>\n",
       "<!-- psi&#45;&gt;count -->\n",
       "<g id=\"edge7\" class=\"edge\">\n",
       "<title>psi&#45;&gt;count</title>\n",
       "<path fill=\"none\" stroke=\"black\" d=\"M303.57,-163.75C303.57,-152.02 303.57,-137.75 303.57,-124.22\"/>\n",
       "<polygon fill=\"black\" stroke=\"black\" points=\"307.07,-124.07 303.57,-114.07 300.07,-124.07 307.07,-124.07\"/>\n",
       "</g>\n",
       "</g>\n",
       "</svg>\n"
      ],
      "text/plain": [
       "<graphviz.graphs.Digraph at 0x2a9f37e0e50>"
      ]
     },
     "execution_count": 22,
     "metadata": {},
     "output_type": "execute_result"
    }
   ],
   "source": [
    "zip_model.graph()"
   ]
  },
  {
   "cell_type": "code",
   "execution_count": 23,
   "id": "4c67632d-7f55-4bc1-ac67-09774d3919fb",
   "metadata": {
    "tags": []
   },
   "outputs": [
    {
     "data": {
      "text/html": [
       "<div>\n",
       "<style scoped>\n",
       "    .dataframe tbody tr th:only-of-type {\n",
       "        vertical-align: middle;\n",
       "    }\n",
       "\n",
       "    .dataframe tbody tr th {\n",
       "        vertical-align: top;\n",
       "    }\n",
       "\n",
       "    .dataframe thead th {\n",
       "        text-align: right;\n",
       "    }\n",
       "</style>\n",
       "<table border=\"1\" class=\"dataframe\">\n",
       "  <thead>\n",
       "    <tr style=\"text-align: right;\">\n",
       "      <th></th>\n",
       "      <th>mean</th>\n",
       "      <th>sd</th>\n",
       "      <th>hdi_3%</th>\n",
       "      <th>hdi_97%</th>\n",
       "      <th>mcse_mean</th>\n",
       "      <th>mcse_sd</th>\n",
       "      <th>ess_bulk</th>\n",
       "      <th>ess_tail</th>\n",
       "      <th>r_hat</th>\n",
       "    </tr>\n",
       "  </thead>\n",
       "  <tbody>\n",
       "    <tr>\n",
       "      <th>Intercept</th>\n",
       "      <td>-1.573</td>\n",
       "      <td>0.310</td>\n",
       "      <td>-2.130</td>\n",
       "      <td>-0.956</td>\n",
       "      <td>0.005</td>\n",
       "      <td>0.004</td>\n",
       "      <td>3593.0</td>\n",
       "      <td>3173.0</td>\n",
       "      <td>1.0</td>\n",
       "    </tr>\n",
       "    <tr>\n",
       "      <th>livebait[1.0]</th>\n",
       "      <td>1.609</td>\n",
       "      <td>0.272</td>\n",
       "      <td>1.143</td>\n",
       "      <td>2.169</td>\n",
       "      <td>0.004</td>\n",
       "      <td>0.003</td>\n",
       "      <td>4158.0</td>\n",
       "      <td>3085.0</td>\n",
       "      <td>1.0</td>\n",
       "    </tr>\n",
       "    <tr>\n",
       "      <th>camper[1.0]</th>\n",
       "      <td>0.262</td>\n",
       "      <td>0.095</td>\n",
       "      <td>0.085</td>\n",
       "      <td>0.440</td>\n",
       "      <td>0.001</td>\n",
       "      <td>0.001</td>\n",
       "      <td>5032.0</td>\n",
       "      <td>2816.0</td>\n",
       "      <td>1.0</td>\n",
       "    </tr>\n",
       "    <tr>\n",
       "      <th>persons</th>\n",
       "      <td>0.615</td>\n",
       "      <td>0.045</td>\n",
       "      <td>0.527</td>\n",
       "      <td>0.697</td>\n",
       "      <td>0.001</td>\n",
       "      <td>0.000</td>\n",
       "      <td>4864.0</td>\n",
       "      <td>2709.0</td>\n",
       "      <td>1.0</td>\n",
       "    </tr>\n",
       "    <tr>\n",
       "      <th>child</th>\n",
       "      <td>-0.795</td>\n",
       "      <td>0.094</td>\n",
       "      <td>-0.972</td>\n",
       "      <td>-0.625</td>\n",
       "      <td>0.002</td>\n",
       "      <td>0.001</td>\n",
       "      <td>3910.0</td>\n",
       "      <td>3232.0</td>\n",
       "      <td>1.0</td>\n",
       "    </tr>\n",
       "    <tr>\n",
       "      <th>psi_Intercept</th>\n",
       "      <td>-1.443</td>\n",
       "      <td>0.817</td>\n",
       "      <td>-2.941</td>\n",
       "      <td>0.124</td>\n",
       "      <td>0.013</td>\n",
       "      <td>0.009</td>\n",
       "      <td>4253.0</td>\n",
       "      <td>3018.0</td>\n",
       "      <td>1.0</td>\n",
       "    </tr>\n",
       "    <tr>\n",
       "      <th>psi_livebait[1.0]</th>\n",
       "      <td>-0.188</td>\n",
       "      <td>0.677</td>\n",
       "      <td>-1.490</td>\n",
       "      <td>1.052</td>\n",
       "      <td>0.010</td>\n",
       "      <td>0.011</td>\n",
       "      <td>4470.0</td>\n",
       "      <td>2776.0</td>\n",
       "      <td>1.0</td>\n",
       "    </tr>\n",
       "    <tr>\n",
       "      <th>psi_camper[1.0]</th>\n",
       "      <td>0.841</td>\n",
       "      <td>0.323</td>\n",
       "      <td>0.222</td>\n",
       "      <td>1.437</td>\n",
       "      <td>0.004</td>\n",
       "      <td>0.003</td>\n",
       "      <td>6002.0</td>\n",
       "      <td>3114.0</td>\n",
       "      <td>1.0</td>\n",
       "    </tr>\n",
       "    <tr>\n",
       "      <th>psi_persons</th>\n",
       "      <td>0.912</td>\n",
       "      <td>0.193</td>\n",
       "      <td>0.571</td>\n",
       "      <td>1.288</td>\n",
       "      <td>0.003</td>\n",
       "      <td>0.002</td>\n",
       "      <td>4145.0</td>\n",
       "      <td>3169.0</td>\n",
       "      <td>1.0</td>\n",
       "    </tr>\n",
       "    <tr>\n",
       "      <th>psi_child</th>\n",
       "      <td>-1.890</td>\n",
       "      <td>0.305</td>\n",
       "      <td>-2.502</td>\n",
       "      <td>-1.353</td>\n",
       "      <td>0.005</td>\n",
       "      <td>0.003</td>\n",
       "      <td>4022.0</td>\n",
       "      <td>2883.0</td>\n",
       "      <td>1.0</td>\n",
       "    </tr>\n",
       "  </tbody>\n",
       "</table>\n",
       "</div>"
      ],
      "text/plain": [
       "                    mean     sd  hdi_3%  hdi_97%  mcse_mean  mcse_sd  \\\n",
       "Intercept         -1.573  0.310  -2.130   -0.956      0.005    0.004   \n",
       "livebait[1.0]      1.609  0.272   1.143    2.169      0.004    0.003   \n",
       "camper[1.0]        0.262  0.095   0.085    0.440      0.001    0.001   \n",
       "persons            0.615  0.045   0.527    0.697      0.001    0.000   \n",
       "child             -0.795  0.094  -0.972   -0.625      0.002    0.001   \n",
       "psi_Intercept     -1.443  0.817  -2.941    0.124      0.013    0.009   \n",
       "psi_livebait[1.0] -0.188  0.677  -1.490    1.052      0.010    0.011   \n",
       "psi_camper[1.0]    0.841  0.323   0.222    1.437      0.004    0.003   \n",
       "psi_persons        0.912  0.193   0.571    1.288      0.003    0.002   \n",
       "psi_child         -1.890  0.305  -2.502   -1.353      0.005    0.003   \n",
       "\n",
       "                   ess_bulk  ess_tail  r_hat  \n",
       "Intercept            3593.0    3173.0    1.0  \n",
       "livebait[1.0]        4158.0    3085.0    1.0  \n",
       "camper[1.0]          5032.0    2816.0    1.0  \n",
       "persons              4864.0    2709.0    1.0  \n",
       "child                3910.0    3232.0    1.0  \n",
       "psi_Intercept        4253.0    3018.0    1.0  \n",
       "psi_livebait[1.0]    4470.0    2776.0    1.0  \n",
       "psi_camper[1.0]      6002.0    3114.0    1.0  \n",
       "psi_persons          4145.0    3169.0    1.0  \n",
       "psi_child            4022.0    2883.0    1.0  "
      ]
     },
     "execution_count": 23,
     "metadata": {},
     "output_type": "execute_result"
    }
   ],
   "source": [
    "az.summary(\n",
    "    zip_idata, \n",
    "    var_names=[\"Intercept\", \"livebait\", \"camper\", \"persons\", \"child\"], \n",
    "    filter_vars=\"like\"\n",
    ")"
   ]
  },
  {
   "cell_type": "code",
   "execution_count": 24,
   "id": "6f2d5e20-7845-41fb-b779-cc100b42cc2a",
   "metadata": {
    "tags": []
   },
   "outputs": [
    {
     "ename": "AttributeError",
     "evalue": "module 'bambi' has no attribute 'interpret'",
     "output_type": "error",
     "traceback": [
      "\u001b[1;31m---------------------------------------------------------------------------\u001b[0m",
      "\u001b[1;31mAttributeError\u001b[0m                            Traceback (most recent call last)",
      "Cell \u001b[1;32mIn[24], line 3\u001b[0m\n\u001b[0;32m      1\u001b[0m fig, ax \u001b[38;5;241m=\u001b[39m plt\u001b[38;5;241m.\u001b[39msubplots(nrows\u001b[38;5;241m=\u001b[39m\u001b[38;5;241m1\u001b[39m, ncols\u001b[38;5;241m=\u001b[39m\u001b[38;5;241m2\u001b[39m, figsize\u001b[38;5;241m=\u001b[39m(\u001b[38;5;241m10\u001b[39m, \u001b[38;5;241m3\u001b[39m))\n\u001b[1;32m----> 3\u001b[0m bmb\u001b[38;5;241m.\u001b[39minterpret\u001b[38;5;241m.\u001b[39mplot_predictions(\n\u001b[0;32m      4\u001b[0m     zip_model,\n\u001b[0;32m      5\u001b[0m     zip_idata,\n\u001b[0;32m      6\u001b[0m     covariates\u001b[38;5;241m=\u001b[39m\u001b[38;5;124m\"\u001b[39m\u001b[38;5;124mpersons\u001b[39m\u001b[38;5;124m\"\u001b[39m,\n\u001b[0;32m      7\u001b[0m     ax\u001b[38;5;241m=\u001b[39max[\u001b[38;5;241m0\u001b[39m]\n\u001b[0;32m      8\u001b[0m )\n\u001b[0;32m      9\u001b[0m ax[\u001b[38;5;241m0\u001b[39m]\u001b[38;5;241m.\u001b[39mset_ylabel(\u001b[38;5;124m\"\u001b[39m\u001b[38;5;124mmu (fish count)\u001b[39m\u001b[38;5;124m\"\u001b[39m)\n\u001b[0;32m     10\u001b[0m ax[\u001b[38;5;241m0\u001b[39m]\u001b[38;5;241m.\u001b[39mset_title(\u001b[38;5;124m\"\u001b[39m\u001b[38;5;124m$\u001b[39m\u001b[38;5;130;01m\\\\\u001b[39;00m\u001b[38;5;124mmu$ as a function of persons\u001b[39m\u001b[38;5;124m\"\u001b[39m)\n",
      "\u001b[1;31mAttributeError\u001b[0m: module 'bambi' has no attribute 'interpret'"
     ]
    },
    {
     "data": {
      "image/png": "[encoded data removed]",
      "text/plain": [
       "<Figure size 1000x300 with 2 Axes>"
      ]
     },
     "metadata": {},
     "output_type": "display_data"
    }
   ],
   "source": [
    "fig, ax = plt.subplots(nrows=1, ncols=2, figsize=(10, 3))\n",
    "\n",
    "bmb.interpret.plot_predictions(\n",
    "    zip_model,\n",
    "    zip_idata,\n",
    "    covariates=\"persons\",\n",
    "    ax=ax[0]\n",
    ")\n",
    "ax[0].set_ylabel(\"mu (fish count)\")\n",
    "ax[0].set_title(\"$\\\\mu$ as a function of persons\")\n",
    "\n",
    "bmb.interpret.plot_predictions(\n",
    "    zip_model,\n",
    "    zip_idata,\n",
    "    covariates=\"persons\",\n",
    "    target=\"psi\",\n",
    "    ax=ax[1]\n",
    ")\n",
    "ax[1].set_title(\"$\\\\psi$ as a function of persons\");"
   ]
  },
  {
   "cell_type": "code",
   "execution_count": null,
   "id": "f6685b36-5079-460b-9222-23d1ba002c9a",
   "metadata": {},
   "outputs": [],
   "source": []
  }
 ],
 "metadata": {
  "kernelspec": {
   "display_name": "Python 3 (ipykernel)",
   "language": "python",
   "name": "python3"
  },
  "language_info": {
   "codemirror_mode": {
    "name": "ipython",
    "version": 3
   },
   "file_extension": ".py",
   "mimetype": "text/x-python",
   "name": "python",
   "nbconvert_exporter": "python",
   "pygments_lexer": "ipython3",
   "version": "3.11.4"
  }
 },
 "nbformat": 4,
 "nbformat_minor": 5
}
