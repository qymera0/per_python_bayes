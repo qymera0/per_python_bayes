{
 "cells": [
  {
   "cell_type": "markdown",
   "id": "a4f6de0b-746a-4607-8102-1cd9146f2f48",
   "metadata": {},
   "source": [
    "# ORDINAL REGRESSION"
   ]
  },
  {
   "cell_type": "markdown",
   "id": "e1d0ada2-fa2e-4f8c-bf2d-a7a43c937e0f",
   "metadata": {},
   "source": [
    "## Load libraries"
   ]
  },
  {
   "cell_type": "code",
   "execution_count": 1,
   "id": "c932b210-085f-4d90-8c02-9556cceb6976",
   "metadata": {
    "tags": []
   },
   "outputs": [
    {
     "name": "stderr",
     "output_type": "stream",
     "text": [
      "WARNING (pytensor.tensor.blas): Using NumPy C-API based implementation for BLAS functions.\n"
     ]
    }
   ],
   "source": [
    "import arviz as az\n",
    "import matplotlib.pyplot as plt\n",
    "from matplotlib.lines import Line2D\n",
    "import numpy as np\n",
    "import pandas as pd\n",
    "import warnings\n",
    "\n",
    "import bambi as bmb\n",
    "\n",
    "warnings.filterwarnings(\"ignore\", category=FutureWarning)"
   ]
  },
  {
   "cell_type": "markdown",
   "id": "5dacd8e3-627b-4337-a0fa-61cbeaf0f3cd",
   "metadata": {},
   "source": [
    "## Load data"
   ]
  },
  {
   "cell_type": "code",
   "execution_count": 2,
   "id": "03cb3add-529f-40da-bb79-3ecde82b41f2",
   "metadata": {
    "tags": []
   },
   "outputs": [],
   "source": [
    "trolly = pd.read_csv(\"https://raw.githubusercontent.com/rmcelreath/rethinking/master/data/Trolley.csv\", sep=\";\")\n",
    "trolly = trolly[[\"response\", \"action\", \"intention\", \"contact\"]]\n",
    "trolly[\"action\"] = pd.Categorical(trolly[\"action\"], ordered=False)\n",
    "trolly[\"intention\"] = pd.Categorical(trolly[\"intention\"], ordered=False)\n",
    "trolly[\"contact\"] = pd.Categorical(trolly[\"contact\"], ordered=False)\n",
    "trolly[\"response\"] = pd.Categorical(trolly[\"response\"], ordered=True)"
   ]
  },
  {
   "cell_type": "code",
   "execution_count": 3,
   "id": "d3cacc8c-7060-40e6-97b0-0ef0562b3875",
   "metadata": {
    "tags": []
   },
   "outputs": [
    {
     "data": {
      "text/plain": [
       "[4, 3, 5, 2, 1, 7, 6]\n",
       "Categories (7, int64): [1 < 2 < 3 < 4 < 5 < 6 < 7]"
      ]
     },
     "execution_count": 3,
     "metadata": {},
     "output_type": "execute_result"
    }
   ],
   "source": [
    "# 7 ordered categories from 1-7\n",
    "trolly.response.unique()"
   ]
  },
  {
   "cell_type": "markdown",
   "id": "de8b2b20-52e5-48a2-9c66-1772e502a6e9",
   "metadata": {},
   "source": [
    "## Intercept only model"
   ]
  },
  {
   "cell_type": "code",
   "execution_count": 5,
   "id": "d8063cfa-a1ad-4686-b41e-e2fabe4cbfe5",
   "metadata": {
    "tags": []
   },
   "outputs": [],
   "source": [
    "pr_k = trolly.response.value_counts().sort_index().values / trolly.shape[0]"
   ]
  },
  {
   "cell_type": "code",
   "execution_count": 18,
   "id": "772d1dc4-bf2d-41c4-811f-2ae21882498c",
   "metadata": {
    "tags": []
   },
   "outputs": [
    {
     "data": {
      "text/plain": [
       "array([0.12829809, 0.09154079, 0.10785498, 0.23393756, 0.14723061,\n",
       "       0.14551863, 0.14561934])"
      ]
     },
     "execution_count": 18,
     "metadata": {},
     "output_type": "execute_result"
    }
   ],
   "source": [
    "pr_k"
   ]
  },
  {
   "cell_type": "code",
   "execution_count": 19,
   "id": "9b3637e5-9d47-40ec-ae6f-8f803b2b1039",
   "metadata": {
    "tags": []
   },
   "outputs": [
    {
     "data": {
      "text/plain": [
       "array([0.12829809, 0.21983887, 0.32769386, 0.56163142, 0.70886203,\n",
       "       0.85438066, 1.        ])"
      ]
     },
     "execution_count": 19,
     "metadata": {},
     "output_type": "execute_result"
    }
   ],
   "source": [
    "cum_pr_k = np.cumsum(pr_k)\n",
    "cum_pr_k"
   ]
  },
  {
   "cell_type": "code",
   "execution_count": 20,
   "id": "f2124fa5-e0ae-4d8a-82ec-141c7a31a858",
   "metadata": {
    "tags": []
   },
   "outputs": [
    {
     "name": "stderr",
     "output_type": "stream",
     "text": [
      "C:\\Users\\bacos1\\AppData\\Local\\Temp\\ipykernel_5944\\1929668909.py:1: RuntimeWarning: invalid value encountered in log\n",
      "  logit_func = lambda x: np.log(x / (1 - x))\n"
     ]
    },
    {
     "data": {
      "text/plain": [
       "array([-1.91609116, -1.26660559, -0.718634  ,  0.24778573,  0.88986365,\n",
       "        1.76938091,         nan])"
      ]
     },
     "execution_count": 20,
     "metadata": {},
     "output_type": "execute_result"
    }
   ],
   "source": [
    "logit_func = lambda x: np.log(x / (1 - x))\n",
    "cum_logit = logit_func(cum_pr_k)\n",
    "cum_logit"
   ]
  },
  {
   "cell_type": "code",
   "execution_count": 7,
   "id": "f90054bd-9bc0-409d-be85-3f9da450ce13",
   "metadata": {
    "tags": []
   },
   "outputs": [
    {
     "data": {
      "image/png": "[encoded data removed]",
      "text/plain": [
       "<Figure size 700x300 with 1 Axes>"
      ]
     },
     "metadata": {},
     "output_type": "display_data"
    }
   ],
   "source": [
    "plt.figure(figsize=(7, 3))\n",
    "plt.bar(np.arange(1, 8), pr_k)\n",
    "plt.ylabel(\"Probability\")\n",
    "plt.xlabel(\"Response\")\n",
    "plt.title(\"Empirical probability of each response category\");"
   ]
  },
  {
   "cell_type": "markdown",
   "id": "5aa284db-ab3c-4ef7-8908-c41c28309973",
   "metadata": {},
   "source": [
    "## First model"
   ]
  },
  {
   "cell_type": "code",
   "execution_count": 8,
   "id": "66cb4ad0-94fb-4c3a-92a0-33ec6b019286",
   "metadata": {
    "tags": []
   },
   "outputs": [],
   "source": [
    "model = bmb.Model(\n",
    "                    \"response ~ 0\",\n",
    "                    data = trolly,\n",
    "                    family = 'cumulative'\n",
    ")"
   ]
  },
  {
   "cell_type": "code",
   "execution_count": 10,
   "id": "3b236a6d-3af1-4bf8-b032-f81c6ef74ba0",
   "metadata": {
    "tags": []
   },
   "outputs": [
    {
     "name": "stderr",
     "output_type": "stream",
     "text": [
      "Auto-assigning NUTS sampler...\n",
      "Initializing NUTS using jitter+adapt_diag...\n",
      "Multiprocess sampling (4 chains in 4 jobs)\n",
      "NUTS: [response_threshold]\n"
     ]
    },
    {
     "data": {
      "text/html": [
       "\n",
       "<style>\n",
       "    /* Turns off some styling */\n",
       "    progress {\n",
       "        /* gets rid of default border in Firefox and Opera. */\n",
       "        border: none;\n",
       "        /* Needs to be in here for Safari polyfill so background images work as expected. */\n",
       "        background-size: auto;\n",
       "    }\n",
       "    progress:not([value]), progress:not([value])::-webkit-progress-bar {\n",
       "        background: repeating-linear-gradient(45deg, #7e7e7e, #7e7e7e 10px, #5c5c5c 10px, #5c5c5c 20px);\n",
       "    }\n",
       "    .progress-bar-interrupted, .progress-bar-interrupted::-webkit-progress-bar {\n",
       "        background: #F44336;\n",
       "    }\n",
       "</style>\n"
      ],
      "text/plain": [
       "<IPython.core.display.HTML object>"
      ]
     },
     "metadata": {},
     "output_type": "display_data"
    },
    {
     "data": {
      "text/html": [
       "\n",
       "    <div>\n",
       "      <progress value='8000' class='' max='8000' style='width:300px; height:20px; vertical-align: middle;'></progress>\n",
       "      100.00% [8000/8000 00:15&lt;00:00 Sampling 4 chains, 0 divergences]\n",
       "    </div>\n",
       "    "
      ],
      "text/plain": [
       "<IPython.core.display.HTML object>"
      ]
     },
     "metadata": {},
     "output_type": "display_data"
    },
    {
     "name": "stderr",
     "output_type": "stream",
     "text": [
      "Sampling 4 chains for 1_000 tune and 1_000 draw iterations (4_000 + 4_000 draws total) took 47 seconds.\n"
     ]
    }
   ],
   "source": [
    "idata = model.fit(random_seed = 1234)"
   ]
  },
  {
   "cell_type": "code",
   "execution_count": 11,
   "id": "4df45b0c-b72d-4d17-a085-646b2a7df368",
   "metadata": {
    "tags": []
   },
   "outputs": [
    {
     "data": {
      "text/plain": [
       "       Formula: response ~ 0\n",
       "        Family: cumulative\n",
       "          Link: p = logit\n",
       "  Observations: 9930\n",
       "        Priors: \n",
       "    target = p\n",
       "        \n",
       "        \n",
       "        Auxiliary parameters\n",
       "            threshold ~ Normal(mu: [-2.  -1.2 -0.4  0.4  1.2  2. ], sigma: 1.0, transform: ordered)\n",
       "------\n",
       "* To see a plot of the priors call the .plot_priors() method.\n",
       "* To see a summary or plot of the posterior pass the object returned by .fit() to az.summary() or az.plot_trace()"
      ]
     },
     "execution_count": 11,
     "metadata": {},
     "output_type": "execute_result"
    }
   ],
   "source": [
    "model"
   ]
  },
  {
   "cell_type": "code",
   "execution_count": 12,
   "id": "fa85fc1f-443c-48cb-b9fb-960b342daf16",
   "metadata": {
    "tags": []
   },
   "outputs": [
    {
     "data": {
      "text/html": [
       "<div>\n",
       "<style scoped>\n",
       "    .dataframe tbody tr th:only-of-type {\n",
       "        vertical-align: middle;\n",
       "    }\n",
       "\n",
       "    .dataframe tbody tr th {\n",
       "        vertical-align: top;\n",
       "    }\n",
       "\n",
       "    .dataframe thead th {\n",
       "        text-align: right;\n",
       "    }\n",
       "</style>\n",
       "<table border=\"1\" class=\"dataframe\">\n",
       "  <thead>\n",
       "    <tr style=\"text-align: right;\">\n",
       "      <th></th>\n",
       "      <th>mean</th>\n",
       "      <th>sd</th>\n",
       "      <th>hdi_3%</th>\n",
       "      <th>hdi_97%</th>\n",
       "      <th>mcse_mean</th>\n",
       "      <th>mcse_sd</th>\n",
       "      <th>ess_bulk</th>\n",
       "      <th>ess_tail</th>\n",
       "      <th>r_hat</th>\n",
       "    </tr>\n",
       "  </thead>\n",
       "  <tbody>\n",
       "    <tr>\n",
       "      <th>response_threshold[0]</th>\n",
       "      <td>-1.917</td>\n",
       "      <td>0.030</td>\n",
       "      <td>-1.973</td>\n",
       "      <td>-1.861</td>\n",
       "      <td>0.0</td>\n",
       "      <td>0.0</td>\n",
       "      <td>4227.0</td>\n",
       "      <td>3176.0</td>\n",
       "      <td>1.0</td>\n",
       "    </tr>\n",
       "    <tr>\n",
       "      <th>response_threshold[1]</th>\n",
       "      <td>-1.267</td>\n",
       "      <td>0.024</td>\n",
       "      <td>-1.312</td>\n",
       "      <td>-1.221</td>\n",
       "      <td>0.0</td>\n",
       "      <td>0.0</td>\n",
       "      <td>4754.0</td>\n",
       "      <td>3581.0</td>\n",
       "      <td>1.0</td>\n",
       "    </tr>\n",
       "    <tr>\n",
       "      <th>response_threshold[2]</th>\n",
       "      <td>-0.719</td>\n",
       "      <td>0.021</td>\n",
       "      <td>-0.759</td>\n",
       "      <td>-0.678</td>\n",
       "      <td>0.0</td>\n",
       "      <td>0.0</td>\n",
       "      <td>5284.0</td>\n",
       "      <td>3229.0</td>\n",
       "      <td>1.0</td>\n",
       "    </tr>\n",
       "    <tr>\n",
       "      <th>response_threshold[3]</th>\n",
       "      <td>0.248</td>\n",
       "      <td>0.020</td>\n",
       "      <td>0.210</td>\n",
       "      <td>0.286</td>\n",
       "      <td>0.0</td>\n",
       "      <td>0.0</td>\n",
       "      <td>4945.0</td>\n",
       "      <td>3394.0</td>\n",
       "      <td>1.0</td>\n",
       "    </tr>\n",
       "    <tr>\n",
       "      <th>response_threshold[4]</th>\n",
       "      <td>0.890</td>\n",
       "      <td>0.022</td>\n",
       "      <td>0.847</td>\n",
       "      <td>0.930</td>\n",
       "      <td>0.0</td>\n",
       "      <td>0.0</td>\n",
       "      <td>5373.0</td>\n",
       "      <td>3444.0</td>\n",
       "      <td>1.0</td>\n",
       "    </tr>\n",
       "    <tr>\n",
       "      <th>response_threshold[5]</th>\n",
       "      <td>1.771</td>\n",
       "      <td>0.028</td>\n",
       "      <td>1.715</td>\n",
       "      <td>1.822</td>\n",
       "      <td>0.0</td>\n",
       "      <td>0.0</td>\n",
       "      <td>5612.0</td>\n",
       "      <td>3587.0</td>\n",
       "      <td>1.0</td>\n",
       "    </tr>\n",
       "  </tbody>\n",
       "</table>\n",
       "</div>"
      ],
      "text/plain": [
       "                        mean     sd  hdi_3%  hdi_97%  mcse_mean  mcse_sd  \\\n",
       "response_threshold[0] -1.917  0.030  -1.973   -1.861        0.0      0.0   \n",
       "response_threshold[1] -1.267  0.024  -1.312   -1.221        0.0      0.0   \n",
       "response_threshold[2] -0.719  0.021  -0.759   -0.678        0.0      0.0   \n",
       "response_threshold[3]  0.248  0.020   0.210    0.286        0.0      0.0   \n",
       "response_threshold[4]  0.890  0.022   0.847    0.930        0.0      0.0   \n",
       "response_threshold[5]  1.771  0.028   1.715    1.822        0.0      0.0   \n",
       "\n",
       "                       ess_bulk  ess_tail  r_hat  \n",
       "response_threshold[0]    4227.0    3176.0    1.0  \n",
       "response_threshold[1]    4754.0    3581.0    1.0  \n",
       "response_threshold[2]    5284.0    3229.0    1.0  \n",
       "response_threshold[3]    4945.0    3394.0    1.0  \n",
       "response_threshold[4]    5373.0    3444.0    1.0  \n",
       "response_threshold[5]    5612.0    3587.0    1.0  "
      ]
     },
     "execution_count": 12,
     "metadata": {},
     "output_type": "execute_result"
    }
   ],
   "source": [
    "az.summary(idata)"
   ]
  },
  {
   "cell_type": "code",
   "execution_count": 13,
   "id": "b99f15eb-256c-40c3-9ba9-3f105699b0c8",
   "metadata": {
    "tags": []
   },
   "outputs": [],
   "source": [
    "expit_func = lambda x: 1 / (1 + np.exp(-x))\n",
    "cumprobs = expit_func(idata.posterior.response_threshold).mean((\"chain\", \"draw\"))\n",
    "cumprobs = np.append(cumprobs, 1)"
   ]
  },
  {
   "cell_type": "code",
   "execution_count": 14,
   "id": "b37ed459-5711-4df8-8a9d-a6964ddebc0d",
   "metadata": {
    "tags": []
   },
   "outputs": [
    {
     "data": {
      "image/png": "[encoded data removed]",
      "text/plain": [
       "<Figure size 700x300 with 1 Axes>"
      ]
     },
     "metadata": {},
     "output_type": "display_data"
    }
   ],
   "source": [
    "plt.figure(figsize=(7, 3))\n",
    "plt.plot(sorted(trolly.response.unique()), cumprobs, marker='o')\n",
    "plt.ylabel(\"Cumulative probability\")\n",
    "plt.xlabel(\"Response category\")\n",
    "plt.title(\"Cumulative probabilities of response categories\");"
   ]
  },
  {
   "cell_type": "code",
   "execution_count": 15,
   "id": "5951883d-74ae-4ea3-9c9c-f341e517980d",
   "metadata": {
    "tags": []
   },
   "outputs": [
    {
     "data": {
      "image/png": "[encoded data removed]",
      "text/plain": [
       "<Figure size 700x300 with 1 Axes>"
      ]
     },
     "metadata": {},
     "output_type": "display_data"
    }
   ],
   "source": [
    "fig, ax = plt.subplots(figsize=(7, 3))\n",
    "for i in range(6):\n",
    "    outcome = expit_func(idata.posterior.response_threshold).sel(response_threshold_dim=i).to_numpy().flatten()\n",
    "    ax.hist(outcome, bins=15, alpha=0.5, label=f\"Category: {i}\")\n",
    "ax.set_xlabel(\"Probability\")\n",
    "ax.set_ylabel(\"Count\")\n",
    "ax.set_title(\"Cumulative Probability by Category\")\n",
    "ax.legend(bbox_to_anchor=(1.04, 1), loc=\"upper left\");"
   ]
  },
  {
   "cell_type": "code",
   "execution_count": 16,
   "id": "d48d2edd-cb52-47d7-b8b2-8b392a507208",
   "metadata": {
    "tags": []
   },
   "outputs": [],
   "source": [
    "# derivative\n",
    "ddx = np.diff(cumprobs)\n",
    "probs = np.insert(ddx, 0, cumprobs[0])"
   ]
  },
  {
   "cell_type": "code",
   "execution_count": 17,
   "id": "619dd227-cdb3-405d-a53b-27f4d00d8888",
   "metadata": {
    "tags": []
   },
   "outputs": [
    {
     "data": {
      "image/png": "[encoded data removed]",
      "text/plain": [
       "<Figure size 700x300 with 1 Axes>"
      ]
     },
     "metadata": {},
     "output_type": "display_data"
    }
   ],
   "source": [
    "plt.figure(figsize=(7, 3))\n",
    "plt.bar(sorted(trolly.response.unique()), probs)\n",
    "plt.ylabel(\"Probability\")\n",
    "plt.xlabel(\"Response category\")\n",
    "plt.title(\"Posterior Probability of each response category\");"
   ]
  },
  {
   "cell_type": "markdown",
   "id": "0e41d0ec-144c-4f0f-b4db-d306434f137a",
   "metadata": {},
   "source": [
    "## Adding predictors"
   ]
  },
  {
   "cell_type": "code",
   "execution_count": 21,
   "id": "b8f1dad6-068b-4b86-9c11-850e383f5517",
   "metadata": {
    "tags": []
   },
   "outputs": [],
   "source": [
    "model = bmb.Model(\n",
    "                    \"response ~ 0 + action + intention + contact + action:intention + contact:intention\",\n",
    "                    data=trolly, \n",
    "                    family=\"cumulative\"\n",
    ")"
   ]
  },
  {
   "cell_type": "code",
   "execution_count": 22,
   "id": "997bf429-54e8-465f-a834-9d8931d5927d",
   "metadata": {
    "tags": []
   },
   "outputs": [
    {
     "name": "stderr",
     "output_type": "stream",
     "text": [
      "Auto-assigning NUTS sampler...\n",
      "Initializing NUTS using jitter+adapt_diag...\n",
      "Multiprocess sampling (4 chains in 4 jobs)\n",
      "NUTS: [response_threshold, action, intention, contact, action:intention, contact:intention]\n"
     ]
    },
    {
     "data": {
      "text/html": [
       "\n",
       "<style>\n",
       "    /* Turns off some styling */\n",
       "    progress {\n",
       "        /* gets rid of default border in Firefox and Opera. */\n",
       "        border: none;\n",
       "        /* Needs to be in here for Safari polyfill so background images work as expected. */\n",
       "        background-size: auto;\n",
       "    }\n",
       "    progress:not([value]), progress:not([value])::-webkit-progress-bar {\n",
       "        background: repeating-linear-gradient(45deg, #7e7e7e, #7e7e7e 10px, #5c5c5c 10px, #5c5c5c 20px);\n",
       "    }\n",
       "    .progress-bar-interrupted, .progress-bar-interrupted::-webkit-progress-bar {\n",
       "        background: #F44336;\n",
       "    }\n",
       "</style>\n"
      ],
      "text/plain": [
       "<IPython.core.display.HTML object>"
      ]
     },
     "metadata": {},
     "output_type": "display_data"
    },
    {
     "data": {
      "text/html": [
       "\n",
       "    <div>\n",
       "      <progress value='8000' class='' max='8000' style='width:300px; height:20px; vertical-align: middle;'></progress>\n",
       "      100.00% [8000/8000 03:21&lt;00:00 Sampling 4 chains, 0 divergences]\n",
       "    </div>\n",
       "    "
      ],
      "text/plain": [
       "<IPython.core.display.HTML object>"
      ]
     },
     "metadata": {},
     "output_type": "display_data"
    },
    {
     "name": "stderr",
     "output_type": "stream",
     "text": [
      "Sampling 4 chains for 1_000 tune and 1_000 draw iterations (4_000 + 4_000 draws total) took 225 seconds.\n"
     ]
    }
   ],
   "source": [
    "idata = model.fit(random_seed=1234)"
   ]
  },
  {
   "cell_type": "code",
   "execution_count": 23,
   "id": "d9e19c9d-e475-43a9-a560-98d4676419c2",
   "metadata": {
    "tags": []
   },
   "outputs": [
    {
     "data": {
      "text/html": [
       "<div>\n",
       "<style scoped>\n",
       "    .dataframe tbody tr th:only-of-type {\n",
       "        vertical-align: middle;\n",
       "    }\n",
       "\n",
       "    .dataframe tbody tr th {\n",
       "        vertical-align: top;\n",
       "    }\n",
       "\n",
       "    .dataframe thead th {\n",
       "        text-align: right;\n",
       "    }\n",
       "</style>\n",
       "<table border=\"1\" class=\"dataframe\">\n",
       "  <thead>\n",
       "    <tr style=\"text-align: right;\">\n",
       "      <th></th>\n",
       "      <th>mean</th>\n",
       "      <th>sd</th>\n",
       "      <th>hdi_3%</th>\n",
       "      <th>hdi_97%</th>\n",
       "      <th>mcse_mean</th>\n",
       "      <th>mcse_sd</th>\n",
       "      <th>ess_bulk</th>\n",
       "      <th>ess_tail</th>\n",
       "      <th>r_hat</th>\n",
       "    </tr>\n",
       "  </thead>\n",
       "  <tbody>\n",
       "    <tr>\n",
       "      <th>action[1]</th>\n",
       "      <td>-0.463</td>\n",
       "      <td>0.055</td>\n",
       "      <td>-0.569</td>\n",
       "      <td>-0.364</td>\n",
       "      <td>0.001</td>\n",
       "      <td>0.001</td>\n",
       "      <td>2211.0</td>\n",
       "      <td>2704.0</td>\n",
       "      <td>1.0</td>\n",
       "    </tr>\n",
       "    <tr>\n",
       "      <th>intention[1]</th>\n",
       "      <td>-0.272</td>\n",
       "      <td>0.059</td>\n",
       "      <td>-0.382</td>\n",
       "      <td>-0.165</td>\n",
       "      <td>0.001</td>\n",
       "      <td>0.001</td>\n",
       "      <td>2068.0</td>\n",
       "      <td>2714.0</td>\n",
       "      <td>1.0</td>\n",
       "    </tr>\n",
       "    <tr>\n",
       "      <th>contact[1]</th>\n",
       "      <td>-0.323</td>\n",
       "      <td>0.070</td>\n",
       "      <td>-0.449</td>\n",
       "      <td>-0.188</td>\n",
       "      <td>0.001</td>\n",
       "      <td>0.001</td>\n",
       "      <td>2569.0</td>\n",
       "      <td>3007.0</td>\n",
       "      <td>1.0</td>\n",
       "    </tr>\n",
       "    <tr>\n",
       "      <th>action:intention[1, 1]</th>\n",
       "      <td>-0.458</td>\n",
       "      <td>0.082</td>\n",
       "      <td>-0.615</td>\n",
       "      <td>-0.312</td>\n",
       "      <td>0.002</td>\n",
       "      <td>0.001</td>\n",
       "      <td>2233.0</td>\n",
       "      <td>2751.0</td>\n",
       "      <td>1.0</td>\n",
       "    </tr>\n",
       "    <tr>\n",
       "      <th>contact:intention[1, 1]</th>\n",
       "      <td>-1.283</td>\n",
       "      <td>0.099</td>\n",
       "      <td>-1.468</td>\n",
       "      <td>-1.103</td>\n",
       "      <td>0.002</td>\n",
       "      <td>0.001</td>\n",
       "      <td>2585.0</td>\n",
       "      <td>2687.0</td>\n",
       "      <td>1.0</td>\n",
       "    </tr>\n",
       "  </tbody>\n",
       "</table>\n",
       "</div>"
      ],
      "text/plain": [
       "                          mean     sd  hdi_3%  hdi_97%  mcse_mean  mcse_sd  \\\n",
       "action[1]               -0.463  0.055  -0.569   -0.364      0.001    0.001   \n",
       "intention[1]            -0.272  0.059  -0.382   -0.165      0.001    0.001   \n",
       "contact[1]              -0.323  0.070  -0.449   -0.188      0.001    0.001   \n",
       "action:intention[1, 1]  -0.458  0.082  -0.615   -0.312      0.002    0.001   \n",
       "contact:intention[1, 1] -1.283  0.099  -1.468   -1.103      0.002    0.001   \n",
       "\n",
       "                         ess_bulk  ess_tail  r_hat  \n",
       "action[1]                  2211.0    2704.0    1.0  \n",
       "intention[1]               2068.0    2714.0    1.0  \n",
       "contact[1]                 2569.0    3007.0    1.0  \n",
       "action:intention[1, 1]     2233.0    2751.0    1.0  \n",
       "contact:intention[1, 1]    2585.0    2687.0    1.0  "
      ]
     },
     "execution_count": 23,
     "metadata": {},
     "output_type": "execute_result"
    }
   ],
   "source": [
    "az.summary(\n",
    "    idata, \n",
    "    var_names=[\"action\", \"intention\", \"contact\", \n",
    "               \"action:intention\", \"contact:intention\"]\n",
    ")"
   ]
  },
  {
   "cell_type": "code",
   "execution_count": 24,
   "id": "f60a0965-ed48-4578-8fa9-e146e9ae7da8",
   "metadata": {
    "tags": []
   },
   "outputs": [
    {
     "data": {
      "image/png": "[encoded data removed]",
      "text/plain": [
       "<Figure size 700x300 with 1 Axes>"
      ]
     },
     "metadata": {},
     "output_type": "display_data"
    }
   ],
   "source": [
    "az.plot_forest(\n",
    "    idata,\n",
    "    combined=True,\n",
    "    var_names=[\"action\", \"intention\", \"contact\", \n",
    "               \"action:intention\", \"contact:intention\"],\n",
    "    figsize=(7, 3),\n",
    "    textsize=11\n",
    ");"
   ]
  },
  {
   "cell_type": "markdown",
   "id": "cfda9847-fa45-42c5-aaa1-6bb7c9164a75",
   "metadata": {},
   "source": [
    "## Posterior predictive distribution"
   ]
  },
  {
   "cell_type": "code",
   "execution_count": 25,
   "id": "2be79110-ef1c-465e-bca3-150a7d35301d",
   "metadata": {
    "tags": []
   },
   "outputs": [],
   "source": [
    "def adjust_lightness(color, amount=0.5):\n",
    "    import matplotlib.colors as mc\n",
    "    import colorsys\n",
    "    try:\n",
    "        c = mc.cnames[color]\n",
    "    except:\n",
    "        c = color\n",
    "    c = colorsys.rgb_to_hls(*mc.to_rgb(c))\n",
    "    return colorsys.hls_to_rgb(c[0], c[1] * amount, c[2])\n",
    "\n",
    "def plot_ppc_discrete(idata, bins, ax):\n",
    "    \n",
    "    def add_discrete_bands(x, lower, upper, ax, **kwargs):\n",
    "        for i, (l, u) in enumerate(zip(lower, upper)):\n",
    "            s = slice(i, i + 2)\n",
    "            ax.fill_between(x[s], [l, l], [u, u], **kwargs)\n",
    "\n",
    "    var_name = list(idata.observed_data.data_vars)[0]\n",
    "    y_obs = idata.observed_data[var_name].to_numpy()\n",
    "    \n",
    "    counts_list = []\n",
    "    for draw_values in az.extract(idata, \"posterior_predictive\")[var_name].to_numpy().T:\n",
    "        counts, _ = np.histogram(draw_values, bins=bins)\n",
    "        counts_list.append(counts)\n",
    "    counts_arr = np.stack(counts_list)\n",
    "\n",
    "    qts_90 = np.quantile(counts_arr, (0.05, 0.95), axis=0)\n",
    "    qts_70 = np.quantile(counts_arr, (0.15, 0.85), axis=0)\n",
    "    qts_50 = np.quantile(counts_arr, (0.25, 0.75), axis=0)\n",
    "    qts_30 = np.quantile(counts_arr, (0.35, 0.65), axis=0)\n",
    "    median = np.quantile(counts_arr, 0.5, axis=0)\n",
    "\n",
    "    colors = [adjust_lightness(\"C0\", x) for x in [1.8, 1.6, 1.4, 1.2, 0.9]]\n",
    "\n",
    "    add_discrete_bands(bins, qts_90[0], qts_90[1], ax=ax, color=colors[0])\n",
    "    add_discrete_bands(bins, qts_70[0], qts_70[1], ax=ax, color=colors[1])\n",
    "    add_discrete_bands(bins, qts_50[0], qts_50[1], ax=ax, color=colors[2])\n",
    "    add_discrete_bands(bins, qts_30[0], qts_30[1], ax=ax, color=colors[3])\n",
    "\n",
    "    \n",
    "    ax.step(bins[:-1], median, color=colors[4], lw=2, where=\"post\")\n",
    "    ax.hist(y_obs, bins=bins, histtype=\"step\", lw=2, color=\"black\", align=\"mid\")\n",
    "    handles = [\n",
    "        Line2D([], [], label=\"Observed data\", color=\"black\", lw=2),\n",
    "        Line2D([], [], label=\"Posterior predictive median\", color=colors[4], lw=2)\n",
    "    ]\n",
    "    ax.legend(handles=handles)\n",
    "    return ax"
   ]
  },
  {
   "cell_type": "code",
   "execution_count": 27,
   "id": "8432d4bf-dc7c-4123-aa20-ccbe38758f7c",
   "metadata": {
    "tags": []
   },
   "outputs": [],
   "source": [
    "idata_pps = model.predict(idata=idata, kind=\"pps\", inplace=False)"
   ]
  },
  {
   "cell_type": "code",
   "execution_count": null,
   "id": "33160cb5-560f-4777-819b-ca561879dc1d",
   "metadata": {},
   "outputs": [],
   "source": [
    "bins = np.arange(7)\n",
    "fig, ax = plt.subplots(figsize=(7, 3))\n",
    "ax = plot_ppc_discrete(idata_pps, bins, ax)\n",
    "ax.set_xlabel(\"Response category\")\n",
    "ax.set_ylabel(\"Count\")\n",
    "ax.set_title(\"Cumulative model - Posterior Predictive Distribution\");"
   ]
  },
  {
   "cell_type": "markdown",
   "id": "17dd78de-3bab-4ac4-b7cf-1af6f3a16944",
   "metadata": {},
   "source": [
    "## Sequential model"
   ]
  },
  {
   "cell_type": "code",
   "execution_count": 34,
   "id": "d9aeeccc-311b-43b8-82e5-6bb490a9efe3",
   "metadata": {
    "tags": []
   },
   "outputs": [],
   "source": [
    "attrition = pd.read_csv(\"C:/Users/bacos1/Documents/Python/per_python_bayes/Bambi/WA_Fn-UseC_-HR-Employee-Attrition.csv\")"
   ]
  },
  {
   "cell_type": "code",
   "execution_count": 35,
   "id": "4e180754-e36c-4e2f-b83f-893b35152fe3",
   "metadata": {
    "tags": []
   },
   "outputs": [
    {
     "data": {
      "text/html": [
       "<div>\n",
       "<style scoped>\n",
       "    .dataframe tbody tr th:only-of-type {\n",
       "        vertical-align: middle;\n",
       "    }\n",
       "\n",
       "    .dataframe tbody tr th {\n",
       "        vertical-align: top;\n",
       "    }\n",
       "\n",
       "    .dataframe thead th {\n",
       "        text-align: right;\n",
       "    }\n",
       "</style>\n",
       "<table border=\"1\" class=\"dataframe\">\n",
       "  <thead>\n",
       "    <tr style=\"text-align: right;\">\n",
       "      <th></th>\n",
       "      <th>Age</th>\n",
       "      <th>Attrition</th>\n",
       "      <th>BusinessTravel</th>\n",
       "      <th>DailyRate</th>\n",
       "      <th>Department</th>\n",
       "      <th>DistanceFromHome</th>\n",
       "      <th>Education</th>\n",
       "      <th>EducationField</th>\n",
       "      <th>EmployeeCount</th>\n",
       "      <th>EmployeeNumber</th>\n",
       "      <th>...</th>\n",
       "      <th>RelationshipSatisfaction</th>\n",
       "      <th>StandardHours</th>\n",
       "      <th>StockOptionLevel</th>\n",
       "      <th>TotalWorkingYears</th>\n",
       "      <th>TrainingTimesLastYear</th>\n",
       "      <th>WorkLifeBalance</th>\n",
       "      <th>YearsAtCompany</th>\n",
       "      <th>YearsInCurrentRole</th>\n",
       "      <th>YearsSinceLastPromotion</th>\n",
       "      <th>YearsWithCurrManager</th>\n",
       "    </tr>\n",
       "  </thead>\n",
       "  <tbody>\n",
       "    <tr>\n",
       "      <th>0</th>\n",
       "      <td>41</td>\n",
       "      <td>Yes</td>\n",
       "      <td>Travel_Rarely</td>\n",
       "      <td>1102</td>\n",
       "      <td>Sales</td>\n",
       "      <td>1</td>\n",
       "      <td>2</td>\n",
       "      <td>Life Sciences</td>\n",
       "      <td>1</td>\n",
       "      <td>1</td>\n",
       "      <td>...</td>\n",
       "      <td>1</td>\n",
       "      <td>80</td>\n",
       "      <td>0</td>\n",
       "      <td>8</td>\n",
       "      <td>0</td>\n",
       "      <td>1</td>\n",
       "      <td>6</td>\n",
       "      <td>4</td>\n",
       "      <td>0</td>\n",
       "      <td>5</td>\n",
       "    </tr>\n",
       "    <tr>\n",
       "      <th>1</th>\n",
       "      <td>49</td>\n",
       "      <td>No</td>\n",
       "      <td>Travel_Frequently</td>\n",
       "      <td>279</td>\n",
       "      <td>Research &amp; Development</td>\n",
       "      <td>8</td>\n",
       "      <td>1</td>\n",
       "      <td>Life Sciences</td>\n",
       "      <td>1</td>\n",
       "      <td>2</td>\n",
       "      <td>...</td>\n",
       "      <td>4</td>\n",
       "      <td>80</td>\n",
       "      <td>1</td>\n",
       "      <td>10</td>\n",
       "      <td>3</td>\n",
       "      <td>3</td>\n",
       "      <td>10</td>\n",
       "      <td>7</td>\n",
       "      <td>1</td>\n",
       "      <td>7</td>\n",
       "    </tr>\n",
       "    <tr>\n",
       "      <th>2</th>\n",
       "      <td>37</td>\n",
       "      <td>Yes</td>\n",
       "      <td>Travel_Rarely</td>\n",
       "      <td>1373</td>\n",
       "      <td>Research &amp; Development</td>\n",
       "      <td>2</td>\n",
       "      <td>2</td>\n",
       "      <td>Other</td>\n",
       "      <td>1</td>\n",
       "      <td>4</td>\n",
       "      <td>...</td>\n",
       "      <td>2</td>\n",
       "      <td>80</td>\n",
       "      <td>0</td>\n",
       "      <td>7</td>\n",
       "      <td>3</td>\n",
       "      <td>3</td>\n",
       "      <td>0</td>\n",
       "      <td>0</td>\n",
       "      <td>0</td>\n",
       "      <td>0</td>\n",
       "    </tr>\n",
       "    <tr>\n",
       "      <th>3</th>\n",
       "      <td>33</td>\n",
       "      <td>No</td>\n",
       "      <td>Travel_Frequently</td>\n",
       "      <td>1392</td>\n",
       "      <td>Research &amp; Development</td>\n",
       "      <td>3</td>\n",
       "      <td>4</td>\n",
       "      <td>Life Sciences</td>\n",
       "      <td>1</td>\n",
       "      <td>5</td>\n",
       "      <td>...</td>\n",
       "      <td>3</td>\n",
       "      <td>80</td>\n",
       "      <td>0</td>\n",
       "      <td>8</td>\n",
       "      <td>3</td>\n",
       "      <td>3</td>\n",
       "      <td>8</td>\n",
       "      <td>7</td>\n",
       "      <td>3</td>\n",
       "      <td>0</td>\n",
       "    </tr>\n",
       "    <tr>\n",
       "      <th>4</th>\n",
       "      <td>27</td>\n",
       "      <td>No</td>\n",
       "      <td>Travel_Rarely</td>\n",
       "      <td>591</td>\n",
       "      <td>Research &amp; Development</td>\n",
       "      <td>2</td>\n",
       "      <td>1</td>\n",
       "      <td>Medical</td>\n",
       "      <td>1</td>\n",
       "      <td>7</td>\n",
       "      <td>...</td>\n",
       "      <td>4</td>\n",
       "      <td>80</td>\n",
       "      <td>1</td>\n",
       "      <td>6</td>\n",
       "      <td>3</td>\n",
       "      <td>3</td>\n",
       "      <td>2</td>\n",
       "      <td>2</td>\n",
       "      <td>2</td>\n",
       "      <td>2</td>\n",
       "    </tr>\n",
       "  </tbody>\n",
       "</table>\n",
       "<p>5 rows × 35 columns</p>\n",
       "</div>"
      ],
      "text/plain": [
       "   Age Attrition     BusinessTravel  DailyRate              Department  \\\n",
       "0   41       Yes      Travel_Rarely       1102                   Sales   \n",
       "1   49        No  Travel_Frequently        279  Research & Development   \n",
       "2   37       Yes      Travel_Rarely       1373  Research & Development   \n",
       "3   33        No  Travel_Frequently       1392  Research & Development   \n",
       "4   27        No      Travel_Rarely        591  Research & Development   \n",
       "\n",
       "   DistanceFromHome  Education EducationField  EmployeeCount  EmployeeNumber  \\\n",
       "0                 1          2  Life Sciences              1               1   \n",
       "1                 8          1  Life Sciences              1               2   \n",
       "2                 2          2          Other              1               4   \n",
       "3                 3          4  Life Sciences              1               5   \n",
       "4                 2          1        Medical              1               7   \n",
       "\n",
       "   ...  RelationshipSatisfaction StandardHours  StockOptionLevel  \\\n",
       "0  ...                         1            80                 0   \n",
       "1  ...                         4            80                 1   \n",
       "2  ...                         2            80                 0   \n",
       "3  ...                         3            80                 0   \n",
       "4  ...                         4            80                 1   \n",
       "\n",
       "   TotalWorkingYears  TrainingTimesLastYear WorkLifeBalance  YearsAtCompany  \\\n",
       "0                  8                      0               1               6   \n",
       "1                 10                      3               3              10   \n",
       "2                  7                      3               3               0   \n",
       "3                  8                      3               3               8   \n",
       "4                  6                      3               3               2   \n",
       "\n",
       "  YearsInCurrentRole  YearsSinceLastPromotion  YearsWithCurrManager  \n",
       "0                  4                        0                     5  \n",
       "1                  7                        1                     7  \n",
       "2                  0                        0                     0  \n",
       "3                  7                        3                     0  \n",
       "4                  2                        2                     2  \n",
       "\n",
       "[5 rows x 35 columns]"
      ]
     },
     "execution_count": 35,
     "metadata": {},
     "output_type": "execute_result"
    }
   ],
   "source": [
    "attrition.head()"
   ]
  },
  {
   "cell_type": "code",
   "execution_count": 37,
   "id": "1c693799-b613-45ba-8334-31acbdfac3b5",
   "metadata": {
    "tags": []
   },
   "outputs": [
    {
     "data": {
      "text/html": [
       "<div>\n",
       "<style scoped>\n",
       "    .dataframe tbody tr th:only-of-type {\n",
       "        vertical-align: middle;\n",
       "    }\n",
       "\n",
       "    .dataframe tbody tr th {\n",
       "        vertical-align: top;\n",
       "    }\n",
       "\n",
       "    .dataframe thead th {\n",
       "        text-align: right;\n",
       "    }\n",
       "</style>\n",
       "<table border=\"1\" class=\"dataframe\">\n",
       "  <thead>\n",
       "    <tr style=\"text-align: right;\">\n",
       "      <th></th>\n",
       "      <th>YearsAtCompany</th>\n",
       "      <th>Age</th>\n",
       "    </tr>\n",
       "  </thead>\n",
       "  <tbody>\n",
       "    <tr>\n",
       "      <th>1</th>\n",
       "      <td>10</td>\n",
       "      <td>49</td>\n",
       "    </tr>\n",
       "    <tr>\n",
       "      <th>3</th>\n",
       "      <td>8</td>\n",
       "      <td>33</td>\n",
       "    </tr>\n",
       "    <tr>\n",
       "      <th>4</th>\n",
       "      <td>2</td>\n",
       "      <td>27</td>\n",
       "    </tr>\n",
       "    <tr>\n",
       "      <th>5</th>\n",
       "      <td>7</td>\n",
       "      <td>32</td>\n",
       "    </tr>\n",
       "    <tr>\n",
       "      <th>6</th>\n",
       "      <td>1</td>\n",
       "      <td>59</td>\n",
       "    </tr>\n",
       "  </tbody>\n",
       "</table>\n",
       "</div>"
      ],
      "text/plain": [
       "  YearsAtCompany  Age\n",
       "1             10   49\n",
       "3              8   33\n",
       "4              2   27\n",
       "5              7   32\n",
       "6              1   59"
      ]
     },
     "execution_count": 37,
     "metadata": {},
     "output_type": "execute_result"
    }
   ],
   "source": [
    "attrition = attrition[attrition[\"Attrition\"] == \"No\"]\n",
    "attrition[\"YearsAtCompany\"] = pd.Categorical(attrition[\"YearsAtCompany\"], ordered=True)\n",
    "attrition[[\"YearsAtCompany\", \"Age\"]].head()"
   ]
  },
  {
   "cell_type": "code",
   "execution_count": 38,
   "id": "306fb239-09c0-4b52-92af-282391b882ea",
   "metadata": {
    "tags": []
   },
   "outputs": [
    {
     "data": {
      "image/png": "[encoded data removed]",
      "text/plain": [
       "<Figure size 700x300 with 1 Axes>"
      ]
     },
     "metadata": {},
     "output_type": "display_data"
    }
   ],
   "source": [
    "pr_k = attrition.YearsAtCompany.value_counts().sort_index().values / attrition.shape[0]\n",
    "\n",
    "plt.figure(figsize=(7, 3))\n",
    "plt.bar(np.arange(0, 36), pr_k)\n",
    "plt.xlabel(\"Response category\")\n",
    "plt.ylabel(\"Probability\")\n",
    "plt.title(\"Empirical probability of each response category\");"
   ]
  },
  {
   "cell_type": "code",
   "execution_count": 39,
   "id": "ba6d5b51-7ac0-401c-80b4-5fbd5b57f9d4",
   "metadata": {
    "tags": []
   },
   "outputs": [
    {
     "name": "stderr",
     "output_type": "stream",
     "text": [
      "Auto-assigning NUTS sampler...\n",
      "Initializing NUTS using jitter+adapt_diag...\n",
      "Multiprocess sampling (4 chains in 4 jobs)\n",
      "NUTS: [YearsAtCompany_threshold, TotalWorkingYears]\n"
     ]
    },
    {
     "data": {
      "text/html": [
       "\n",
       "<style>\n",
       "    /* Turns off some styling */\n",
       "    progress {\n",
       "        /* gets rid of default border in Firefox and Opera. */\n",
       "        border: none;\n",
       "        /* Needs to be in here for Safari polyfill so background images work as expected. */\n",
       "        background-size: auto;\n",
       "    }\n",
       "    progress:not([value]), progress:not([value])::-webkit-progress-bar {\n",
       "        background: repeating-linear-gradient(45deg, #7e7e7e, #7e7e7e 10px, #5c5c5c 10px, #5c5c5c 20px);\n",
       "    }\n",
       "    .progress-bar-interrupted, .progress-bar-interrupted::-webkit-progress-bar {\n",
       "        background: #F44336;\n",
       "    }\n",
       "</style>\n"
      ],
      "text/plain": [
       "<IPython.core.display.HTML object>"
      ]
     },
     "metadata": {},
     "output_type": "display_data"
    },
    {
     "data": {
      "text/html": [
       "\n",
       "    <div>\n",
       "      <progress value='182' class='' max='8000' style='width:300px; height:20px; vertical-align: middle;'></progress>\n",
       "      2.27% [182/8000 02:33&lt;1:49:52 Sampling 4 chains, 0 divergences]\n",
       "    </div>\n",
       "    "
      ],
      "text/plain": [
       "<IPython.core.display.HTML object>"
      ]
     },
     "metadata": {},
     "output_type": "display_data"
    },
    {
     "ename": "ValueError",
     "evalue": "Not enough samples to build a trace.",
     "output_type": "error",
     "traceback": [
      "\u001b[1;31m---------------------------------------------------------------------------\u001b[0m",
      "\u001b[1;31mValueError\u001b[0m                                Traceback (most recent call last)",
      "Cell \u001b[1;32mIn[39], line 6\u001b[0m\n\u001b[0;32m      1\u001b[0m sequence_model \u001b[38;5;241m=\u001b[39m bmb\u001b[38;5;241m.\u001b[39mModel(\n\u001b[0;32m      2\u001b[0m     \u001b[38;5;124m\"\u001b[39m\u001b[38;5;124mYearsAtCompany ~ 0 + TotalWorkingYears\u001b[39m\u001b[38;5;124m\"\u001b[39m, \n\u001b[0;32m      3\u001b[0m     data\u001b[38;5;241m=\u001b[39mattrition, \n\u001b[0;32m      4\u001b[0m     family\u001b[38;5;241m=\u001b[39m\u001b[38;5;124m\"\u001b[39m\u001b[38;5;124msratio\u001b[39m\u001b[38;5;124m\"\u001b[39m\n\u001b[0;32m      5\u001b[0m )\n\u001b[1;32m----> 6\u001b[0m sequence_idata \u001b[38;5;241m=\u001b[39m sequence_model\u001b[38;5;241m.\u001b[39mfit(random_seed\u001b[38;5;241m=\u001b[39m\u001b[38;5;241m1234\u001b[39m)\n",
      "File \u001b[1;32m~\\anaconda3\\envs\\pymc_env\\Lib\\site-packages\\bambi\\models.py:333\u001b[0m, in \u001b[0;36mModel.fit\u001b[1;34m(self, draws, tune, discard_tuned_samples, omit_offsets, include_mean, inference_method, init, n_init, chains, cores, random_seed, **kwargs)\u001b[0m\n\u001b[0;32m    326\u001b[0m     response \u001b[38;5;241m=\u001b[39m \u001b[38;5;28mself\u001b[39m\u001b[38;5;241m.\u001b[39mcomponents[\u001b[38;5;28mself\u001b[39m\u001b[38;5;241m.\u001b[39mresponse_name]\n\u001b[0;32m    327\u001b[0m     _log\u001b[38;5;241m.\u001b[39minfo(\n\u001b[0;32m    328\u001b[0m         \u001b[38;5;124m\"\u001b[39m\u001b[38;5;124mModeling the probability that \u001b[39m\u001b[38;5;132;01m%s\u001b[39;00m\u001b[38;5;124m==\u001b[39m\u001b[38;5;132;01m%s\u001b[39;00m\u001b[38;5;124m\"\u001b[39m,\n\u001b[0;32m    329\u001b[0m         response\u001b[38;5;241m.\u001b[39mresponse_term\u001b[38;5;241m.\u001b[39mname,\n\u001b[0;32m    330\u001b[0m         \u001b[38;5;28mstr\u001b[39m(response\u001b[38;5;241m.\u001b[39mresponse_term\u001b[38;5;241m.\u001b[39msuccess),\n\u001b[0;32m    331\u001b[0m     )\n\u001b[1;32m--> 333\u001b[0m \u001b[38;5;28;01mreturn\u001b[39;00m \u001b[38;5;28mself\u001b[39m\u001b[38;5;241m.\u001b[39mbackend\u001b[38;5;241m.\u001b[39mrun(\n\u001b[0;32m    334\u001b[0m     draws\u001b[38;5;241m=\u001b[39mdraws,\n\u001b[0;32m    335\u001b[0m     tune\u001b[38;5;241m=\u001b[39mtune,\n\u001b[0;32m    336\u001b[0m     discard_tuned_samples\u001b[38;5;241m=\u001b[39mdiscard_tuned_samples,\n\u001b[0;32m    337\u001b[0m     omit_offsets\u001b[38;5;241m=\u001b[39momit_offsets,\n\u001b[0;32m    338\u001b[0m     include_mean\u001b[38;5;241m=\u001b[39minclude_mean,\n\u001b[0;32m    339\u001b[0m     inference_method\u001b[38;5;241m=\u001b[39minference_method,\n\u001b[0;32m    340\u001b[0m     init\u001b[38;5;241m=\u001b[39minit,\n\u001b[0;32m    341\u001b[0m     n_init\u001b[38;5;241m=\u001b[39mn_init,\n\u001b[0;32m    342\u001b[0m     chains\u001b[38;5;241m=\u001b[39mchains,\n\u001b[0;32m    343\u001b[0m     cores\u001b[38;5;241m=\u001b[39mcores,\n\u001b[0;32m    344\u001b[0m     random_seed\u001b[38;5;241m=\u001b[39mrandom_seed,\n\u001b[0;32m    345\u001b[0m     \u001b[38;5;241m*\u001b[39m\u001b[38;5;241m*\u001b[39mkwargs,\n\u001b[0;32m    346\u001b[0m )\n",
      "File \u001b[1;32m~\\anaconda3\\envs\\pymc_env\\Lib\\site-packages\\bambi\\backend\\pymc.py:96\u001b[0m, in \u001b[0;36mPyMCModel.run\u001b[1;34m(self, draws, tune, discard_tuned_samples, omit_offsets, include_mean, inference_method, init, n_init, chains, cores, random_seed, **kwargs)\u001b[0m\n\u001b[0;32m     94\u001b[0m \u001b[38;5;66;03m# NOTE: Methods return different types of objects (idata, approximation, and dictionary)\u001b[39;00m\n\u001b[0;32m     95\u001b[0m \u001b[38;5;28;01mif\u001b[39;00m inference_method \u001b[38;5;129;01min\u001b[39;00m [\u001b[38;5;124m\"\u001b[39m\u001b[38;5;124mmcmc\u001b[39m\u001b[38;5;124m\"\u001b[39m, \u001b[38;5;124m\"\u001b[39m\u001b[38;5;124mnuts_numpyro\u001b[39m\u001b[38;5;124m\"\u001b[39m, \u001b[38;5;124m\"\u001b[39m\u001b[38;5;124mnuts_blackjax\u001b[39m\u001b[38;5;124m\"\u001b[39m]:\n\u001b[1;32m---> 96\u001b[0m     result \u001b[38;5;241m=\u001b[39m \u001b[38;5;28mself\u001b[39m\u001b[38;5;241m.\u001b[39m_run_mcmc(\n\u001b[0;32m     97\u001b[0m         draws,\n\u001b[0;32m     98\u001b[0m         tune,\n\u001b[0;32m     99\u001b[0m         discard_tuned_samples,\n\u001b[0;32m    100\u001b[0m         omit_offsets,\n\u001b[0;32m    101\u001b[0m         include_mean,\n\u001b[0;32m    102\u001b[0m         init,\n\u001b[0;32m    103\u001b[0m         n_init,\n\u001b[0;32m    104\u001b[0m         chains,\n\u001b[0;32m    105\u001b[0m         cores,\n\u001b[0;32m    106\u001b[0m         random_seed,\n\u001b[0;32m    107\u001b[0m         inference_method,\n\u001b[0;32m    108\u001b[0m         \u001b[38;5;241m*\u001b[39m\u001b[38;5;241m*\u001b[39mkwargs,\n\u001b[0;32m    109\u001b[0m     )\n\u001b[0;32m    110\u001b[0m \u001b[38;5;28;01melif\u001b[39;00m inference_method \u001b[38;5;241m==\u001b[39m \u001b[38;5;124m\"\u001b[39m\u001b[38;5;124mvi\u001b[39m\u001b[38;5;124m\"\u001b[39m:\n\u001b[0;32m    111\u001b[0m     result \u001b[38;5;241m=\u001b[39m \u001b[38;5;28mself\u001b[39m\u001b[38;5;241m.\u001b[39m_run_vi(\u001b[38;5;241m*\u001b[39m\u001b[38;5;241m*\u001b[39mkwargs)\n",
      "File \u001b[1;32m~\\anaconda3\\envs\\pymc_env\\Lib\\site-packages\\bambi\\backend\\pymc.py:172\u001b[0m, in \u001b[0;36mPyMCModel._run_mcmc\u001b[1;34m(self, draws, tune, discard_tuned_samples, omit_offsets, include_mean, init, n_init, chains, cores, random_seed, sampler_backend, **kwargs)\u001b[0m\n\u001b[0;32m    170\u001b[0m \u001b[38;5;28;01mif\u001b[39;00m sampler_backend \u001b[38;5;241m==\u001b[39m \u001b[38;5;124m\"\u001b[39m\u001b[38;5;124mmcmc\u001b[39m\u001b[38;5;124m\"\u001b[39m:\n\u001b[0;32m    171\u001b[0m     \u001b[38;5;28;01mtry\u001b[39;00m:\n\u001b[1;32m--> 172\u001b[0m         idata \u001b[38;5;241m=\u001b[39m pm\u001b[38;5;241m.\u001b[39msample(\n\u001b[0;32m    173\u001b[0m             draws\u001b[38;5;241m=\u001b[39mdraws,\n\u001b[0;32m    174\u001b[0m             tune\u001b[38;5;241m=\u001b[39mtune,\n\u001b[0;32m    175\u001b[0m             discard_tuned_samples\u001b[38;5;241m=\u001b[39mdiscard_tuned_samples,\n\u001b[0;32m    176\u001b[0m             init\u001b[38;5;241m=\u001b[39minit,\n\u001b[0;32m    177\u001b[0m             n_init\u001b[38;5;241m=\u001b[39mn_init,\n\u001b[0;32m    178\u001b[0m             chains\u001b[38;5;241m=\u001b[39mchains,\n\u001b[0;32m    179\u001b[0m             cores\u001b[38;5;241m=\u001b[39mcores,\n\u001b[0;32m    180\u001b[0m             random_seed\u001b[38;5;241m=\u001b[39mrandom_seed,\n\u001b[0;32m    181\u001b[0m             \u001b[38;5;241m*\u001b[39m\u001b[38;5;241m*\u001b[39mkwargs,\n\u001b[0;32m    182\u001b[0m         )\n\u001b[0;32m    183\u001b[0m     \u001b[38;5;28;01mexcept\u001b[39;00m (\u001b[38;5;167;01mRuntimeError\u001b[39;00m, \u001b[38;5;167;01mValueError\u001b[39;00m):\n\u001b[0;32m    184\u001b[0m         \u001b[38;5;28;01mif\u001b[39;00m (\n\u001b[0;32m    185\u001b[0m             \u001b[38;5;124m\"\u001b[39m\u001b[38;5;124mValueError: Mass matrix contains\u001b[39m\u001b[38;5;124m\"\u001b[39m \u001b[38;5;129;01min\u001b[39;00m traceback\u001b[38;5;241m.\u001b[39mformat_exc()\n\u001b[0;32m    186\u001b[0m             \u001b[38;5;129;01mand\u001b[39;00m init \u001b[38;5;241m==\u001b[39m \u001b[38;5;124m\"\u001b[39m\u001b[38;5;124mauto\u001b[39m\u001b[38;5;124m\"\u001b[39m\n\u001b[0;32m    187\u001b[0m         ):\n",
      "File \u001b[1;32m~\\anaconda3\\envs\\pymc_env\\Lib\\site-packages\\pymc\\sampling\\mcmc.py:789\u001b[0m, in \u001b[0;36msample\u001b[1;34m(draws, tune, chains, cores, random_seed, progressbar, step, nuts_sampler, initvals, init, jitter_max_retries, n_init, trace, discard_tuned_samples, compute_convergence_checks, keep_warning_stat, return_inferencedata, idata_kwargs, nuts_sampler_kwargs, callback, mp_ctx, model, **kwargs)\u001b[0m\n\u001b[0;32m    785\u001b[0m t_sampling \u001b[38;5;241m=\u001b[39m time\u001b[38;5;241m.\u001b[39mtime() \u001b[38;5;241m-\u001b[39m t_start\n\u001b[0;32m    787\u001b[0m \u001b[38;5;66;03m# Packaging, validating and returning the result was extracted\u001b[39;00m\n\u001b[0;32m    788\u001b[0m \u001b[38;5;66;03m# into a function to make it easier to test and refactor.\u001b[39;00m\n\u001b[1;32m--> 789\u001b[0m \u001b[38;5;28;01mreturn\u001b[39;00m _sample_return(\n\u001b[0;32m    790\u001b[0m     run\u001b[38;5;241m=\u001b[39mrun,\n\u001b[0;32m    791\u001b[0m     traces\u001b[38;5;241m=\u001b[39mtraces,\n\u001b[0;32m    792\u001b[0m     tune\u001b[38;5;241m=\u001b[39mtune,\n\u001b[0;32m    793\u001b[0m     t_sampling\u001b[38;5;241m=\u001b[39mt_sampling,\n\u001b[0;32m    794\u001b[0m     discard_tuned_samples\u001b[38;5;241m=\u001b[39mdiscard_tuned_samples,\n\u001b[0;32m    795\u001b[0m     compute_convergence_checks\u001b[38;5;241m=\u001b[39mcompute_convergence_checks,\n\u001b[0;32m    796\u001b[0m     return_inferencedata\u001b[38;5;241m=\u001b[39mreturn_inferencedata,\n\u001b[0;32m    797\u001b[0m     keep_warning_stat\u001b[38;5;241m=\u001b[39mkeep_warning_stat,\n\u001b[0;32m    798\u001b[0m     idata_kwargs\u001b[38;5;241m=\u001b[39midata_kwargs \u001b[38;5;129;01mor\u001b[39;00m {},\n\u001b[0;32m    799\u001b[0m     model\u001b[38;5;241m=\u001b[39mmodel,\n\u001b[0;32m    800\u001b[0m )\n",
      "File \u001b[1;32m~\\anaconda3\\envs\\pymc_env\\Lib\\site-packages\\pymc\\sampling\\mcmc.py:820\u001b[0m, in \u001b[0;36m_sample_return\u001b[1;34m(run, traces, tune, t_sampling, discard_tuned_samples, compute_convergence_checks, return_inferencedata, keep_warning_stat, idata_kwargs, model)\u001b[0m\n\u001b[0;32m    818\u001b[0m \u001b[38;5;66;03m# Pick and slice chains to keep the maximum number of samples\u001b[39;00m\n\u001b[0;32m    819\u001b[0m \u001b[38;5;28;01mif\u001b[39;00m discard_tuned_samples:\n\u001b[1;32m--> 820\u001b[0m     traces, length \u001b[38;5;241m=\u001b[39m _choose_chains(traces, tune)\n\u001b[0;32m    821\u001b[0m \u001b[38;5;28;01melse\u001b[39;00m:\n\u001b[0;32m    822\u001b[0m     traces, length \u001b[38;5;241m=\u001b[39m _choose_chains(traces, \u001b[38;5;241m0\u001b[39m)\n",
      "File \u001b[1;32m~\\anaconda3\\envs\\pymc_env\\Lib\\site-packages\\pymc\\backends\\base.py:601\u001b[0m, in \u001b[0;36m_choose_chains\u001b[1;34m(traces, tune)\u001b[0m\n\u001b[0;32m    599\u001b[0m lengths \u001b[38;5;241m=\u001b[39m [\u001b[38;5;28mmax\u001b[39m(\u001b[38;5;241m0\u001b[39m, \u001b[38;5;28mlen\u001b[39m(trace) \u001b[38;5;241m-\u001b[39m tune) \u001b[38;5;28;01mfor\u001b[39;00m trace \u001b[38;5;129;01min\u001b[39;00m traces]\n\u001b[0;32m    600\u001b[0m \u001b[38;5;28;01mif\u001b[39;00m \u001b[38;5;129;01mnot\u001b[39;00m \u001b[38;5;28msum\u001b[39m(lengths):\n\u001b[1;32m--> 601\u001b[0m     \u001b[38;5;28;01mraise\u001b[39;00m \u001b[38;5;167;01mValueError\u001b[39;00m(\u001b[38;5;124m\"\u001b[39m\u001b[38;5;124mNot enough samples to build a trace.\u001b[39m\u001b[38;5;124m\"\u001b[39m)\n\u001b[0;32m    603\u001b[0m idxs \u001b[38;5;241m=\u001b[39m np\u001b[38;5;241m.\u001b[39margsort(lengths)\n\u001b[0;32m    604\u001b[0m l_sort \u001b[38;5;241m=\u001b[39m np\u001b[38;5;241m.\u001b[39marray(lengths)[idxs]\n",
      "\u001b[1;31mValueError\u001b[0m: Not enough samples to build a trace."
     ]
    }
   ],
   "source": [
    "sequence_model = bmb.Model(\n",
    "    \"YearsAtCompany ~ 0 + TotalWorkingYears\", \n",
    "    data=attrition, \n",
    "    family=\"sratio\"\n",
    ")\n",
    "sequence_idata = sequence_model.fit(random_seed=1234)"
   ]
  },
  {
   "cell_type": "code",
   "execution_count": null,
   "id": "b440363c-eadd-4882-9720-00319ace2889",
   "metadata": {},
   "outputs": [],
   "source": []
  }
 ],
 "metadata": {
  "kernelspec": {
   "display_name": "Python 3 (ipykernel)",
   "language": "python",
   "name": "python3"
  },
  "language_info": {
   "codemirror_mode": {
    "name": "ipython",
    "version": 3
   },
   "file_extension": ".py",
   "mimetype": "text/x-python",
   "name": "python",
   "nbconvert_exporter": "python",
   "pygments_lexer": "ipython3",
   "version": "3.11.6"
  }
 },
 "nbformat": 4,
 "nbformat_minor": 5
}
