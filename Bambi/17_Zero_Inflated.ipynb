{
 "cells": [
  {
   "cell_type": "markdown",
   "id": "32c33699-2922-4373-a22e-0804555c004d",
   "metadata": {},
   "source": [
    "# ZERO INFLATED MODELS"
   ]
  },
  {
   "cell_type": "markdown",
   "id": "825e202f-813a-48a2-926a-ad7cd2ff2176",
   "metadata": {},
   "source": [
    "## Load libraries"
   ]
  },
  {
   "cell_type": "code",
   "execution_count": 1,
   "id": "a1835126-5f6b-4254-ab03-7aaad09fa273",
   "metadata": {
    "tags": []
   },
   "outputs": [
    {
     "name": "stderr",
     "output_type": "stream",
     "text": [
      "WARNING (pytensor.tensor.blas): Using NumPy C-API based implementation for BLAS functions.\n"
     ]
    }
   ],
   "source": [
    "import arviz as az\n",
    "import matplotlib.pyplot as plt\n",
    "from matplotlib.lines import Line2D\n",
    "import numpy as np\n",
    "import pandas as pd\n",
    "import scipy.stats as stats\n",
    "import seaborn as sns\n",
    "import warnings\n",
    "\n",
    "import bambi as bmb\n",
    "\n",
    "warnings.simplefilter(action='ignore', category=FutureWarning)"
   ]
  },
  {
   "cell_type": "code",
   "execution_count": 2,
   "id": "63f174d8-b7ba-44c1-81fe-c107658e0756",
   "metadata": {
    "tags": []
   },
   "outputs": [
    {
     "name": "stdout",
     "output_type": "stream",
     "text": [
      "Last updated: Tue Oct 10 2023\n",
      "\n",
      "Python implementation: CPython\n",
      "Python version       : 3.11.6\n",
      "IPython version      : 8.15.0\n",
      "\n",
      "scipy     : 1.11.3\n",
      "matplotlib: 3.8.0\n",
      "pandas    : 2.1.1\n",
      "seaborn   : 0.12.2\n",
      "numpy     : 1.25.2\n",
      "bambi     : 0.13.0.dev0\n",
      "arviz     : 0.16.1\n",
      "\n",
      "Watermark: 2.4.3\n",
      "\n"
     ]
    }
   ],
   "source": [
    "%load_ext watermark\n",
    "%watermark -n -u -v -iv -w"
   ]
  },
  {
   "cell_type": "markdown",
   "id": "3669904f-90a8-4154-8d3a-db00e370fc6e",
   "metadata": {},
   "source": [
    "## Simulate ZIP data"
   ]
  },
  {
   "cell_type": "code",
   "execution_count": 3,
   "id": "2f31ca61-a63e-4b6e-be24-a745c4688fb3",
   "metadata": {
    "tags": []
   },
   "outputs": [],
   "source": [
    "x = np.arange(0, 22)\n",
    "psis = [0.7, 0.4]\n",
    "mus = [10, 4]"
   ]
  },
  {
   "cell_type": "code",
   "execution_count": 4,
   "id": "d4720989-38c1-4af6-998e-aacd1450001b",
   "metadata": {
    "tags": []
   },
   "outputs": [
    {
     "data": {
      "image/png": "[encoded data removed]",
      "text/plain": [
       "<Figure size 700x300 with 1 Axes>"
      ]
     },
     "metadata": {},
     "output_type": "display_data"
    }
   ],
   "source": [
    "plt.figure(figsize=(7, 3))\n",
    "for psi, mu in zip(psis, mus):\n",
    "    pmf = stats.poisson.pmf(x, mu)\n",
    "    pmf[0] = (1 - psi) + pmf[0] # 1.) generate zeros\n",
    "    pmf[1:] =  psi * pmf[1:] # 2.) generate counts\n",
    "    pmf /= pmf.sum() # normalize to get probabilities\n",
    "    plt.plot(x, pmf, '-o', label='$\\\\psi$ = {}, $\\\\mu$ = {}'.format(psi, mu))\n",
    "    \n",
    "plt.title(\"Zero Inflated Poisson Process\")\n",
    "plt.xlabel('x', fontsize=12)\n",
    "plt.ylabel('f(x)', fontsize=12)\n",
    "plt.legend(loc=1)\n",
    "plt.show()"
   ]
  },
  {
   "cell_type": "markdown",
   "id": "dccc7273-037c-4480-afd4-5de9f20fd406",
   "metadata": {},
   "source": [
    "## Load data"
   ]
  },
  {
   "cell_type": "code",
   "execution_count": 5,
   "id": "c4a5bee2-4775-46e0-9d5b-18e5d5af9c2d",
   "metadata": {
    "tags": []
   },
   "outputs": [
    {
     "data": {
      "text/html": [
       "<div>\n",
       "<style scoped>\n",
       "    .dataframe tbody tr th:only-of-type {\n",
       "        vertical-align: middle;\n",
       "    }\n",
       "\n",
       "    .dataframe tbody tr th {\n",
       "        vertical-align: top;\n",
       "    }\n",
       "\n",
       "    .dataframe thead th {\n",
       "        text-align: right;\n",
       "    }\n",
       "</style>\n",
       "<table border=\"1\" class=\"dataframe\">\n",
       "  <thead>\n",
       "    <tr style=\"text-align: right;\">\n",
       "      <th></th>\n",
       "      <th>nofish</th>\n",
       "      <th>livebait</th>\n",
       "      <th>camper</th>\n",
       "      <th>persons</th>\n",
       "      <th>child</th>\n",
       "      <th>xb</th>\n",
       "      <th>zg</th>\n",
       "      <th>count</th>\n",
       "    </tr>\n",
       "  </thead>\n",
       "  <tbody>\n",
       "    <tr>\n",
       "      <th>0</th>\n",
       "      <td>1.0</td>\n",
       "      <td>0.0</td>\n",
       "      <td>0.0</td>\n",
       "      <td>1.0</td>\n",
       "      <td>0.0</td>\n",
       "      <td>-0.896315</td>\n",
       "      <td>3.050405</td>\n",
       "      <td>0.0</td>\n",
       "    </tr>\n",
       "    <tr>\n",
       "      <th>1</th>\n",
       "      <td>0.0</td>\n",
       "      <td>1.0</td>\n",
       "      <td>1.0</td>\n",
       "      <td>1.0</td>\n",
       "      <td>0.0</td>\n",
       "      <td>-0.558345</td>\n",
       "      <td>1.746149</td>\n",
       "      <td>0.0</td>\n",
       "    </tr>\n",
       "    <tr>\n",
       "      <th>2</th>\n",
       "      <td>0.0</td>\n",
       "      <td>1.0</td>\n",
       "      <td>0.0</td>\n",
       "      <td>1.0</td>\n",
       "      <td>0.0</td>\n",
       "      <td>-0.401731</td>\n",
       "      <td>0.279939</td>\n",
       "      <td>0.0</td>\n",
       "    </tr>\n",
       "    <tr>\n",
       "      <th>3</th>\n",
       "      <td>0.0</td>\n",
       "      <td>1.0</td>\n",
       "      <td>1.0</td>\n",
       "      <td>2.0</td>\n",
       "      <td>1.0</td>\n",
       "      <td>-0.956298</td>\n",
       "      <td>-0.601526</td>\n",
       "      <td>0.0</td>\n",
       "    </tr>\n",
       "    <tr>\n",
       "      <th>4</th>\n",
       "      <td>0.0</td>\n",
       "      <td>1.0</td>\n",
       "      <td>0.0</td>\n",
       "      <td>1.0</td>\n",
       "      <td>0.0</td>\n",
       "      <td>0.436891</td>\n",
       "      <td>0.527709</td>\n",
       "      <td>1.0</td>\n",
       "    </tr>\n",
       "  </tbody>\n",
       "</table>\n",
       "</div>"
      ],
      "text/plain": [
       "   nofish  livebait  camper  persons  child        xb        zg  count\n",
       "0     1.0       0.0     0.0      1.0    0.0 -0.896315  3.050405    0.0\n",
       "1     0.0       1.0     1.0      1.0    0.0 -0.558345  1.746149    0.0\n",
       "2     0.0       1.0     0.0      1.0    0.0 -0.401731  0.279939    0.0\n",
       "3     0.0       1.0     1.0      2.0    1.0 -0.956298 -0.601526    0.0\n",
       "4     0.0       1.0     0.0      1.0    0.0  0.436891  0.527709    1.0"
      ]
     },
     "execution_count": 5,
     "metadata": {},
     "output_type": "execute_result"
    }
   ],
   "source": [
    "fish_data = pd.read_stata(\"http://www.stata-press.com/data/r11/fish.dta\")\n",
    "\n",
    "fish_data.head()"
   ]
  },
  {
   "cell_type": "code",
   "execution_count": 6,
   "id": "83946ab2-f895-496c-baa0-fac536955256",
   "metadata": {
    "tags": []
   },
   "outputs": [
    {
     "data": {
      "text/html": [
       "<div>\n",
       "<style scoped>\n",
       "    .dataframe tbody tr th:only-of-type {\n",
       "        vertical-align: middle;\n",
       "    }\n",
       "\n",
       "    .dataframe tbody tr th {\n",
       "        vertical-align: top;\n",
       "    }\n",
       "\n",
       "    .dataframe thead th {\n",
       "        text-align: right;\n",
       "    }\n",
       "</style>\n",
       "<table border=\"1\" class=\"dataframe\">\n",
       "  <thead>\n",
       "    <tr style=\"text-align: right;\">\n",
       "      <th></th>\n",
       "      <th>count</th>\n",
       "      <th>livebait</th>\n",
       "      <th>camper</th>\n",
       "      <th>persons</th>\n",
       "      <th>child</th>\n",
       "    </tr>\n",
       "  </thead>\n",
       "  <tbody>\n",
       "    <tr>\n",
       "      <th>0</th>\n",
       "      <td>0.0</td>\n",
       "      <td>0.0</td>\n",
       "      <td>0.0</td>\n",
       "      <td>1.0</td>\n",
       "      <td>0.0</td>\n",
       "    </tr>\n",
       "    <tr>\n",
       "      <th>1</th>\n",
       "      <td>0.0</td>\n",
       "      <td>1.0</td>\n",
       "      <td>1.0</td>\n",
       "      <td>1.0</td>\n",
       "      <td>0.0</td>\n",
       "    </tr>\n",
       "    <tr>\n",
       "      <th>2</th>\n",
       "      <td>0.0</td>\n",
       "      <td>1.0</td>\n",
       "      <td>0.0</td>\n",
       "      <td>1.0</td>\n",
       "      <td>0.0</td>\n",
       "    </tr>\n",
       "    <tr>\n",
       "      <th>3</th>\n",
       "      <td>0.0</td>\n",
       "      <td>1.0</td>\n",
       "      <td>1.0</td>\n",
       "      <td>2.0</td>\n",
       "      <td>1.0</td>\n",
       "    </tr>\n",
       "    <tr>\n",
       "      <th>4</th>\n",
       "      <td>1.0</td>\n",
       "      <td>1.0</td>\n",
       "      <td>0.0</td>\n",
       "      <td>1.0</td>\n",
       "      <td>0.0</td>\n",
       "    </tr>\n",
       "  </tbody>\n",
       "</table>\n",
       "</div>"
      ],
      "text/plain": [
       "   count livebait camper  persons  child\n",
       "0    0.0      0.0    0.0      1.0    0.0\n",
       "1    0.0      1.0    1.0      1.0    0.0\n",
       "2    0.0      1.0    0.0      1.0    0.0\n",
       "3    0.0      1.0    1.0      2.0    1.0\n",
       "4    1.0      1.0    0.0      1.0    0.0"
      ]
     },
     "execution_count": 6,
     "metadata": {},
     "output_type": "execute_result"
    }
   ],
   "source": [
    "fish_data = (fish_data\n",
    "             .filter([\"count\", \"livebait\", \"camper\", \"persons\", \"child\"])\n",
    "             .assign(\n",
    "                     livebait = lambda x: pd.Categorical(x['livebait']),\n",
    "                     camper = lambda x: pd.Categorical(x['camper'])\n",
    "             )\n",
    "             .query('count < 60')\n",
    "\n",
    ")\n",
    "\n",
    "fish_data.head()"
   ]
  },
  {
   "cell_type": "code",
   "execution_count": 7,
   "id": "0d305604-bd31-48b3-bac5-61053a2ff390",
   "metadata": {
    "tags": []
   },
   "outputs": [
    {
     "data": {
      "image/png": "[encoded data removed]",
      "text/plain": [
       "<Figure size 700x300 with 1 Axes>"
      ]
     },
     "metadata": {},
     "output_type": "display_data"
    }
   ],
   "source": [
    "# Excess zeros, and skewed count\n",
    "plt.figure(figsize=(7, 3))\n",
    "sns.histplot(fish_data[\"count\"], discrete=True)\n",
    "plt.xlabel(\"Number of Fish Caught\");"
   ]
  },
  {
   "cell_type": "markdown",
   "id": "1af9efc8-be1f-4d13-bfe7-fe76ed17892a",
   "metadata": {},
   "source": [
    "## ZIP Model"
   ]
  },
  {
   "cell_type": "code",
   "execution_count": 8,
   "id": "faa72613-ac23-49c3-bbb5-d745d1086c0b",
   "metadata": {
    "tags": []
   },
   "outputs": [],
   "source": [
    "zip_model = bmb.Model(\n",
    "                        \"count ~ livebait + camper + persons + child\",\n",
    "                        fish_data,\n",
    "                        family = 'zero_inflated_poisson'\n",
    ")"
   ]
  },
  {
   "cell_type": "code",
   "execution_count": 9,
   "id": "39038b1c-a9b4-49c8-8906-1bae03ec3d26",
   "metadata": {
    "tags": []
   },
   "outputs": [
    {
     "name": "stderr",
     "output_type": "stream",
     "text": [
      "Auto-assigning NUTS sampler...\n",
      "Initializing NUTS using jitter+adapt_diag...\n",
      "Multiprocess sampling (4 chains in 4 jobs)\n",
      "NUTS: [count_psi, Intercept, livebait, camper, persons, child]\n"
     ]
    },
    {
     "data": {
      "text/html": [
       "\n",
       "<style>\n",
       "    /* Turns off some styling */\n",
       "    progress {\n",
       "        /* gets rid of default border in Firefox and Opera. */\n",
       "        border: none;\n",
       "        /* Needs to be in here for Safari polyfill so background images work as expected. */\n",
       "        background-size: auto;\n",
       "    }\n",
       "    progress:not([value]), progress:not([value])::-webkit-progress-bar {\n",
       "        background: repeating-linear-gradient(45deg, #7e7e7e, #7e7e7e 10px, #5c5c5c 10px, #5c5c5c 20px);\n",
       "    }\n",
       "    .progress-bar-interrupted, .progress-bar-interrupted::-webkit-progress-bar {\n",
       "        background: #F44336;\n",
       "    }\n",
       "</style>\n"
      ],
      "text/plain": [
       "<IPython.core.display.HTML object>"
      ]
     },
     "metadata": {},
     "output_type": "display_data"
    },
    {
     "data": {
      "text/html": [
       "\n",
       "    <div>\n",
       "      <progress value='8000' class='' max='8000' style='width:300px; height:20px; vertical-align: middle;'></progress>\n",
       "      100.00% [8000/8000 00:13&lt;00:00 Sampling 4 chains, 0 divergences]\n",
       "    </div>\n",
       "    "
      ],
      "text/plain": [
       "<IPython.core.display.HTML object>"
      ]
     },
     "metadata": {},
     "output_type": "display_data"
    },
    {
     "name": "stderr",
     "output_type": "stream",
     "text": [
      "Sampling 4 chains for 1_000 tune and 1_000 draw iterations (4_000 + 4_000 draws total) took 42 seconds.\n"
     ]
    }
   ],
   "source": [
    "zip_idata = zip_model.fit(\n",
    "                            draws=1000,\n",
    "                            target_accept=0.95, \n",
    "                            random_seed=1234, \n",
    "                            chains=4\n",
    ")"
   ]
  },
  {
   "cell_type": "code",
   "execution_count": 10,
   "id": "eafaa993-706f-4376-8a7e-05646dad73b9",
   "metadata": {
    "tags": []
   },
   "outputs": [
    {
     "data": {
      "text/plain": [
       "       Formula: count ~ livebait + camper + persons + child\n",
       "        Family: zero_inflated_poisson\n",
       "          Link: mu = log\n",
       "  Observations: 248\n",
       "        Priors: \n",
       "    target = mu\n",
       "        Common-level effects\n",
       "            Intercept ~ Normal(mu: 0.0, sigma: 9.5283)\n",
       "            livebait ~ Normal(mu: 0.0, sigma: 7.2685)\n",
       "            camper ~ Normal(mu: 0.0, sigma: 5.0733)\n",
       "            persons ~ Normal(mu: 0.0, sigma: 2.2583)\n",
       "            child ~ Normal(mu: 0.0, sigma: 2.9419)\n",
       "        \n",
       "        Auxiliary parameters\n",
       "            psi ~ Beta(alpha: 2.0, beta: 2.0)\n",
       "------\n",
       "* To see a plot of the priors call the .plot_priors() method.\n",
       "* To see a summary or plot of the posterior pass the object returned by .fit() to az.summary() or az.plot_trace()"
      ]
     },
     "execution_count": 10,
     "metadata": {},
     "output_type": "execute_result"
    }
   ],
   "source": [
    "zip_model"
   ]
  },
  {
   "cell_type": "code",
   "execution_count": 11,
   "id": "1b58820e-dc65-43c5-8a58-ca16f7d69d20",
   "metadata": {
    "tags": []
   },
   "outputs": [],
   "source": [
    "formula = bmb.Formula(\n",
    "                        \"count ~ livebait + camper + persons + child\", # parent parameter mu\n",
    "                        \"psi ~ livebait + camper + persons + child\"    # non-parent parameter psi\n",
    ")"
   ]
  },
  {
   "cell_type": "code",
   "execution_count": 12,
   "id": "fda79d82-5115-4c0f-b2cd-6c5ac359c410",
   "metadata": {
    "tags": []
   },
   "outputs": [],
   "source": [
    "zip_model = bmb.Model(\n",
    "                        formula,\n",
    "                        fish_data,\n",
    "                        family = 'zero_inflated_poisson'\n",
    ")"
   ]
  },
  {
   "cell_type": "code",
   "execution_count": 13,
   "id": "9137d8e0-f8dd-46a9-bc3e-2576e9eb51e2",
   "metadata": {
    "tags": []
   },
   "outputs": [
    {
     "name": "stderr",
     "output_type": "stream",
     "text": [
      "Auto-assigning NUTS sampler...\n",
      "Initializing NUTS using jitter+adapt_diag...\n",
      "Multiprocess sampling (4 chains in 4 jobs)\n",
      "NUTS: [Intercept, livebait, camper, persons, child, psi_Intercept, psi_livebait, psi_camper, psi_persons, psi_child]\n"
     ]
    },
    {
     "data": {
      "text/html": [
       "\n",
       "<style>\n",
       "    /* Turns off some styling */\n",
       "    progress {\n",
       "        /* gets rid of default border in Firefox and Opera. */\n",
       "        border: none;\n",
       "        /* Needs to be in here for Safari polyfill so background images work as expected. */\n",
       "        background-size: auto;\n",
       "    }\n",
       "    progress:not([value]), progress:not([value])::-webkit-progress-bar {\n",
       "        background: repeating-linear-gradient(45deg, #7e7e7e, #7e7e7e 10px, #5c5c5c 10px, #5c5c5c 20px);\n",
       "    }\n",
       "    .progress-bar-interrupted, .progress-bar-interrupted::-webkit-progress-bar {\n",
       "        background: #F44336;\n",
       "    }\n",
       "</style>\n"
      ],
      "text/plain": [
       "<IPython.core.display.HTML object>"
      ]
     },
     "metadata": {},
     "output_type": "display_data"
    },
    {
     "data": {
      "text/html": [
       "\n",
       "    <div>\n",
       "      <progress value='8000' class='' max='8000' style='width:300px; height:20px; vertical-align: middle;'></progress>\n",
       "      100.00% [8000/8000 00:17&lt;00:00 Sampling 4 chains, 0 divergences]\n",
       "    </div>\n",
       "    "
      ],
      "text/plain": [
       "<IPython.core.display.HTML object>"
      ]
     },
     "metadata": {},
     "output_type": "display_data"
    },
    {
     "name": "stderr",
     "output_type": "stream",
     "text": [
      "Sampling 4 chains for 1_000 tune and 1_000 draw iterations (4_000 + 4_000 draws total) took 49 seconds.\n"
     ]
    }
   ],
   "source": [
    "zip_idata = zip_model.fit(\n",
    "    draws=1000, \n",
    "    target_accept=0.95, \n",
    "    random_seed=1234, \n",
    "    chains=4\n",
    ")"
   ]
  },
  {
   "cell_type": "code",
   "execution_count": 14,
   "id": "6f36c09f-3f3e-4c18-8930-5e84dc7c321b",
   "metadata": {
    "tags": []
   },
   "outputs": [
    {
     "data": {
      "text/plain": [
       "       Formula: count ~ livebait + camper + persons + child\n",
       "                psi ~ livebait + camper + persons + child\n",
       "        Family: zero_inflated_poisson\n",
       "          Link: mu = log\n",
       "                psi = logit\n",
       "  Observations: 248\n",
       "        Priors: \n",
       "    target = mu\n",
       "        Common-level effects\n",
       "            Intercept ~ Normal(mu: 0.0, sigma: 9.5283)\n",
       "            livebait ~ Normal(mu: 0.0, sigma: 7.2685)\n",
       "            camper ~ Normal(mu: 0.0, sigma: 5.0733)\n",
       "            persons ~ Normal(mu: 0.0, sigma: 2.2583)\n",
       "            child ~ Normal(mu: 0.0, sigma: 2.9419)\n",
       "    target = psi\n",
       "        Common-level effects\n",
       "            psi_Intercept ~ Normal(mu: 0.0, sigma: 1.0)\n",
       "            psi_livebait ~ Normal(mu: 0.0, sigma: 1.0)\n",
       "            psi_camper ~ Normal(mu: 0.0, sigma: 1.0)\n",
       "            psi_persons ~ Normal(mu: 0.0, sigma: 1.0)\n",
       "            psi_child ~ Normal(mu: 0.0, sigma: 1.0)\n",
       "------\n",
       "* To see a plot of the priors call the .plot_priors() method.\n",
       "* To see a summary or plot of the posterior pass the object returned by .fit() to az.summary() or az.plot_trace()"
      ]
     },
     "execution_count": 14,
     "metadata": {},
     "output_type": "execute_result"
    }
   ],
   "source": [
    "zip_model"
   ]
  },
  {
   "cell_type": "code",
   "execution_count": 15,
   "id": "df38b5b2-3b4a-4283-a161-4fa9e97d3095",
   "metadata": {
    "tags": []
   },
   "outputs": [
    {
     "data": {
      "image/svg+xml": [
       "<?xml version=\"1.0\" encoding=\"UTF-8\" standalone=\"no\"?>\n",
       "<!DOCTYPE svg PUBLIC \"-//W3C//DTD SVG 1.1//EN\"\n",
       " \"http://www.w3.org/Graphics/SVG/1.1/DTD/svg11.dtd\">\n",
       "<!-- Generated by graphviz version 8.1.0 (0)\n",
       " -->\n",
       "<!-- Pages: 1 -->\n",
       "<svg width=\"818pt\" height=\"397pt\"\n",
       " viewBox=\"0.00 0.00 818.39 397.45\" xmlns=\"http://www.w3.org/2000/svg\" xmlns:xlink=\"http://www.w3.org/1999/xlink\">\n",
       "<g id=\"graph0\" class=\"graph\" transform=\"scale(1 1) rotate(0) translate(4 393.45)\">\n",
       "<polygon fill=\"white\" stroke=\"none\" points=\"-4,4 -4,-393.45 814.39,-393.45 814.39,4 -4,4\"/>\n",
       "<g id=\"clust1\" class=\"cluster\">\n",
       "<title>clusterlivebait_dim (1)</title>\n",
       "<path fill=\"none\" stroke=\"black\" d=\"M598.39,-129.82C598.39,-129.82 678.39,-129.82 678.39,-129.82 684.39,-129.82 690.39,-135.82 690.39,-141.82 690.39,-141.82 690.39,-239.63 690.39,-239.63 690.39,-245.63 684.39,-251.63 678.39,-251.63 678.39,-251.63 598.39,-251.63 598.39,-251.63 592.39,-251.63 586.39,-245.63 586.39,-239.63 586.39,-239.63 586.39,-141.82 586.39,-141.82 586.39,-135.82 592.39,-129.82 598.39,-129.82\"/>\n",
       "<text text-anchor=\"middle\" x=\"638.14\" y=\"-137.02\" font-family=\"Times New Roman,serif\" font-size=\"14.00\">livebait_dim (1)</text>\n",
       "</g>\n",
       "<g id=\"clust3\" class=\"cluster\">\n",
       "<title>clusterpsi_livebait_dim (1)</title>\n",
       "<path fill=\"none\" stroke=\"black\" d=\"M385.39,-259.63C385.39,-259.63 489.39,-259.63 489.39,-259.63 495.39,-259.63 501.39,-265.63 501.39,-271.63 501.39,-271.63 501.39,-369.45 501.39,-369.45 501.39,-375.45 495.39,-381.45 489.39,-381.45 489.39,-381.45 385.39,-381.45 385.39,-381.45 379.39,-381.45 373.39,-375.45 373.39,-369.45 373.39,-369.45 373.39,-271.63 373.39,-271.63 373.39,-265.63 379.39,-259.63 385.39,-259.63\"/>\n",
       "<text text-anchor=\"middle\" x=\"437.89\" y=\"-266.83\" font-family=\"Times New Roman,serif\" font-size=\"14.00\">psi_livebait_dim (1)</text>\n",
       "</g>\n",
       "<g id=\"clust2\" class=\"cluster\">\n",
       "<title>clustercamper_dim (1)</title>\n",
       "<path fill=\"none\" stroke=\"black\" d=\"M710.39,-129.82C710.39,-129.82 790.39,-129.82 790.39,-129.82 796.39,-129.82 802.39,-135.82 802.39,-141.82 802.39,-141.82 802.39,-239.63 802.39,-239.63 802.39,-245.63 796.39,-251.63 790.39,-251.63 790.39,-251.63 710.39,-251.63 710.39,-251.63 704.39,-251.63 698.39,-245.63 698.39,-239.63 698.39,-239.63 698.39,-141.82 698.39,-141.82 698.39,-135.82 704.39,-129.82 710.39,-129.82\"/>\n",
       "<text text-anchor=\"middle\" x=\"750.14\" y=\"-137.02\" font-family=\"Times New Roman,serif\" font-size=\"14.00\">camper_dim (1)</text>\n",
       "</g>\n",
       "<g id=\"clust5\" class=\"cluster\">\n",
       "<title>clustercount_obs (248)</title>\n",
       "<path fill=\"none\" stroke=\"black\" d=\"M228.39,-8C228.39,-8 376.39,-8 376.39,-8 382.39,-8 388.39,-14 388.39,-20 388.39,-20 388.39,-227.73 388.39,-227.73 388.39,-233.73 382.39,-239.73 376.39,-239.73 376.39,-239.73 228.39,-239.73 228.39,-239.73 222.39,-239.73 216.39,-233.73 216.39,-227.73 216.39,-227.73 216.39,-20 216.39,-20 216.39,-14 222.39,-8 228.39,-8\"/>\n",
       "<text text-anchor=\"middle\" x=\"336.14\" y=\"-15.2\" font-family=\"Times New Roman,serif\" font-size=\"14.00\">count_obs (248)</text>\n",
       "</g>\n",
       "<g id=\"clust4\" class=\"cluster\">\n",
       "<title>clusterpsi_camper_dim (1)</title>\n",
       "<path fill=\"none\" stroke=\"black\" d=\"M521.39,-259.63C521.39,-259.63 625.39,-259.63 625.39,-259.63 631.39,-259.63 637.39,-265.63 637.39,-271.63 637.39,-271.63 637.39,-369.45 637.39,-369.45 637.39,-375.45 631.39,-381.45 625.39,-381.45 625.39,-381.45 521.39,-381.45 521.39,-381.45 515.39,-381.45 509.39,-375.45 509.39,-369.45 509.39,-369.45 509.39,-271.63 509.39,-271.63 509.39,-265.63 515.39,-259.63 521.39,-259.63\"/>\n",
       "<text text-anchor=\"middle\" x=\"573.89\" y=\"-266.83\" font-family=\"Times New Roman,serif\" font-size=\"14.00\">psi_camper_dim (1)</text>\n",
       "</g>\n",
       "<!-- Intercept -->\n",
       "<g id=\"node1\" class=\"node\">\n",
       "<title>Intercept</title>\n",
       "<ellipse fill=\"none\" stroke=\"black\" cx=\"163.39\" cy=\"-202.98\" rx=\"45.25\" ry=\"40.66\"/>\n",
       "<text text-anchor=\"middle\" x=\"163.39\" y=\"-214.43\" font-family=\"Times New Roman,serif\" font-size=\"14.00\">Intercept</text>\n",
       "<text text-anchor=\"middle\" x=\"163.39\" y=\"-197.93\" font-family=\"Times New Roman,serif\" font-size=\"14.00\">~</text>\n",
       "<text text-anchor=\"middle\" x=\"163.39\" y=\"-181.43\" font-family=\"Times New Roman,serif\" font-size=\"14.00\">Normal</text>\n",
       "</g>\n",
       "<!-- count -->\n",
       "<g id=\"node12\" class=\"node\">\n",
       "<title>count</title>\n",
       "<ellipse fill=\"lightgrey\" stroke=\"black\" cx=\"302.39\" cy=\"-81.16\" rx=\"78.14\" ry=\"40.66\"/>\n",
       "<text text-anchor=\"middle\" x=\"302.39\" y=\"-92.61\" font-family=\"Times New Roman,serif\" font-size=\"14.00\">count</text>\n",
       "<text text-anchor=\"middle\" x=\"302.39\" y=\"-76.11\" font-family=\"Times New Roman,serif\" font-size=\"14.00\">~</text>\n",
       "<text text-anchor=\"middle\" x=\"302.39\" y=\"-59.61\" font-family=\"Times New Roman,serif\" font-size=\"14.00\">MarginalMixture</text>\n",
       "</g>\n",
       "<!-- Intercept&#45;&gt;count -->\n",
       "<g id=\"edge9\" class=\"edge\">\n",
       "<title>Intercept&#45;&gt;count</title>\n",
       "<path fill=\"none\" stroke=\"black\" d=\"M183,-165.88C190.97,-153.41 201,-140.02 212.39,-129.82 219.02,-123.88 226.51,-118.44 234.28,-113.52\"/>\n",
       "<polygon fill=\"black\" stroke=\"black\" points=\"235.72,-116.14 242.5,-108 232.12,-110.14 235.72,-116.14\"/>\n",
       "</g>\n",
       "<!-- psi_persons -->\n",
       "<g id=\"node2\" class=\"node\">\n",
       "<title>psi_persons</title>\n",
       "<ellipse fill=\"none\" stroke=\"black\" cx=\"56.39\" cy=\"-332.79\" rx=\"56.39\" ry=\"40.66\"/>\n",
       "<text text-anchor=\"middle\" x=\"56.39\" y=\"-344.24\" font-family=\"Times New Roman,serif\" font-size=\"14.00\">psi_persons</text>\n",
       "<text text-anchor=\"middle\" x=\"56.39\" y=\"-327.74\" font-family=\"Times New Roman,serif\" font-size=\"14.00\">~</text>\n",
       "<text text-anchor=\"middle\" x=\"56.39\" y=\"-311.24\" font-family=\"Times New Roman,serif\" font-size=\"14.00\">Normal</text>\n",
       "</g>\n",
       "<!-- psi -->\n",
       "<g id=\"node11\" class=\"node\">\n",
       "<title>psi</title>\n",
       "<polygon fill=\"none\" stroke=\"black\" points=\"347.52,-231.73 257.27,-231.73 257.27,-174.23 347.52,-174.23 347.52,-231.73\"/>\n",
       "<text text-anchor=\"middle\" x=\"302.39\" y=\"-214.43\" font-family=\"Times New Roman,serif\" font-size=\"14.00\">psi</text>\n",
       "<text text-anchor=\"middle\" x=\"302.39\" y=\"-197.93\" font-family=\"Times New Roman,serif\" font-size=\"14.00\">~</text>\n",
       "<text text-anchor=\"middle\" x=\"302.39\" y=\"-181.43\" font-family=\"Times New Roman,serif\" font-size=\"14.00\">Deterministic</text>\n",
       "</g>\n",
       "<!-- psi_persons&#45;&gt;psi -->\n",
       "<g id=\"edge3\" class=\"edge\">\n",
       "<title>psi_persons&#45;&gt;psi</title>\n",
       "<path fill=\"none\" stroke=\"black\" d=\"M80.26,-295.82C91.36,-282.09 105.79,-267.8 122.39,-259.63 160.42,-240.94 176.88,-264.06 217.39,-251.63 228.66,-248.18 240.09,-243.07 250.76,-237.47\"/>\n",
       "<polygon fill=\"black\" stroke=\"black\" points=\"252.24,-240.11 259.32,-232.23 248.87,-233.97 252.24,-240.11\"/>\n",
       "</g>\n",
       "<!-- psi_child -->\n",
       "<g id=\"node3\" class=\"node\">\n",
       "<title>psi_child</title>\n",
       "<ellipse fill=\"none\" stroke=\"black\" cx=\"177.39\" cy=\"-332.79\" rx=\"46.32\" ry=\"40.66\"/>\n",
       "<text text-anchor=\"middle\" x=\"177.39\" y=\"-344.24\" font-family=\"Times New Roman,serif\" font-size=\"14.00\">psi_child</text>\n",
       "<text text-anchor=\"middle\" x=\"177.39\" y=\"-327.74\" font-family=\"Times New Roman,serif\" font-size=\"14.00\">~</text>\n",
       "<text text-anchor=\"middle\" x=\"177.39\" y=\"-311.24\" font-family=\"Times New Roman,serif\" font-size=\"14.00\">Normal</text>\n",
       "</g>\n",
       "<!-- psi_child&#45;&gt;psi -->\n",
       "<g id=\"edge4\" class=\"edge\">\n",
       "<title>psi_child&#45;&gt;psi</title>\n",
       "<path fill=\"none\" stroke=\"black\" d=\"M200.95,-297.33C210.13,-284.9 221.15,-271.11 232.39,-259.63 239.33,-252.55 247.17,-245.53 255.02,-238.99\"/>\n",
       "<polygon fill=\"black\" stroke=\"black\" points=\"256.95,-241.12 262.51,-232.1 252.54,-235.69 256.95,-241.12\"/>\n",
       "</g>\n",
       "<!-- child -->\n",
       "<g id=\"node4\" class=\"node\">\n",
       "<title>child</title>\n",
       "<ellipse fill=\"none\" stroke=\"black\" cx=\"437.39\" cy=\"-202.98\" rx=\"41.01\" ry=\"40.66\"/>\n",
       "<text text-anchor=\"middle\" x=\"437.39\" y=\"-214.43\" font-family=\"Times New Roman,serif\" font-size=\"14.00\">child</text>\n",
       "<text text-anchor=\"middle\" x=\"437.39\" y=\"-197.93\" font-family=\"Times New Roman,serif\" font-size=\"14.00\">~</text>\n",
       "<text text-anchor=\"middle\" x=\"437.39\" y=\"-181.43\" font-family=\"Times New Roman,serif\" font-size=\"14.00\">Normal</text>\n",
       "</g>\n",
       "<!-- child&#45;&gt;count -->\n",
       "<g id=\"edge6\" class=\"edge\">\n",
       "<title>child&#45;&gt;count</title>\n",
       "<path fill=\"none\" stroke=\"black\" d=\"M419.88,-165.83C412.61,-153.36 403.3,-139.98 392.39,-129.82 385.98,-123.84 378.67,-118.39 371.06,-113.49\"/>\n",
       "<polygon fill=\"black\" stroke=\"black\" points=\"373.38,-110.19 363.01,-107.98 369.74,-116.17 373.38,-110.19\"/>\n",
       "</g>\n",
       "<!-- persons -->\n",
       "<g id=\"node5\" class=\"node\">\n",
       "<title>persons</title>\n",
       "<ellipse fill=\"none\" stroke=\"black\" cx=\"537.39\" cy=\"-202.98\" rx=\"41.01\" ry=\"40.66\"/>\n",
       "<text text-anchor=\"middle\" x=\"537.39\" y=\"-214.43\" font-family=\"Times New Roman,serif\" font-size=\"14.00\">persons</text>\n",
       "<text text-anchor=\"middle\" x=\"537.39\" y=\"-197.93\" font-family=\"Times New Roman,serif\" font-size=\"14.00\">~</text>\n",
       "<text text-anchor=\"middle\" x=\"537.39\" y=\"-181.43\" font-family=\"Times New Roman,serif\" font-size=\"14.00\">Normal</text>\n",
       "</g>\n",
       "<!-- persons&#45;&gt;count -->\n",
       "<g id=\"edge7\" class=\"edge\">\n",
       "<title>persons&#45;&gt;count</title>\n",
       "<path fill=\"none\" stroke=\"black\" d=\"M519.66,-166.2C511.5,-153.01 500.65,-139.05 487.39,-129.82 458.78,-109.89 422.48,-98.29 389.62,-91.54\"/>\n",
       "<polygon fill=\"black\" stroke=\"black\" points=\"390.56,-87.97 380.08,-89.52 389.24,-94.84 390.56,-87.97\"/>\n",
       "</g>\n",
       "<!-- psi_Intercept -->\n",
       "<g id=\"node6\" class=\"node\">\n",
       "<title>psi_Intercept</title>\n",
       "<ellipse fill=\"none\" stroke=\"black\" cx=\"302.39\" cy=\"-332.79\" rx=\"61.16\" ry=\"40.66\"/>\n",
       "<text text-anchor=\"middle\" x=\"302.39\" y=\"-344.24\" font-family=\"Times New Roman,serif\" font-size=\"14.00\">psi_Intercept</text>\n",
       "<text text-anchor=\"middle\" x=\"302.39\" y=\"-327.74\" font-family=\"Times New Roman,serif\" font-size=\"14.00\">~</text>\n",
       "<text text-anchor=\"middle\" x=\"302.39\" y=\"-311.24\" font-family=\"Times New Roman,serif\" font-size=\"14.00\">Normal</text>\n",
       "</g>\n",
       "<!-- psi_Intercept&#45;&gt;psi -->\n",
       "<g id=\"edge5\" class=\"edge\">\n",
       "<title>psi_Intercept&#45;&gt;psi</title>\n",
       "<path fill=\"none\" stroke=\"black\" d=\"M302.39,-291.7C302.39,-276.15 302.39,-258.4 302.39,-242.95\"/>\n",
       "<polygon fill=\"black\" stroke=\"black\" points=\"305.89,-243.18 302.39,-233.18 298.89,-243.18 305.89,-243.18\"/>\n",
       "</g>\n",
       "<!-- livebait -->\n",
       "<g id=\"node7\" class=\"node\">\n",
       "<title>livebait</title>\n",
       "<ellipse fill=\"none\" stroke=\"black\" cx=\"637.39\" cy=\"-202.98\" rx=\"41.01\" ry=\"40.66\"/>\n",
       "<text text-anchor=\"middle\" x=\"637.39\" y=\"-214.43\" font-family=\"Times New Roman,serif\" font-size=\"14.00\">livebait</text>\n",
       "<text text-anchor=\"middle\" x=\"637.39\" y=\"-197.93\" font-family=\"Times New Roman,serif\" font-size=\"14.00\">~</text>\n",
       "<text text-anchor=\"middle\" x=\"637.39\" y=\"-181.43\" font-family=\"Times New Roman,serif\" font-size=\"14.00\">Normal</text>\n",
       "</g>\n",
       "<!-- livebait&#45;&gt;count -->\n",
       "<g id=\"edge10\" class=\"edge\">\n",
       "<title>livebait&#45;&gt;count</title>\n",
       "<path fill=\"none\" stroke=\"black\" d=\"M620.06,-165.6C611.95,-152.33 601.03,-138.47 587.39,-129.82 555.36,-109.5 461.71,-96.55 390.42,-89.36\"/>\n",
       "<polygon fill=\"black\" stroke=\"black\" points=\"390.93,-85.8 380.63,-88.3 390.24,-92.76 390.93,-85.8\"/>\n",
       "</g>\n",
       "<!-- camper -->\n",
       "<g id=\"node8\" class=\"node\">\n",
       "<title>camper</title>\n",
       "<ellipse fill=\"none\" stroke=\"black\" cx=\"747.39\" cy=\"-202.98\" rx=\"41.01\" ry=\"40.66\"/>\n",
       "<text text-anchor=\"middle\" x=\"747.39\" y=\"-214.43\" font-family=\"Times New Roman,serif\" font-size=\"14.00\">camper</text>\n",
       "<text text-anchor=\"middle\" x=\"747.39\" y=\"-197.93\" font-family=\"Times New Roman,serif\" font-size=\"14.00\">~</text>\n",
       "<text text-anchor=\"middle\" x=\"747.39\" y=\"-181.43\" font-family=\"Times New Roman,serif\" font-size=\"14.00\">Normal</text>\n",
       "</g>\n",
       "<!-- camper&#45;&gt;count -->\n",
       "<g id=\"edge8\" class=\"edge\">\n",
       "<title>camper&#45;&gt;count</title>\n",
       "<path fill=\"none\" stroke=\"black\" d=\"M729.26,-166.01C720.58,-152.46 708.88,-138.29 694.39,-129.82 644.62,-100.71 491.04,-89.28 391.54,-84.86\"/>\n",
       "<polygon fill=\"black\" stroke=\"black\" points=\"391.73,-81.32 381.59,-84.39 391.43,-88.32 391.73,-81.32\"/>\n",
       "</g>\n",
       "<!-- psi_livebait -->\n",
       "<g id=\"node9\" class=\"node\">\n",
       "<title>psi_livebait</title>\n",
       "<ellipse fill=\"none\" stroke=\"black\" cx=\"437.39\" cy=\"-332.79\" rx=\"55.86\" ry=\"40.66\"/>\n",
       "<text text-anchor=\"middle\" x=\"437.39\" y=\"-344.24\" font-family=\"Times New Roman,serif\" font-size=\"14.00\">psi_livebait</text>\n",
       "<text text-anchor=\"middle\" x=\"437.39\" y=\"-327.74\" font-family=\"Times New Roman,serif\" font-size=\"14.00\">~</text>\n",
       "<text text-anchor=\"middle\" x=\"437.39\" y=\"-311.24\" font-family=\"Times New Roman,serif\" font-size=\"14.00\">Normal</text>\n",
       "</g>\n",
       "<!-- psi_livebait&#45;&gt;psi -->\n",
       "<g id=\"edge2\" class=\"edge\">\n",
       "<title>psi_livebait&#45;&gt;psi</title>\n",
       "<path fill=\"none\" stroke=\"black\" d=\"M408.73,-297.66C397.78,-285.26 384.92,-271.42 372.39,-259.63 364.92,-252.61 356.64,-245.5 348.48,-238.83\"/>\n",
       "<polygon fill=\"black\" stroke=\"black\" points=\"351.03,-235.58 341.04,-232.05 346.64,-241.04 351.03,-235.58\"/>\n",
       "</g>\n",
       "<!-- psi_camper -->\n",
       "<g id=\"node10\" class=\"node\">\n",
       "<title>psi_camper</title>\n",
       "<ellipse fill=\"none\" stroke=\"black\" cx=\"573.39\" cy=\"-332.79\" rx=\"55.86\" ry=\"40.66\"/>\n",
       "<text text-anchor=\"middle\" x=\"573.39\" y=\"-344.24\" font-family=\"Times New Roman,serif\" font-size=\"14.00\">psi_camper</text>\n",
       "<text text-anchor=\"middle\" x=\"573.39\" y=\"-327.74\" font-family=\"Times New Roman,serif\" font-size=\"14.00\">~</text>\n",
       "<text text-anchor=\"middle\" x=\"573.39\" y=\"-311.24\" font-family=\"Times New Roman,serif\" font-size=\"14.00\">Normal</text>\n",
       "</g>\n",
       "<!-- psi_camper&#45;&gt;psi -->\n",
       "<g id=\"edge1\" class=\"edge\">\n",
       "<title>psi_camper&#45;&gt;psi</title>\n",
       "<path fill=\"none\" stroke=\"black\" d=\"M548.97,-296.05C537.47,-282.18 522.51,-267.72 505.39,-259.63 481.63,-248.41 412.58,-259.13 387.39,-251.63 375.85,-248.2 364.16,-242.99 353.3,-237.26\"/>\n",
       "<polygon fill=\"black\" stroke=\"black\" points=\"355.43,-233.89 344.98,-232.13 352.05,-240.02 355.43,-233.89\"/>\n",
       "</g>\n",
       "<!-- psi&#45;&gt;count -->\n",
       "<g id=\"edge11\" class=\"edge\">\n",
       "<title>psi&#45;&gt;count</title>\n",
       "<path fill=\"none\" stroke=\"black\" d=\"M302.39,-173.88C302.39,-161.54 302.39,-146.65 302.39,-132.5\"/>\n",
       "<polygon fill=\"black\" stroke=\"black\" points=\"305.89,-132.87 302.39,-122.87 298.89,-132.87 305.89,-132.87\"/>\n",
       "</g>\n",
       "</g>\n",
       "</svg>\n"
      ],
      "text/plain": [
       "<graphviz.graphs.Digraph at 0x1d58efca790>"
      ]
     },
     "execution_count": 15,
     "metadata": {},
     "output_type": "execute_result"
    }
   ],
   "source": [
    "zip_model.graph()"
   ]
  },
  {
   "cell_type": "code",
   "execution_count": 16,
   "id": "4c67632d-7f55-4bc1-ac67-09774d3919fb",
   "metadata": {
    "tags": []
   },
   "outputs": [
    {
     "data": {
      "text/html": [
       "<div>\n",
       "<style scoped>\n",
       "    .dataframe tbody tr th:only-of-type {\n",
       "        vertical-align: middle;\n",
       "    }\n",
       "\n",
       "    .dataframe tbody tr th {\n",
       "        vertical-align: top;\n",
       "    }\n",
       "\n",
       "    .dataframe thead th {\n",
       "        text-align: right;\n",
       "    }\n",
       "</style>\n",
       "<table border=\"1\" class=\"dataframe\">\n",
       "  <thead>\n",
       "    <tr style=\"text-align: right;\">\n",
       "      <th></th>\n",
       "      <th>mean</th>\n",
       "      <th>sd</th>\n",
       "      <th>hdi_3%</th>\n",
       "      <th>hdi_97%</th>\n",
       "      <th>mcse_mean</th>\n",
       "      <th>mcse_sd</th>\n",
       "      <th>ess_bulk</th>\n",
       "      <th>ess_tail</th>\n",
       "      <th>r_hat</th>\n",
       "    </tr>\n",
       "  </thead>\n",
       "  <tbody>\n",
       "    <tr>\n",
       "      <th>Intercept</th>\n",
       "      <td>-1.573</td>\n",
       "      <td>0.310</td>\n",
       "      <td>-2.130</td>\n",
       "      <td>-0.956</td>\n",
       "      <td>0.005</td>\n",
       "      <td>0.004</td>\n",
       "      <td>3593.0</td>\n",
       "      <td>3173.0</td>\n",
       "      <td>1.0</td>\n",
       "    </tr>\n",
       "    <tr>\n",
       "      <th>livebait[1.0]</th>\n",
       "      <td>1.609</td>\n",
       "      <td>0.272</td>\n",
       "      <td>1.143</td>\n",
       "      <td>2.169</td>\n",
       "      <td>0.004</td>\n",
       "      <td>0.003</td>\n",
       "      <td>4158.0</td>\n",
       "      <td>3085.0</td>\n",
       "      <td>1.0</td>\n",
       "    </tr>\n",
       "    <tr>\n",
       "      <th>camper[1.0]</th>\n",
       "      <td>0.262</td>\n",
       "      <td>0.095</td>\n",
       "      <td>0.085</td>\n",
       "      <td>0.440</td>\n",
       "      <td>0.001</td>\n",
       "      <td>0.001</td>\n",
       "      <td>5032.0</td>\n",
       "      <td>2816.0</td>\n",
       "      <td>1.0</td>\n",
       "    </tr>\n",
       "    <tr>\n",
       "      <th>persons</th>\n",
       "      <td>0.615</td>\n",
       "      <td>0.045</td>\n",
       "      <td>0.527</td>\n",
       "      <td>0.697</td>\n",
       "      <td>0.001</td>\n",
       "      <td>0.000</td>\n",
       "      <td>4864.0</td>\n",
       "      <td>2709.0</td>\n",
       "      <td>1.0</td>\n",
       "    </tr>\n",
       "    <tr>\n",
       "      <th>child</th>\n",
       "      <td>-0.795</td>\n",
       "      <td>0.094</td>\n",
       "      <td>-0.972</td>\n",
       "      <td>-0.625</td>\n",
       "      <td>0.002</td>\n",
       "      <td>0.001</td>\n",
       "      <td>3910.0</td>\n",
       "      <td>3232.0</td>\n",
       "      <td>1.0</td>\n",
       "    </tr>\n",
       "    <tr>\n",
       "      <th>psi_Intercept</th>\n",
       "      <td>-1.443</td>\n",
       "      <td>0.817</td>\n",
       "      <td>-2.941</td>\n",
       "      <td>0.124</td>\n",
       "      <td>0.013</td>\n",
       "      <td>0.009</td>\n",
       "      <td>4253.0</td>\n",
       "      <td>3018.0</td>\n",
       "      <td>1.0</td>\n",
       "    </tr>\n",
       "    <tr>\n",
       "      <th>psi_livebait[1.0]</th>\n",
       "      <td>-0.188</td>\n",
       "      <td>0.677</td>\n",
       "      <td>-1.490</td>\n",
       "      <td>1.052</td>\n",
       "      <td>0.010</td>\n",
       "      <td>0.011</td>\n",
       "      <td>4470.0</td>\n",
       "      <td>2776.0</td>\n",
       "      <td>1.0</td>\n",
       "    </tr>\n",
       "    <tr>\n",
       "      <th>psi_camper[1.0]</th>\n",
       "      <td>0.841</td>\n",
       "      <td>0.323</td>\n",
       "      <td>0.222</td>\n",
       "      <td>1.437</td>\n",
       "      <td>0.004</td>\n",
       "      <td>0.003</td>\n",
       "      <td>6002.0</td>\n",
       "      <td>3114.0</td>\n",
       "      <td>1.0</td>\n",
       "    </tr>\n",
       "    <tr>\n",
       "      <th>psi_persons</th>\n",
       "      <td>0.912</td>\n",
       "      <td>0.193</td>\n",
       "      <td>0.571</td>\n",
       "      <td>1.288</td>\n",
       "      <td>0.003</td>\n",
       "      <td>0.002</td>\n",
       "      <td>4145.0</td>\n",
       "      <td>3169.0</td>\n",
       "      <td>1.0</td>\n",
       "    </tr>\n",
       "    <tr>\n",
       "      <th>psi_child</th>\n",
       "      <td>-1.890</td>\n",
       "      <td>0.305</td>\n",
       "      <td>-2.502</td>\n",
       "      <td>-1.353</td>\n",
       "      <td>0.005</td>\n",
       "      <td>0.003</td>\n",
       "      <td>4022.0</td>\n",
       "      <td>2883.0</td>\n",
       "      <td>1.0</td>\n",
       "    </tr>\n",
       "  </tbody>\n",
       "</table>\n",
       "</div>"
      ],
      "text/plain": [
       "                    mean     sd  hdi_3%  hdi_97%  mcse_mean  mcse_sd  \\\n",
       "Intercept         -1.573  0.310  -2.130   -0.956      0.005    0.004   \n",
       "livebait[1.0]      1.609  0.272   1.143    2.169      0.004    0.003   \n",
       "camper[1.0]        0.262  0.095   0.085    0.440      0.001    0.001   \n",
       "persons            0.615  0.045   0.527    0.697      0.001    0.000   \n",
       "child             -0.795  0.094  -0.972   -0.625      0.002    0.001   \n",
       "psi_Intercept     -1.443  0.817  -2.941    0.124      0.013    0.009   \n",
       "psi_livebait[1.0] -0.188  0.677  -1.490    1.052      0.010    0.011   \n",
       "psi_camper[1.0]    0.841  0.323   0.222    1.437      0.004    0.003   \n",
       "psi_persons        0.912  0.193   0.571    1.288      0.003    0.002   \n",
       "psi_child         -1.890  0.305  -2.502   -1.353      0.005    0.003   \n",
       "\n",
       "                   ess_bulk  ess_tail  r_hat  \n",
       "Intercept            3593.0    3173.0    1.0  \n",
       "livebait[1.0]        4158.0    3085.0    1.0  \n",
       "camper[1.0]          5032.0    2816.0    1.0  \n",
       "persons              4864.0    2709.0    1.0  \n",
       "child                3910.0    3232.0    1.0  \n",
       "psi_Intercept        4253.0    3018.0    1.0  \n",
       "psi_livebait[1.0]    4470.0    2776.0    1.0  \n",
       "psi_camper[1.0]      6002.0    3114.0    1.0  \n",
       "psi_persons          4145.0    3169.0    1.0  \n",
       "psi_child            4022.0    2883.0    1.0  "
      ]
     },
     "execution_count": 16,
     "metadata": {},
     "output_type": "execute_result"
    }
   ],
   "source": [
    "az.summary(\n",
    "    zip_idata, \n",
    "    var_names=[\"Intercept\", \"livebait\", \"camper\", \"persons\", \"child\"], \n",
    "    filter_vars=\"like\"\n",
    ")"
   ]
  },
  {
   "cell_type": "code",
   "execution_count": 17,
   "id": "6f2d5e20-7845-41fb-b779-cc100b42cc2a",
   "metadata": {
    "tags": []
   },
   "outputs": [
    {
     "data": {
      "image/png": "[encoded data removed]",
      "text/plain": [
       "<Figure size 1000x300 with 2 Axes>"
      ]
     },
     "metadata": {},
     "output_type": "display_data"
    }
   ],
   "source": [
    "fig, ax = plt.subplots(nrows=1, ncols=2, figsize=(10, 3))\n",
    "\n",
    "bmb.interpret.plot_predictions(\n",
    "    zip_model,\n",
    "    zip_idata,\n",
    "    covariates=\"persons\",\n",
    "    ax=ax[0]\n",
    ")\n",
    "ax[0].set_ylabel(\"mu (fish count)\")\n",
    "ax[0].set_title(\"$\\\\mu$ as a function of persons\")\n",
    "\n",
    "bmb.interpret.plot_predictions(\n",
    "    zip_model,\n",
    "    zip_idata,\n",
    "    covariates=\"persons\",\n",
    "    target=\"psi\",\n",
    "    ax=ax[1]\n",
    ")\n",
    "ax[1].set_title(\"$\\\\psi$ as a function of persons\");"
   ]
  },
  {
   "cell_type": "markdown",
   "id": "caff1df3-fb6c-4ef1-a931-a23e553b1316",
   "metadata": {
    "tags": []
   },
   "source": [
    "## Hurdle regression model"
   ]
  },
  {
   "cell_type": "code",
   "execution_count": 18,
   "id": "bd03c613-38d3-46ed-8e6c-e4d09c42a5e9",
   "metadata": {
    "tags": []
   },
   "outputs": [],
   "source": [
    "hurdle_formula = bmb.Formula(\n",
    "                                \"count ~ livebait + camper + persons + child\", # parent parameter mu\n",
    "                                \"psi ~ livebait + camper + persons + child\"    # non-parent parameter psi\n",
    ")"
   ]
  },
  {
   "cell_type": "code",
   "execution_count": 19,
   "id": "25eb39de-7af2-4300-8a3d-58efa92a3082",
   "metadata": {
    "tags": []
   },
   "outputs": [],
   "source": [
    "hurdle_model = bmb.Model(\n",
    "    hurdle_formula, \n",
    "    fish_data, \n",
    "    family='hurdle_poisson'\n",
    ")"
   ]
  },
  {
   "cell_type": "code",
   "execution_count": 20,
   "id": "995e7b4c-fcb8-42a8-9b1b-b744a52a110a",
   "metadata": {
    "tags": []
   },
   "outputs": [
    {
     "name": "stderr",
     "output_type": "stream",
     "text": [
      "Auto-assigning NUTS sampler...\n",
      "Initializing NUTS using jitter+adapt_diag...\n",
      "Multiprocess sampling (4 chains in 4 jobs)\n",
      "NUTS: [Intercept, livebait, camper, persons, child, psi_Intercept, psi_livebait, psi_camper, psi_persons, psi_child]\n"
     ]
    },
    {
     "data": {
      "text/html": [
       "\n",
       "<style>\n",
       "    /* Turns off some styling */\n",
       "    progress {\n",
       "        /* gets rid of default border in Firefox and Opera. */\n",
       "        border: none;\n",
       "        /* Needs to be in here for Safari polyfill so background images work as expected. */\n",
       "        background-size: auto;\n",
       "    }\n",
       "    progress:not([value]), progress:not([value])::-webkit-progress-bar {\n",
       "        background: repeating-linear-gradient(45deg, #7e7e7e, #7e7e7e 10px, #5c5c5c 10px, #5c5c5c 20px);\n",
       "    }\n",
       "    .progress-bar-interrupted, .progress-bar-interrupted::-webkit-progress-bar {\n",
       "        background: #F44336;\n",
       "    }\n",
       "</style>\n"
      ],
      "text/plain": [
       "<IPython.core.display.HTML object>"
      ]
     },
     "metadata": {},
     "output_type": "display_data"
    },
    {
     "data": {
      "text/html": [
       "\n",
       "    <div>\n",
       "      <progress value='8000' class='' max='8000' style='width:300px; height:20px; vertical-align: middle;'></progress>\n",
       "      100.00% [8000/8000 00:21&lt;00:00 Sampling 4 chains, 0 divergences]\n",
       "    </div>\n",
       "    "
      ],
      "text/plain": [
       "<IPython.core.display.HTML object>"
      ]
     },
     "metadata": {},
     "output_type": "display_data"
    },
    {
     "name": "stderr",
     "output_type": "stream",
     "text": [
      "Sampling 4 chains for 1_000 tune and 1_000 draw iterations (4_000 + 4_000 draws total) took 50 seconds.\n"
     ]
    }
   ],
   "source": [
    "hurdle_idata = hurdle_model.fit(\n",
    "    draws=1000, \n",
    "    target_accept=0.95, \n",
    "    random_seed=1234, \n",
    "    chains=4\n",
    ")"
   ]
  },
  {
   "cell_type": "code",
   "execution_count": 21,
   "id": "5777f2ac-5f9b-426d-889b-87bab335ce04",
   "metadata": {
    "tags": []
   },
   "outputs": [
    {
     "data": {
      "text/html": [
       "<div>\n",
       "<style scoped>\n",
       "    .dataframe tbody tr th:only-of-type {\n",
       "        vertical-align: middle;\n",
       "    }\n",
       "\n",
       "    .dataframe tbody tr th {\n",
       "        vertical-align: top;\n",
       "    }\n",
       "\n",
       "    .dataframe thead th {\n",
       "        text-align: right;\n",
       "    }\n",
       "</style>\n",
       "<table border=\"1\" class=\"dataframe\">\n",
       "  <thead>\n",
       "    <tr style=\"text-align: right;\">\n",
       "      <th></th>\n",
       "      <th>mean</th>\n",
       "      <th>sd</th>\n",
       "      <th>hdi_3%</th>\n",
       "      <th>hdi_97%</th>\n",
       "      <th>mcse_mean</th>\n",
       "      <th>mcse_sd</th>\n",
       "      <th>ess_bulk</th>\n",
       "      <th>ess_tail</th>\n",
       "      <th>r_hat</th>\n",
       "    </tr>\n",
       "  </thead>\n",
       "  <tbody>\n",
       "    <tr>\n",
       "      <th>Intercept</th>\n",
       "      <td>-1.615</td>\n",
       "      <td>0.363</td>\n",
       "      <td>-2.278</td>\n",
       "      <td>-0.915</td>\n",
       "      <td>0.006</td>\n",
       "      <td>0.005</td>\n",
       "      <td>3832.0</td>\n",
       "      <td>2121.0</td>\n",
       "      <td>1.0</td>\n",
       "    </tr>\n",
       "    <tr>\n",
       "      <th>livebait[1.0]</th>\n",
       "      <td>1.661</td>\n",
       "      <td>0.329</td>\n",
       "      <td>1.031</td>\n",
       "      <td>2.273</td>\n",
       "      <td>0.005</td>\n",
       "      <td>0.004</td>\n",
       "      <td>4149.0</td>\n",
       "      <td>1871.0</td>\n",
       "      <td>1.0</td>\n",
       "    </tr>\n",
       "    <tr>\n",
       "      <th>camper[1.0]</th>\n",
       "      <td>0.271</td>\n",
       "      <td>0.100</td>\n",
       "      <td>0.073</td>\n",
       "      <td>0.449</td>\n",
       "      <td>0.001</td>\n",
       "      <td>0.001</td>\n",
       "      <td>6843.0</td>\n",
       "      <td>2934.0</td>\n",
       "      <td>1.0</td>\n",
       "    </tr>\n",
       "    <tr>\n",
       "      <th>persons</th>\n",
       "      <td>0.610</td>\n",
       "      <td>0.045</td>\n",
       "      <td>0.533</td>\n",
       "      <td>0.700</td>\n",
       "      <td>0.001</td>\n",
       "      <td>0.000</td>\n",
       "      <td>4848.0</td>\n",
       "      <td>3196.0</td>\n",
       "      <td>1.0</td>\n",
       "    </tr>\n",
       "    <tr>\n",
       "      <th>child</th>\n",
       "      <td>-0.791</td>\n",
       "      <td>0.094</td>\n",
       "      <td>-0.970</td>\n",
       "      <td>-0.618</td>\n",
       "      <td>0.001</td>\n",
       "      <td>0.001</td>\n",
       "      <td>4371.0</td>\n",
       "      <td>3006.0</td>\n",
       "      <td>1.0</td>\n",
       "    </tr>\n",
       "    <tr>\n",
       "      <th>psi_Intercept</th>\n",
       "      <td>-2.780</td>\n",
       "      <td>0.583</td>\n",
       "      <td>-3.906</td>\n",
       "      <td>-1.715</td>\n",
       "      <td>0.008</td>\n",
       "      <td>0.006</td>\n",
       "      <td>4929.0</td>\n",
       "      <td>3258.0</td>\n",
       "      <td>1.0</td>\n",
       "    </tr>\n",
       "    <tr>\n",
       "      <th>psi_livebait[1.0]</th>\n",
       "      <td>0.764</td>\n",
       "      <td>0.427</td>\n",
       "      <td>-0.067</td>\n",
       "      <td>1.557</td>\n",
       "      <td>0.006</td>\n",
       "      <td>0.005</td>\n",
       "      <td>5721.0</td>\n",
       "      <td>2779.0</td>\n",
       "      <td>1.0</td>\n",
       "    </tr>\n",
       "    <tr>\n",
       "      <th>psi_camper[1.0]</th>\n",
       "      <td>0.849</td>\n",
       "      <td>0.298</td>\n",
       "      <td>0.283</td>\n",
       "      <td>1.378</td>\n",
       "      <td>0.004</td>\n",
       "      <td>0.003</td>\n",
       "      <td>5523.0</td>\n",
       "      <td>2855.0</td>\n",
       "      <td>1.0</td>\n",
       "    </tr>\n",
       "    <tr>\n",
       "      <th>psi_persons</th>\n",
       "      <td>1.040</td>\n",
       "      <td>0.183</td>\n",
       "      <td>0.719</td>\n",
       "      <td>1.396</td>\n",
       "      <td>0.003</td>\n",
       "      <td>0.002</td>\n",
       "      <td>3852.0</td>\n",
       "      <td>3007.0</td>\n",
       "      <td>1.0</td>\n",
       "    </tr>\n",
       "    <tr>\n",
       "      <th>psi_child</th>\n",
       "      <td>-2.003</td>\n",
       "      <td>0.282</td>\n",
       "      <td>-2.555</td>\n",
       "      <td>-1.517</td>\n",
       "      <td>0.004</td>\n",
       "      <td>0.003</td>\n",
       "      <td>4021.0</td>\n",
       "      <td>3183.0</td>\n",
       "      <td>1.0</td>\n",
       "    </tr>\n",
       "  </tbody>\n",
       "</table>\n",
       "</div>"
      ],
      "text/plain": [
       "                    mean     sd  hdi_3%  hdi_97%  mcse_mean  mcse_sd  \\\n",
       "Intercept         -1.615  0.363  -2.278   -0.915      0.006    0.005   \n",
       "livebait[1.0]      1.661  0.329   1.031    2.273      0.005    0.004   \n",
       "camper[1.0]        0.271  0.100   0.073    0.449      0.001    0.001   \n",
       "persons            0.610  0.045   0.533    0.700      0.001    0.000   \n",
       "child             -0.791  0.094  -0.970   -0.618      0.001    0.001   \n",
       "psi_Intercept     -2.780  0.583  -3.906   -1.715      0.008    0.006   \n",
       "psi_livebait[1.0]  0.764  0.427  -0.067    1.557      0.006    0.005   \n",
       "psi_camper[1.0]    0.849  0.298   0.283    1.378      0.004    0.003   \n",
       "psi_persons        1.040  0.183   0.719    1.396      0.003    0.002   \n",
       "psi_child         -2.003  0.282  -2.555   -1.517      0.004    0.003   \n",
       "\n",
       "                   ess_bulk  ess_tail  r_hat  \n",
       "Intercept            3832.0    2121.0    1.0  \n",
       "livebait[1.0]        4149.0    1871.0    1.0  \n",
       "camper[1.0]          6843.0    2934.0    1.0  \n",
       "persons              4848.0    3196.0    1.0  \n",
       "child                4371.0    3006.0    1.0  \n",
       "psi_Intercept        4929.0    3258.0    1.0  \n",
       "psi_livebait[1.0]    5721.0    2779.0    1.0  \n",
       "psi_camper[1.0]      5523.0    2855.0    1.0  \n",
       "psi_persons          3852.0    3007.0    1.0  \n",
       "psi_child            4021.0    3183.0    1.0  "
      ]
     },
     "execution_count": 21,
     "metadata": {},
     "output_type": "execute_result"
    }
   ],
   "source": [
    "az.summary(\n",
    "    hurdle_idata,\n",
    "    var_names=[\"Intercept\", \"livebait\", \"camper\", \"persons\", \"child\"], \n",
    "    filter_vars=\"like\"\n",
    ")"
   ]
  },
  {
   "cell_type": "code",
   "execution_count": 26,
   "id": "f59c904f-2035-4bbf-841f-289e7ec4a978",
   "metadata": {
    "tags": []
   },
   "outputs": [],
   "source": [
    "def adjust_lightness(color, amount=0.5):\n",
    "    import matplotlib.colors as mc\n",
    "    import colorsys\n",
    "    try:\n",
    "        c = mc.cnames[color]\n",
    "    except:\n",
    "        c = color\n",
    "    c = colorsys.rgb_to_hls(*mc.to_rgb(c))\n",
    "    return colorsys.hls_to_rgb(c[0], c[1] * amount, c[2])\n",
    "\n",
    "def plot_ppc_discrete(idata, bins, ax):\n",
    "    \n",
    "    def add_discrete_bands(x, lower, upper, ax, **kwargs):\n",
    "        for i, (l, u) in enumerate(zip(lower, upper)):\n",
    "            s = slice(i, i + 2)\n",
    "            ax.fill_between(x[s], [l, l], [u, u], **kwargs)\n",
    "\n",
    "    var_name = list(idata.observed_data.data_vars)[0]\n",
    "    y_obs = idata.observed_data[var_name].to_numpy()\n",
    "    \n",
    "    counts_list = []\n",
    "    for draw_values in az.extract(idata, \"posterior_predictive\")[var_name].to_numpy().T:\n",
    "        counts, _ = np.histogram(draw_values, bins=bins)\n",
    "        counts_list.append(counts)\n",
    "    counts_arr = np.stack(counts_list)\n",
    "\n",
    "    qts_90 = np.quantile(counts_arr, (0.05, 0.95), axis=0)\n",
    "    qts_70 = np.quantile(counts_arr, (0.15, 0.85), axis=0)\n",
    "    qts_50 = np.quantile(counts_arr, (0.25, 0.75), axis=0)\n",
    "    qts_30 = np.quantile(counts_arr, (0.35, 0.65), axis=0)\n",
    "    median = np.quantile(counts_arr, 0.5, axis=0)\n",
    "\n",
    "    colors = [adjust_lightness(\"C0\", x) for x in [1.8, 1.6, 1.4, 1.2, 0.9]]\n",
    "\n",
    "    add_discrete_bands(bins, qts_90[0], qts_90[1], ax=ax, color=colors[0])\n",
    "    add_discrete_bands(bins, qts_70[0], qts_70[1], ax=ax, color=colors[1])\n",
    "    add_discrete_bands(bins, qts_50[0], qts_50[1], ax=ax, color=colors[2])\n",
    "    add_discrete_bands(bins, qts_30[0], qts_30[1], ax=ax, color=colors[3])\n",
    "\n",
    "    \n",
    "    ax.step(bins[:-1], median, color=colors[4], lw=2, where=\"post\")\n",
    "    ax.hist(y_obs, bins=bins, histtype=\"step\", lw=2, color=\"black\", align=\"mid\")\n",
    "    handles = [\n",
    "        Line2D([], [], label=\"Observed data\", color=\"black\", lw=2),\n",
    "        Line2D([], [], label=\"Posterior predictive median\", color=colors[4], lw=2)\n",
    "    ]\n",
    "    ax.legend(handles=handles)\n",
    "    return ax"
   ]
  },
  {
   "cell_type": "code",
   "execution_count": 24,
   "id": "0a1ada80-bad4-4f35-a1ec-76348b95d8a2",
   "metadata": {
    "tags": []
   },
   "outputs": [],
   "source": [
    "hurdle_pps = hurdle_model.predict(idata=hurdle_idata, kind=\"pps\", inplace=False)"
   ]
  },
  {
   "cell_type": "code",
   "execution_count": 25,
   "id": "f74b7b78-eb9e-4e43-9227-c42cd82cb169",
   "metadata": {
    "tags": []
   },
   "outputs": [],
   "source": [
    "bins = np.arange(39)"
   ]
  },
  {
   "cell_type": "code",
   "execution_count": 28,
   "id": "bf268eb2-8751-4729-892f-ae85fa0a2c39",
   "metadata": {
    "tags": []
   },
   "outputs": [
    {
     "data": {
      "image/png": "[encoded data removed]",
      "text/plain": [
       "<Figure size 700x300 with 1 Axes>"
      ]
     },
     "metadata": {},
     "output_type": "display_data"
    }
   ],
   "source": [
    "fig, ax = plt.subplots(figsize=(7, 3))\n",
    "ax = plot_ppc_discrete(hurdle_pps, bins, ax)\n",
    "ax.set_xlabel(\"Number of Fish Caught\")\n",
    "ax.set_ylabel(\"Count\")\n",
    "ax.set_title(\"Hurdle Model - Posterior Predictive Distribution\");"
   ]
  }
 ],
 "metadata": {
  "kernelspec": {
   "display_name": "Python 3 (ipykernel)",
   "language": "python",
   "name": "python3"
  },
  "language_info": {
   "codemirror_mode": {
    "name": "ipython",
    "version": 3
   },
   "file_extension": ".py",
   "mimetype": "text/x-python",
   "name": "python",
   "nbconvert_exporter": "python",
   "pygments_lexer": "ipython3",
   "version": "3.11.6"
  }
 },
 "nbformat": 4,
 "nbformat_minor": 5
}
