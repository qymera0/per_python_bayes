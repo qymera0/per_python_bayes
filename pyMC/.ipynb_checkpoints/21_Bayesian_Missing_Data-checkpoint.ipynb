{
 "cells": [
  {
   "cell_type": "markdown",
   "id": "b4af619c-6d36-4f49-b166-f8db92b1de73",
   "metadata": {},
   "source": [
    "# Bayesian Missing Data Imputation"
   ]
  },
  {
   "cell_type": "markdown",
   "id": "5eac5c1f-d99f-4eef-bbc4-5ea40187ba2a",
   "metadata": {},
   "source": [
    "## Loading libraries"
   ]
  },
  {
   "cell_type": "code",
   "execution_count": 1,
   "id": "42d37063-93f3-4f10-a7e9-8d9b24d21832",
   "metadata": {},
   "outputs": [],
   "source": [
    "import random\n",
    "\n",
    "import arviz as az\n",
    "import matplotlib.cm as cm\n",
    "import matplotlib.pyplot as plt\n",
    "import numpy as np\n",
    "import pandas as pd\n",
    "import pymc as pm\n",
    "import scipy.optimize\n",
    "\n",
    "from matplotlib.lines import Line2D\n",
    "from pymc.sampling.jax import sample_blackjax_nuts, sample_numpyro_nuts\n",
    "from scipy.stats import multivariate_normal"
   ]
  },
  {
   "cell_type": "code",
   "execution_count": 2,
   "id": "a6db10f6-0bfd-46d6-80e1-e65fc1a1c0ea",
   "metadata": {},
   "outputs": [],
   "source": [
    "%config InlineBackend.figure_format = 'retina'  # high resolution figures\n",
    "az.style.use(\"arviz-darkgrid\")\n",
    "rng = np.random.default_rng(42)"
   ]
  },
  {
   "cell_type": "code",
   "execution_count": null,
   "id": "79d07384-b638-4ce3-98e6-edfe49579caf",
   "metadata": {},
   "outputs": [],
   "source": []
  }
 ],
 "metadata": {
  "kernelspec": {
   "display_name": "Python 3 (ipykernel)",
   "language": "python",
   "name": "python3"
  },
  "language_info": {
   "codemirror_mode": {
    "name": "ipython",
    "version": 3
   },
   "file_extension": ".py",
   "mimetype": "text/x-python",
   "name": "python",
   "nbconvert_exporter": "python",
   "pygments_lexer": "ipython3",
   "version": "3.11.6"
  }
 },
 "nbformat": 4,
 "nbformat_minor": 5
}
