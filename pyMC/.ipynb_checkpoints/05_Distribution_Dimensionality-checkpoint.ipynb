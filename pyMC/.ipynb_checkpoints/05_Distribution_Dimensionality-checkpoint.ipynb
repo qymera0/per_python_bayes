{
 "cells": [
  {
   "cell_type": "markdown",
   "id": "3086fd39-2b43-4b64-92ee-9467ab07aaec",
   "metadata": {},
   "source": [
    "# DISTRIBUTION DIMENSIONALITY"
   ]
  },
  {
   "cell_type": "markdown",
   "id": "a1412100-0233-4659-a1a9-a11954aa82e9",
   "metadata": {},
   "source": [
    "## Load libraries"
   ]
  },
  {
   "cell_type": "code",
   "execution_count": 1,
   "id": "227345a4-89c5-4e47-91f5-7a562e19e334",
   "metadata": {},
   "outputs": [
    {
     "name": "stderr",
     "output_type": "stream",
     "text": [
      "WARNING (pytensor.tensor.blas): Using NumPy C-API based implementation for BLAS functions.\n"
     ]
    }
   ],
   "source": [
    "from functools import partial\n",
    "\n",
    "import pymc as pm\n",
    "import numpy as np\n",
    "import pytensor.tensor as pt"
   ]
  },
  {
   "cell_type": "markdown",
   "id": "09224b61-a294-48b8-a5e9-9628f4b4da7c",
   "metadata": {},
   "source": [
    "## Univariate distribution example"
   ]
  },
  {
   "cell_type": "code",
   "execution_count": 2,
   "id": "8adb8dd7-4840-4fc7-a58e-13d5f33d00b9",
   "metadata": {},
   "outputs": [],
   "source": [
    "normal_dist = pm.Normal.dist()"
   ]
  },
  {
   "cell_type": "code",
   "execution_count": 3,
   "id": "ab37d4aa-c8d5-47ac-a1c5-defc081dbfb6",
   "metadata": {},
   "outputs": [],
   "source": [
    "# Just patching the draw function for reproducibility\n",
    "rng = np.random.default_rng(seed = sum(map(ord, 'dimensionality')))"
   ]
  },
  {
   "cell_type": "code",
   "execution_count": 6,
   "id": "b61a739c-5930-4a4f-80ac-441c94521552",
   "metadata": {},
   "outputs": [],
   "source": [
    "draw = partial(pm.draw, random_seed = rng)"
   ]
  },
  {
   "cell_type": "code",
   "execution_count": 9,
   "id": "31e9fce9-aba7-463a-8b99-fc467126f2f6",
   "metadata": {},
   "outputs": [
    {
     "data": {
      "text/plain": [
       "(array(0.98810294), 0)"
      ]
     },
     "execution_count": 9,
     "metadata": {},
     "output_type": "execute_result"
    }
   ],
   "source": [
    "normal_draw = draw(normal_dist)\n",
    "\n",
    "normal_draw, normal_draw.ndim"
   ]
  },
  {
   "cell_type": "code",
   "execution_count": 10,
   "id": "bb2606dc-a674-44a9-a7fc-c1312f8f0e59",
   "metadata": {},
   "outputs": [
    {
     "data": {
      "text/plain": [
       "0"
      ]
     },
     "execution_count": 10,
     "metadata": {},
     "output_type": "execute_result"
    }
   ],
   "source": [
    "normal_dist.owner.op.ndim_supp"
   ]
  },
  {
   "cell_type": "markdown",
   "id": "a781ceaf-3a72-4ba1-be17-9cfc9ea1c68e",
   "metadata": {},
   "source": [
    "## Explicit batch dimensions"
   ]
  },
  {
   "cell_type": "code",
   "execution_count": 13,
   "id": "d0a8c5e0-ed31-43a6-bf44-c14d49e66556",
   "metadata": {},
   "outputs": [
    {
     "data": {
      "text/plain": [
       "array([ 0.81833093, -1.20771815, -1.57321429])"
      ]
     },
     "execution_count": 13,
     "metadata": {},
     "output_type": "execute_result"
    }
   ],
   "source": [
    "normal_dists = pm.math.stack([pm.Normal.dist() for _ in range(3)])\n",
    "draw(normal_dists)"
   ]
  },
  {
   "cell_type": "code",
   "execution_count": 15,
   "id": "22fc7d12-23aa-4b57-918f-0cd895eab0a5",
   "metadata": {},
   "outputs": [
    {
     "data": {
      "text/plain": [
       "array([-1.00245596,  0.98739732,  0.42147186])"
      ]
     },
     "execution_count": 15,
     "metadata": {},
     "output_type": "execute_result"
    }
   ],
   "source": [
    "normal_dists = pm.Normal.dist(shape = (3, ))\n",
    "draw(normal_dists)"
   ]
  },
  {
   "cell_type": "code",
   "execution_count": 16,
   "id": "dc34a25b-3ebf-432d-9635-6f2c2de6b12a",
   "metadata": {},
   "outputs": [
    {
     "data": {
      "text/plain": [
       "array([[ 0.06413633,  0.29893485, -2.48072495],\n",
       "       [ 0.40366984,  1.39930982, -1.45070547],\n",
       "       [-1.59553347,  0.6762147 , -0.08635607],\n",
       "       [-0.59883178, -2.88933325,  0.13339571]])"
      ]
     },
     "execution_count": 16,
     "metadata": {},
     "output_type": "execute_result"
    }
   ],
   "source": [
    "normal_dists = pm.Normal.dist(shape=(4, 3))\n",
    "draw(normal_dists)"
   ]
  },
  {
   "cell_type": "code",
   "execution_count": null,
   "id": "0c637d05-41bc-4f38-8ef1-7b2185b3380b",
   "metadata": {},
   "outputs": [],
   "source": []
  }
 ],
 "metadata": {
  "kernelspec": {
   "display_name": "Python 3 (ipykernel)",
   "language": "python",
   "name": "python3"
  },
  "language_info": {
   "codemirror_mode": {
    "name": "ipython",
    "version": 3
   },
   "file_extension": ".py",
   "mimetype": "text/x-python",
   "name": "python",
   "nbconvert_exporter": "python",
   "pygments_lexer": "ipython3",
   "version": "3.11.4"
  }
 },
 "nbformat": 4,
 "nbformat_minor": 5
}
